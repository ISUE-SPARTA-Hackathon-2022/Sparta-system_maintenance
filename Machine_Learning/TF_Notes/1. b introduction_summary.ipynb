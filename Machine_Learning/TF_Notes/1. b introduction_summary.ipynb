{
 "cells": [
  {
   "cell_type": "markdown",
   "metadata": {},
   "source": [
    "# Fundamentals Understanding Tensorflow Library\n"
   ]
  },
  {
   "cell_type": "code",
   "execution_count": 2,
   "metadata": {},
   "outputs": [],
   "source": [
    "import tensorflow as tf\n",
    "import numpy as np"
   ]
  },
  {
   "cell_type": "markdown",
   "metadata": {},
   "source": [
    "## Basic"
   ]
  },
  {
   "cell_type": "code",
   "execution_count": 6,
   "metadata": {},
   "outputs": [],
   "source": [
    "# importing library of the tensorflow\n",
    "import tensorflow as tf"
   ]
  },
  {
   "cell_type": "code",
   "execution_count": 4,
   "metadata": {},
   "outputs": [
    {
     "name": "stdout",
     "output_type": "stream",
     "text": [
      "2.9.1\n"
     ]
    }
   ],
   "source": [
    "# checking installed version of the tenrsoflow(other libraries)\n",
    "print(tf.__version__)"
   ]
  },
  {
   "cell_type": "code",
   "execution_count": 6,
   "metadata": {},
   "outputs": [
    {
     "data": {
      "text/plain": [
       "(<tf.Tensor: shape=(), dtype=int32, numpy=7>,\n",
       " <tf.Variable 'Variable:0' shape=() dtype=int32, numpy=10>)"
      ]
     },
     "execution_count": 6,
     "metadata": {},
     "output_type": "execute_result"
    }
   ],
   "source": [
    "# creating constant tensor\n",
    "const_v = tf.constant(7)\n",
    "\n",
    "# creating dynamic tensor\n",
    "dyna_v = tf.Variable(10)\n",
    "\n",
    "const_v, dyna_v"
   ]
  },
  {
   "cell_type": "code",
   "execution_count": 127,
   "metadata": {},
   "outputs": [
    {
     "data": {
      "text/plain": [
       "(<tf.Variable 'Variable:0' shape=(10,) dtype=int32, numpy=array([ 1,  2,  3,  4,  5,  6,  7,  8,  9, 10])>,\n",
       " <tf.Variable 'Variable:0' shape=(2, 3) dtype=int32, numpy=\n",
       " array([[1, 2, 3],\n",
       "        [4, 5, 6]])>,\n",
       " <tf.Variable 'Variable:0' shape=(2, 3, 3) dtype=int32, numpy=\n",
       " array([[[ 1,  2,  3],\n",
       "         [ 4,  5,  6],\n",
       "         [ 6,  7,  8]],\n",
       " \n",
       "        [[ 9, 10, 11],\n",
       "         [12, 13, 14],\n",
       "         [15, 16, 17]]])>,\n",
       " <tf.Variable 'Variable:0' shape=(2, 3, 3, 2) dtype=int32, numpy=\n",
       " array([[[[ 1,  2],\n",
       "          [ 3,  4],\n",
       "          [ 5,  6]],\n",
       " \n",
       "         [[ 7,  8],\n",
       "          [ 9, 10],\n",
       "          [11, 12]],\n",
       " \n",
       "         [[13, 14],\n",
       "          [15, 16],\n",
       "          [17, 18]]],\n",
       " \n",
       " \n",
       "        [[[19, 20],\n",
       "          [21, 22],\n",
       "          [23, 24]],\n",
       " \n",
       "         [[25, 26],\n",
       "          [27, 28],\n",
       "          [29, 30]],\n",
       " \n",
       "         [[31, 32],\n",
       "          [33, 34],\n",
       "          [35, 36]]]])>)"
      ]
     },
     "execution_count": 127,
     "metadata": {},
     "output_type": "execute_result"
    }
   ],
   "source": [
    "# creating different levels of tensor\n",
    "  # hard coded version\n",
    "  \n",
    "scalar_v = tf.Variable([1,2,3,4,5,6,7,8,9,10])\n",
    "\n",
    "vector_v = tf.Variable([\n",
    "  [1,2,3],\n",
    "  [4,5,6]\n",
    "])\n",
    "\n",
    "matrix_v = tf.Variable([\n",
    "  [\n",
    "    [1,2,3],\n",
    "    [4,5,6],\n",
    "    [6,7,8]\n",
    "  ],\n",
    "  [\n",
    "    [9,10,11],\n",
    "    [12,13,14],\n",
    "    [15,16,17]\n",
    "  ]\n",
    "])\n",
    "tensor_v = tf.Variable([\n",
    "  [\n",
    "    [\n",
    "      [1,2],\n",
    "      [3,4],\n",
    "      [5,6]\n",
    "    ],\n",
    "    [\n",
    "      [7,8],\n",
    "      [9,10],\n",
    "      [11,12]\n",
    "    ],\n",
    "    [\n",
    "      [13,14],\n",
    "      [15,16],\n",
    "      [17,18]\n",
    "    ]\n",
    "  ],\n",
    "  [\n",
    "    [\n",
    "      [19,20],\n",
    "      [21,22],\n",
    "      [23,24]\n",
    "    ],\n",
    "    [\n",
    "      [25,26],\n",
    "      [27,28],\n",
    "      [29,30]\n",
    "    ],\n",
    "    [\n",
    "      [31,32],\n",
    "      [33,34],\n",
    "      [35,36]\n",
    "    ]\n",
    "  ]\n",
    "])\n",
    "\n",
    "scalar_v, vector_v, matrix_v, tensor_v"
   ]
  },
  {
   "cell_type": "code",
   "execution_count": 128,
   "metadata": {},
   "outputs": [
    {
     "name": "stdout",
     "output_type": "stream",
     "text": [
      "--- Scalar ---\n",
      "Dimension :  1\n",
      "Data type : <dtype: 'int32'>\n",
      "Shape : (10,)\n",
      "Total number of elements in our tensor : tf.Tensor(10, shape=(), dtype=int32)\n",
      "\n",
      "\n",
      "--- Vectors ---\n",
      "Dimension :  2\n",
      "Data type : <dtype: 'int32'>\n",
      "Shape : (2, 3)\n",
      "Total number of elements in our tensor : tf.Tensor(6, shape=(), dtype=int32)\n",
      "\n",
      "\n",
      "--- Matrix ---\n",
      "Dimension :  3\n",
      "Data type : <dtype: 'int32'>\n",
      "Shape : (2, 3, 3)\n",
      "Total number of elements in our tensor : tf.Tensor(18, shape=(), dtype=int32)\n",
      "\n",
      "\n",
      "--- Tensor of 4 ---\n",
      "Dimension :  4\n",
      "Data type : <dtype: 'int32'>\n",
      "Shape : (2, 3, 3, 2)\n",
      "Total number of elements in our tensor : tf.Tensor(36, shape=(), dtype=int32)\n",
      "\n",
      "\n"
     ]
    }
   ],
   "source": [
    "# collecting certain data of the tensor variable\n",
    "print(\"--- Scalar ---\")\n",
    "print(\"Dimension : \", tf.constant(scalar_v).ndim)\n",
    "print(\"Data type :\", scalar_v.dtype)\n",
    "print(\"Shape :\", scalar_v.shape)\n",
    "print(\"Total number of elements in our tensor :\", tf.size(scalar_v))\n",
    "print(\"\\n\")\n",
    "\n",
    "print(\"--- Vectors ---\")\n",
    "print(\"Dimension : \", tf.constant(vector_v).ndim)\n",
    "print(\"Data type :\", vector_v.dtype)\n",
    "print(\"Shape :\", vector_v.shape)\n",
    "print(\"Total number of elements in our tensor :\", tf.size(vector_v))\n",
    "print(\"\\n\")\n",
    "\n",
    "print(\"--- Matrix ---\")\n",
    "print(\"Dimension : \", tf.constant(matrix_v).ndim)\n",
    "print(\"Data type :\", matrix_v.dtype)\n",
    "print(\"Shape :\", matrix_v.shape)\n",
    "print(\"Total number of elements in our tensor :\", tf.size(matrix_v))\n",
    "print(\"\\n\")\n",
    "\n",
    "print(\"--- Tensor of 4 ---\")\n",
    "print(\"Dimension : \", tf.constant(tensor_v).ndim)\n",
    "print(\"Data type :\", tensor_v.dtype)\n",
    "print(\"Shape :\", tensor_v.shape)\n",
    "print(\"Total number of elements in our tensor :\", tf.size(tensor_v))\n",
    "print(\"\\n\")"
   ]
  },
  {
   "cell_type": "code",
   "execution_count": 25,
   "metadata": {},
   "outputs": [
    {
     "data": {
      "text/plain": [
       "(<tf.Variable 'Variable:0' shape=(3,) dtype=string, numpy=array([b'abc', b'def', b'ghi'], dtype=object)>,\n",
       " <tf.Variable 'Variable:0' shape=(3,) dtype=float32, numpy=array([1. , 1.1, 1.2], dtype=float32)>)"
      ]
     },
     "execution_count": 25,
     "metadata": {},
     "output_type": "execute_result"
    }
   ],
   "source": [
    "# using other automated datatype\n",
    "string_v = tf.Variable([\"abc\",\"def\",\"ghi\"])\n",
    "float_v = tf.Variable([1.0, 1.1, 1.2])\n",
    "\n",
    "string_v, float_v"
   ]
  },
  {
   "cell_type": "code",
   "execution_count": 31,
   "metadata": {},
   "outputs": [
    {
     "name": "stdout",
     "output_type": "stream",
     "text": [
      "<tf.Variable 'Variable:0' shape=(3, 3) dtype=float32, numpy=\n",
      "array([[1., 2., 3.],\n",
      "       [4., 5., 6.],\n",
      "       [6., 7., 8.]], dtype=float32)>\n"
     ]
    },
    {
     "ename": "TypeError",
     "evalue": "Cannot convert [[1.0, 1.1, 1.2], [2.0, 2.1, 2.2]] to EagerTensor of dtype int32",
     "output_type": "error",
     "traceback": [
      "\u001b[1;31m---------------------------------------------------------------------------\u001b[0m",
      "\u001b[1;31mTypeError\u001b[0m                                 Traceback (most recent call last)",
      "\u001b[1;32md:\\Codes\\TensorFlow\\Zero to Mastery\\introduction_review1.ipynb Cell 8'\u001b[0m in \u001b[0;36m<cell line: 12>\u001b[1;34m()\u001b[0m\n\u001b[0;32m      <a href='vscode-notebook-cell:/d%3A/Codes/TensorFlow/Zero%20to%20Mastery/introduction_review1.ipynb#ch0000010?line=8'>9</a>\u001b[0m \u001b[39mprint\u001b[39m(float_vdc)\n\u001b[0;32m     <a href='vscode-notebook-cell:/d%3A/Codes/TensorFlow/Zero%20to%20Mastery/introduction_review1.ipynb#ch0000010?line=10'>11</a>\u001b[0m   \u001b[39m# but float to int has process and can't be direct\u001b[39;00m\n\u001b[1;32m---> <a href='vscode-notebook-cell:/d%3A/Codes/TensorFlow/Zero%20to%20Mastery/introduction_review1.ipynb#ch0000010?line=11'>12</a>\u001b[0m int_vdc \u001b[39m=\u001b[39m tf\u001b[39m.\u001b[39;49mVariable([\n\u001b[0;32m     <a href='vscode-notebook-cell:/d%3A/Codes/TensorFlow/Zero%20to%20Mastery/introduction_review1.ipynb#ch0000010?line=12'>13</a>\u001b[0m   [\u001b[39m1.0\u001b[39;49m,\u001b[39m1.1\u001b[39;49m,\u001b[39m1.2\u001b[39;49m],\n\u001b[0;32m     <a href='vscode-notebook-cell:/d%3A/Codes/TensorFlow/Zero%20to%20Mastery/introduction_review1.ipynb#ch0000010?line=13'>14</a>\u001b[0m   [\u001b[39m2.0\u001b[39;49m,\u001b[39m2.1\u001b[39;49m,\u001b[39m2.2\u001b[39;49m]\n\u001b[0;32m     <a href='vscode-notebook-cell:/d%3A/Codes/TensorFlow/Zero%20to%20Mastery/introduction_review1.ipynb#ch0000010?line=14'>15</a>\u001b[0m ], dtype\u001b[39m=\u001b[39;49mtf\u001b[39m.\u001b[39;49mint32)\n\u001b[0;32m     <a href='vscode-notebook-cell:/d%3A/Codes/TensorFlow/Zero%20to%20Mastery/introduction_review1.ipynb#ch0000010?line=16'>17</a>\u001b[0m \u001b[39mprint\u001b[39m(int_vdc)\n",
      "File \u001b[1;32md:\\Codes\\TensorFlow\\Zero to Mastery\\z2m\\lib\\site-packages\\tensorflow\\python\\util\\traceback_utils.py:153\u001b[0m, in \u001b[0;36mfilter_traceback.<locals>.error_handler\u001b[1;34m(*args, **kwargs)\u001b[0m\n\u001b[0;32m    151\u001b[0m \u001b[39mexcept\u001b[39;00m \u001b[39mException\u001b[39;00m \u001b[39mas\u001b[39;00m e:\n\u001b[0;32m    152\u001b[0m   filtered_tb \u001b[39m=\u001b[39m _process_traceback_frames(e\u001b[39m.\u001b[39m__traceback__)\n\u001b[1;32m--> 153\u001b[0m   \u001b[39mraise\u001b[39;00m e\u001b[39m.\u001b[39mwith_traceback(filtered_tb) \u001b[39mfrom\u001b[39;00m \u001b[39mNone\u001b[39m\n\u001b[0;32m    154\u001b[0m \u001b[39mfinally\u001b[39;00m:\n\u001b[0;32m    155\u001b[0m   \u001b[39mdel\u001b[39;00m filtered_tb\n",
      "File \u001b[1;32md:\\Codes\\TensorFlow\\Zero to Mastery\\z2m\\lib\\site-packages\\tensorflow\\python\\framework\\constant_op.py:102\u001b[0m, in \u001b[0;36mconvert_to_eager_tensor\u001b[1;34m(value, ctx, dtype)\u001b[0m\n\u001b[0;32m    100\u001b[0m     dtype \u001b[39m=\u001b[39m dtypes\u001b[39m.\u001b[39mas_dtype(dtype)\u001b[39m.\u001b[39mas_datatype_enum\n\u001b[0;32m    101\u001b[0m ctx\u001b[39m.\u001b[39mensure_initialized()\n\u001b[1;32m--> 102\u001b[0m \u001b[39mreturn\u001b[39;00m ops\u001b[39m.\u001b[39;49mEagerTensor(value, ctx\u001b[39m.\u001b[39;49mdevice_name, dtype)\n",
      "\u001b[1;31mTypeError\u001b[0m: Cannot convert [[1.0, 1.1, 1.2], [2.0, 2.1, 2.2]] to EagerTensor of dtype int32"
     ]
    }
   ],
   "source": [
    "# setting user defined data type\n",
    "  # direct int to float is valid\n",
    "float_vdc = tf.Variable([\n",
    "  [1,2,3],\n",
    "  [4,5,6],\n",
    "  [6,7,8]\n",
    "], dtype=tf.float32)\n",
    "\n",
    "print(float_vdc)\n",
    "\n",
    "  # but float to int has process and can't be direct\n",
    "int_vdc = tf.Variable([\n",
    "  [1.0,1.1,1.2],\n",
    "  [2.0,2.1,2.2]\n",
    "], dtype=tf.int32)\n",
    "\n",
    "print(int_vdc)"
   ]
  },
  {
   "cell_type": "code",
   "execution_count": 38,
   "metadata": {},
   "outputs": [
    {
     "name": "stdout",
     "output_type": "stream",
     "text": [
      "<tf.Variable 'Variable:0' shape=(5,) dtype=int32, numpy=array([1, 2, 3, 4, 5])>\n",
      "Change\n",
      "<tf.Variable 'UnreadVariable' shape=(5,) dtype=int32, numpy=array([100,   2,   3,   4,   5])>\n",
      "tf.Tensor([1 2 3 4 5], shape=(5,), dtype=int32)\n",
      "\n",
      "\n",
      "Error appear, can't be change\n"
     ]
    },
    {
     "ename": "AttributeError",
     "evalue": "'tensorflow.python.framework.ops.EagerTensor' object has no attribute 'assign'",
     "output_type": "error",
     "traceback": [
      "\u001b[1;31m---------------------------------------------------------------------------\u001b[0m",
      "\u001b[1;31mAttributeError\u001b[0m                            Traceback (most recent call last)",
      "\u001b[1;32md:\\Codes\\TensorFlow\\Zero to Mastery\\introduction_review1.ipynb Cell 9'\u001b[0m in \u001b[0;36m<cell line: 16>\u001b[1;34m()\u001b[0m\n\u001b[0;32m     <a href='vscode-notebook-cell:/d%3A/Codes/TensorFlow/Zero%20to%20Mastery/introduction_review1.ipynb#ch0000011?line=12'>13</a>\u001b[0m \u001b[39mprint\u001b[39m(\u001b[39m'\u001b[39m\u001b[39m\\n\u001b[39;00m\u001b[39m'\u001b[39m)\n\u001b[0;32m     <a href='vscode-notebook-cell:/d%3A/Codes/TensorFlow/Zero%20to%20Mastery/introduction_review1.ipynb#ch0000011?line=14'>15</a>\u001b[0m \u001b[39mprint\u001b[39m(\u001b[39m\"\u001b[39m\u001b[39mError appear, can\u001b[39m\u001b[39m'\u001b[39m\u001b[39mt be change\u001b[39m\u001b[39m\"\u001b[39m)\n\u001b[1;32m---> <a href='vscode-notebook-cell:/d%3A/Codes/TensorFlow/Zero%20to%20Mastery/introduction_review1.ipynb#ch0000011?line=15'>16</a>\u001b[0m unchangable_vt \u001b[39m=\u001b[39m unchangable_vt[\u001b[39m1\u001b[39;49m]\u001b[39m.\u001b[39;49massign(\u001b[39m100\u001b[39m)\n\u001b[0;32m     <a href='vscode-notebook-cell:/d%3A/Codes/TensorFlow/Zero%20to%20Mastery/introduction_review1.ipynb#ch0000011?line=16'>17</a>\u001b[0m \u001b[39mprint\u001b[39m(unchangable_vt)\n",
      "File \u001b[1;32md:\\Codes\\TensorFlow\\Zero to Mastery\\z2m\\lib\\site-packages\\tensorflow\\python\\framework\\ops.py:446\u001b[0m, in \u001b[0;36mTensor.__getattr__\u001b[1;34m(self, name)\u001b[0m\n\u001b[0;32m    437\u001b[0m \u001b[39mif\u001b[39;00m name \u001b[39min\u001b[39;00m {\u001b[39m\"\u001b[39m\u001b[39mT\u001b[39m\u001b[39m\"\u001b[39m, \u001b[39m\"\u001b[39m\u001b[39mastype\u001b[39m\u001b[39m\"\u001b[39m, \u001b[39m\"\u001b[39m\u001b[39mravel\u001b[39m\u001b[39m\"\u001b[39m, \u001b[39m\"\u001b[39m\u001b[39mtranspose\u001b[39m\u001b[39m\"\u001b[39m, \u001b[39m\"\u001b[39m\u001b[39mreshape\u001b[39m\u001b[39m\"\u001b[39m, \u001b[39m\"\u001b[39m\u001b[39mclip\u001b[39m\u001b[39m\"\u001b[39m, \u001b[39m\"\u001b[39m\u001b[39msize\u001b[39m\u001b[39m\"\u001b[39m,\n\u001b[0;32m    438\u001b[0m             \u001b[39m\"\u001b[39m\u001b[39mtolist\u001b[39m\u001b[39m\"\u001b[39m, \u001b[39m\"\u001b[39m\u001b[39mdata\u001b[39m\u001b[39m\"\u001b[39m}:\n\u001b[0;32m    439\u001b[0m   \u001b[39m# TODO(wangpeng): Export the enable_numpy_behavior knob\u001b[39;00m\n\u001b[0;32m    440\u001b[0m   \u001b[39mraise\u001b[39;00m \u001b[39mAttributeError\u001b[39;00m(\n\u001b[0;32m    441\u001b[0m       \u001b[39mf\u001b[39m\u001b[39m\"\u001b[39m\u001b[39m{\u001b[39;00m\u001b[39mtype\u001b[39m(\u001b[39mself\u001b[39m)\u001b[39m.\u001b[39m\u001b[39m__name__\u001b[39m\u001b[39m}\u001b[39;00m\u001b[39m object has no attribute \u001b[39m\u001b[39m'\u001b[39m\u001b[39m{\u001b[39;00mname\u001b[39m}\u001b[39;00m\u001b[39m'\u001b[39m\u001b[39m. \u001b[39m\u001b[39m\"\u001b[39m \u001b[39m+\u001b[39m \u001b[39m\"\"\"\u001b[39m\n\u001b[0;32m    442\u001b[0m \u001b[39m    If you are looking for numpy-related methods, please run the following:\u001b[39m\n\u001b[0;32m    443\u001b[0m \u001b[39m    from tensorflow.python.ops.numpy_ops import np_config\u001b[39m\n\u001b[0;32m    444\u001b[0m \u001b[39m    np_config.enable_numpy_behavior()\u001b[39m\n\u001b[0;32m    445\u001b[0m \u001b[39m  \u001b[39m\u001b[39m\"\"\"\u001b[39m)\n\u001b[1;32m--> 446\u001b[0m \u001b[39mself\u001b[39;49m\u001b[39m.\u001b[39;49m\u001b[39m__getattribute__\u001b[39;49m(name)\n",
      "\u001b[1;31mAttributeError\u001b[0m: 'tensorflow.python.framework.ops.EagerTensor' object has no attribute 'assign'"
     ]
    }
   ],
   "source": [
    "# changing value inside variable\n",
    "change_vt = tf.Variable([1,2,3,4,5])\n",
    "unchangable_vt = tf.constant([1,2,3,4,5])\n",
    "\n",
    "print(change_vt)\n",
    "\n",
    "change_vt = change_vt[0].assign(100)\n",
    "\n",
    "print(\"Change\")\n",
    "print(change_vt)\n",
    "\n",
    "print(unchangable_vt)\n",
    "print('\\n')\n",
    "\n",
    "print(\"Error appear, can't be change\")\n",
    "unchangable_vt = unchangable_vt[1].assign(100)\n",
    "print(unchangable_vt)\n"
   ]
  },
  {
   "cell_type": "markdown",
   "metadata": {},
   "source": [
    "##### Indexing Tensor"
   ]
  },
  {
   "cell_type": "code",
   "execution_count": 157,
   "metadata": {},
   "outputs": [
    {
     "name": "stdout",
     "output_type": "stream",
     "text": [
      "Complete Array :  tf.Tensor([ 1  2  3  4  5  6  7  8  9 10], shape=(10,), dtype=int32) \n",
      "\n",
      "Single Index :  tf.Tensor(1, shape=(), dtype=int32) \n",
      "\n",
      "Range index :  tf.Tensor([1 2 3], shape=(3,), dtype=int32) \n",
      "\n",
      "Open Range index start:  tf.Tensor([1 2 3 4], shape=(4,), dtype=int32)\n",
      "Open Range index end:  tf.Tensor([ 4  5  6  7  8  9 10], shape=(7,), dtype=int32) \n",
      "\n",
      "Dimensional Index, specific :  tf.Tensor(2, shape=(), dtype=int32)\n",
      "Dimensional Index, range specific :  tf.Tensor(\n",
      "[[[[ 7  8]\n",
      "   [ 9 10]\n",
      "   [11 12]]\n",
      "\n",
      "  [[13 14]\n",
      "   [15 16]\n",
      "   [17 18]]]\n",
      "\n",
      "\n",
      " [[[25 26]\n",
      "   [27 28]\n",
      "   [29 30]]\n",
      "\n",
      "  [[31 32]\n",
      "   [33 34]\n",
      "   [35 36]]]], shape=(2, 2, 3, 2), dtype=int32)\n",
      "Dimensional Index, open range :  tf.Tensor(\n",
      "[[[[ 1  2]\n",
      "   [ 3  4]\n",
      "   [ 5  6]]\n",
      "\n",
      "  [[ 7  8]\n",
      "   [ 9 10]\n",
      "   [11 12]]]], shape=(1, 2, 3, 2), dtype=int32)\n",
      "Dimensional Index, mix :  tf.Tensor(\n",
      "[[[ 3  4]\n",
      "  [ 9 10]]], shape=(1, 2, 2), dtype=int32)\n",
      "Open Range index start:  tf.Tensor(10, shape=(), dtype=int32)\n"
     ]
    }
   ],
   "source": [
    "# Calling whole array\n",
    "print(\"Complete Array : \", scalar_v[:], \"\\n\")\n",
    "\n",
    "# Calling single index\n",
    "print(\"Single Index : \", scalar_v[0], \"\\n\")\n",
    "\n",
    "# Calling Range Index\n",
    "print(\"Range index : \", scalar_v[0:3], \"\\n\")\n",
    "\n",
    "# Calling Open Range Index\n",
    "print(\"Open Range index start: \", scalar_v[:4])\n",
    "print(\"Open Range index end: \", scalar_v[3:], \"\\n\")\n",
    "\n",
    "# Calling Dimensional Index\n",
    "print(\"Dimensional Index, specific : \", vector_v[0,1])\n",
    "print(\"Dimensional Index, range specific : \", tensor_v[0:2,1:3])\n",
    "print(\"Dimensional Index, open range : \", tensor_v[:1,:2])\n",
    "print(\"Dimensional Index, mix : \", tensor_v[0:1,:2,1])\n",
    "\n",
    "# Calling the end array\n",
    "print(\"End index start: \", scalar_v[-1])\n",
    "\n",
    "\n"
   ]
  },
  {
   "cell_type": "markdown",
   "metadata": {},
   "source": [
    "## Generator\n",
    "\n",
    "- Zero\n",
    "- One\n",
    "  - int and float\n",
    "- Incremental\n",
    "- Random"
   ]
  },
  {
   "cell_type": "markdown",
   "metadata": {},
   "source": [
    "##### Zero and One"
   ]
  },
  {
   "cell_type": "code",
   "execution_count": 65,
   "metadata": {},
   "outputs": [
    {
     "name": "stdout",
     "output_type": "stream",
     "text": [
      "Default Zero and One\n",
      "tf.Tensor(\n",
      "[[0. 0.]\n",
      " [0. 0.]\n",
      " [0. 0.]], shape=(3, 2), dtype=float32) tf.Tensor(\n",
      "[[[1. 1.]\n",
      "  [1. 1.]\n",
      "  [1. 1.]]\n",
      "\n",
      " [[1. 1.]\n",
      "  [1. 1.]\n",
      "  [1. 1.]]\n",
      "\n",
      " [[1. 1.]\n",
      "  [1. 1.]\n",
      "  [1. 1.]]\n",
      "\n",
      " [[1. 1.]\n",
      "  [1. 1.]\n",
      "  [1. 1.]]], shape=(4, 3, 2), dtype=float32)\n",
      "\n",
      "\n",
      "Customed Zero and Ones\n",
      "tf.Tensor(\n",
      "[[0 0 0]\n",
      " [0 0 0]\n",
      " [0 0 0]\n",
      " [0 0 0]], shape=(4, 3), dtype=int32) tf.Tensor(\n",
      "[[1 1 1]\n",
      " [1 1 1]\n",
      " [1 1 1]\n",
      " [1 1 1]], shape=(4, 3), dtype=int32)\n"
     ]
    }
   ],
   "source": [
    "# default\n",
    "zero_gv = tf.zeros([3,2])\n",
    "\n",
    "one_gv = tf.ones([4,3,2])\n",
    "\n",
    "# custom zero\n",
    "  # custom one are invalid\n",
    "zero_cgv = tf.zeros([4,3], dtype=tf.int32)\n",
    "\n",
    "one_cgv = tf.ones([4,3], dtype=tf.int32)\n",
    "\n",
    "print(\"Default Zero and One\")\n",
    "print(zero_gv, one_gv)\n",
    "print('\\n')\n",
    "\n",
    "print(\"Customed Zero and Ones\")\n",
    "print(zero_cgv, one_cgv)"
   ]
  },
  {
   "cell_type": "markdown",
   "metadata": {},
   "source": [
    "##### Incremental"
   ]
  },
  {
   "cell_type": "code",
   "execution_count": null,
   "metadata": {},
   "outputs": [
    {
     "data": {
      "text/plain": [
       "<tf.Tensor: shape=(9,), dtype=int32, numpy=array([1, 2, 3, 4, 5, 6, 7, 8, 9])>"
      ]
     },
     "metadata": {},
     "output_type": "display_data"
    }
   ],
   "source": [
    "math_v = tf.range(1,10)\n",
    "math_v"
   ]
  },
  {
   "cell_type": "code",
   "execution_count": 2,
   "metadata": {},
   "outputs": [],
   "source": [
    "import numpy as np"
   ]
  },
  {
   "cell_type": "code",
   "execution_count": 49,
   "metadata": {},
   "outputs": [
    {
     "name": "stdout",
     "output_type": "stream",
     "text": [
      "1.23.0\n"
     ]
    }
   ],
   "source": [
    "print(np.__version__)"
   ]
  },
  {
   "cell_type": "code",
   "execution_count": 80,
   "metadata": {},
   "outputs": [
    {
     "name": "stdout",
     "output_type": "stream",
     "text": [
      "1 input :  [0 1]\n",
      "2 input :  [2 3 4 5]\n",
      "3 input :  [2 4]\n",
      "3 and dtype input :  [2. 4.]\n",
      "Note: data type should be numpy/np\n"
     ]
    }
   ],
   "source": [
    "# Using Numpy\n",
    "  # arange\n",
    "    # (input) 1 = (equivalent) end\n",
    "    # 2 = start, stop\n",
    "    # 3 = start, stop, step\n",
    "      # dtype must have numpy data type\n",
    "tensor3_rv = np.arange(2)\n",
    "print(\"1 input : \",tensor3_rv)\n",
    "tensor3_rv = np.arange(2,6)\n",
    "print(\"2 input : \",tensor3_rv)\n",
    "tensor3_rv = np.arange(2,6,2)\n",
    "print(\"3 input : \",tensor3_rv)\n",
    "tensor3_rv = np.arange(2,6,2,dtype=np.float32)\n",
    "print(\"3 and dtype input : \",tensor3_rv)\n",
    "print(\"Note: data type should be numpy/np\")\n"
   ]
  },
  {
   "cell_type": "markdown",
   "metadata": {},
   "source": [
    "##### Random"
   ]
  },
  {
   "cell_type": "code",
   "execution_count": 40,
   "metadata": {},
   "outputs": [
    {
     "data": {
      "text/plain": [
       "(<tf.Tensor: shape=(3, 2), dtype=float32, numpy=\n",
       " array([[ 0.43842274, -0.53439844],\n",
       "        [-0.07710262,  1.5658046 ],\n",
       "        [-0.1012345 , -0.2744976 ]], dtype=float32)>,\n",
       " <tf.Tensor: shape=(3, 2), dtype=int32, numpy=\n",
       " array([[9, 5],\n",
       "        [1, 4],\n",
       "        [2, 7]])>)"
      ]
     },
     "execution_count": 40,
     "metadata": {},
     "output_type": "execute_result"
    }
   ],
   "source": [
    "# Using Tensor to randomize\n",
    "  # using seed\n",
    "    # in normal distribution with shape as pre-requisite input\n",
    "tensor1_rv = tf.random.Generator.from_seed(1)\n",
    "tensor1_rv = tensor1_rv.normal(shape=(3,2))\n",
    "\n",
    "    # in uniform distribution with shape as pre-requisite input\n",
    "      # with optional minval, maxval and/or dtype\n",
    "tensor2_rv = tf.random.Generator.from_seed(2)\n",
    "tensor2_rv = tensor2_rv.uniform(shape=(3,2), minval=1, maxval=10, dtype=tf.int32)\n",
    "\n",
    "tensor1_rv, tensor2_rv\n"
   ]
  },
  {
   "cell_type": "code",
   "execution_count": 78,
   "metadata": {},
   "outputs": [
    {
     "name": "stdout",
     "output_type": "stream",
     "text": [
      "min and max :  8\n",
      "min, max and shape :  [[16 77 33]\n",
      " [70 55 31]]\n",
      "min, max, shape and dtype of int :  [[79 97 82]\n",
      " [61 41 30]]\n",
      "Note: data type of int and np only\n"
     ]
    }
   ],
   "source": [
    "#using Numpy\n",
    "  # random\n",
    "    # randint\n",
    "      # randint(min, max)\n",
    "tensor4_rv = np.random.randint(0,100)\n",
    "print(\"min and max : \",tensor4_rv)\n",
    "      # randint(min, max, shape)\n",
    "tensor4_rv = np.random.randint(0,100,[2,3])\n",
    "print(\"min, max and shape : \",tensor4_rv)\n",
    "tensor4_rv = np.random.randint(0,100,[2,3],dtype=np.int16)\n",
    "print(\"min, max, shape and dtype of int : \", tensor4_rv)\n",
    "print(\"Note: data type of int and np only\")"
   ]
  },
  {
   "cell_type": "code",
   "execution_count": 232,
   "metadata": {},
   "outputs": [
    {
     "name": "stdout",
     "output_type": "stream",
     "text": [
      "[[0.50917243 0.99868948 0.66799058]\n",
      " [0.4715337  0.24978142 0.35427653]]\n",
      "[[24.12928714 82.09885057 65.14376155]\n",
      " [89.58301766 31.17560145 40.99471473]]\n"
     ]
    }
   ],
   "source": [
    "    # random\n",
    "      # \n",
    "tensor5_rv = np.random.random([2,3])\n",
    "print(tensor5_rv)\n",
    "      # additional randomization\n",
    "tensor6_rv = np.random.random([2,3]) * 100\n",
    "print(tensor6_rv)\n"
   ]
  },
  {
   "cell_type": "markdown",
   "metadata": {},
   "source": [
    "## Shuffle, Sort and Seed"
   ]
  },
  {
   "cell_type": "code",
   "execution_count": 35,
   "metadata": {},
   "outputs": [
    {
     "name": "stdout",
     "output_type": "stream",
     "text": [
      "Sample 1 Not Shuffuled :  <tf.Variable 'Variable:0' shape=(1, 5) dtype=int32, numpy=array([[ 8, 47, 62, 83, 81]])> \n",
      "\n",
      "Sample 2 Not Shuffuled :  <tf.Variable 'Variable:0' shape=(1, 2, 3) dtype=int32, numpy=\n",
      "array([[[35, 68, 54],\n",
      "        [40, 47, 90]]])> \n",
      "\n",
      "Sample 3 Not Shuffuled :  <tf.Variable 'Variable:0' shape=(1, 2, 3, 4) dtype=int32, numpy=\n",
      "array([[[[64, 54, 77, 91],\n",
      "         [74,  9, 95, 81],\n",
      "         [50, 77, 63, 28]],\n",
      "\n",
      "        [[92, 77, 20, 39],\n",
      "         [16, 85, 38, 96],\n",
      "         [93, 46, 79, 76]]]])> \n",
      "\n"
     ]
    }
   ],
   "source": [
    "nShuffled1_v = tf.constant([np.random.randint(0,100,5)])\n",
    "nShuffled1_v = tf.Variable(nShuffled1_v)\n",
    "\n",
    "nShuffled2_v = tf.constant([np.random.randint(0,100,(2,3))])\n",
    "nShuffled2_v = tf.Variable(nShuffled2_v)\n",
    "\n",
    "nShuffled3_v = tf.constant([np.random.randint(0,100,(2,3,4))])\n",
    "nShuffled3_v = tf.Variable(nShuffled3_v)"
   ]
  },
  {
   "cell_type": "markdown",
   "metadata": {},
   "source": [
    "##### Shuffle"
   ]
  },
  {
   "cell_type": "code",
   "execution_count": 80,
   "metadata": {},
   "outputs": [
    {
     "name": "stdout",
     "output_type": "stream",
     "text": [
      "Sample 1 Not Shuffuled :  <tf.Variable 'Variable:0' shape=(1, 5) dtype=int32, numpy=array([[ 8, 47, 62, 83, 81]])> \n",
      "\n",
      "Sample 1 :  tf.Tensor([81 47 83 62  8], shape=(5,), dtype=int32) \n",
      "\n",
      "----------------------------------------------------------------\n",
      "\n",
      "Sample 2 Not Shuffuled :  <tf.Variable 'Variable:0' shape=(1, 2, 3) dtype=int32, numpy=\n",
      "array([[[35, 68, 54],\n",
      "        [40, 47, 90]]])> \n",
      "\n",
      "-- Does not change: because there is no index --\n",
      "Sample 2 :  tf.Tensor(\n",
      "[[[35 68 54]\n",
      "  [40 47 90]]], shape=(1, 2, 3), dtype=int32) \n",
      "\n",
      "Sample 2 index 0,0:  tf.Tensor([54 68 35], shape=(3,), dtype=int32)\n",
      "Sample 2 index 0,1:  tf.Tensor([47 40 90], shape=(3,), dtype=int32) \n",
      "\n",
      "----------------------------------------------------------------\n",
      "\n",
      "Sample 3 Not Shuffuled :  <tf.Variable 'Variable:0' shape=(1, 2, 3, 4) dtype=int32, numpy=\n",
      "array([[[[64, 54, 77, 91],\n",
      "         [74,  9, 95, 81],\n",
      "         [50, 77, 63, 28]],\n",
      "\n",
      "        [[92, 77, 20, 39],\n",
      "         [16, 85, 38, 96],\n",
      "         [93, 46, 79, 76]]]])> \n",
      "\n",
      "-- Shuffle the dimension 2 --\n",
      "Sample 3 0,0 :  tf.Tensor(\n",
      "[[50 77 63 28]\n",
      " [74  9 95 81]\n",
      " [64 54 77 91]], shape=(3, 4), dtype=int32) \n",
      "\n",
      "Sample 3 0,1 :  tf.Tensor(\n",
      "[[92 77 20 39]\n",
      " [93 46 79 76]\n",
      " [16 85 38 96]], shape=(3, 4), dtype=int32) \n",
      "\n",
      "-- Shuffle the dimension 3 --\n",
      "Sample 3 0,0,0 :  tf.Tensor([64 77 91 54], shape=(4,), dtype=int32)\n",
      "Sample 3 0,0,1 :  tf.Tensor([ 9 81 74 95], shape=(4,), dtype=int32)\n",
      "Sample 3 0,0,2 :  tf.Tensor([63 77 50 28], shape=(4,), dtype=int32) \n",
      "\n",
      "Sample 3 0,1,0 :  tf.Tensor([92 77 20 39], shape=(4,), dtype=int32)\n",
      "Sample 3 0,1,1 :  tf.Tensor([96 16 38 85], shape=(4,), dtype=int32)\n",
      "Sample 3 0,1,2 :  tf.Tensor([76 46 79 93], shape=(4,), dtype=int32)\n"
     ]
    }
   ],
   "source": [
    "# using random.shuffle()\n",
    "  # it requires which deep using index as indication\n",
    "shuffled1_v = tf.random.shuffle(nShuffled1_v[0])\n",
    "print(\"Sample 1 Not Shuffuled : \",nShuffled1_v, \"\\n\")\n",
    "print(\"Sample 1 : \",shuffled1_v,\"\\n\")\n",
    "\n",
    "print(\"----------------------------------------------------------------\\n\")\n",
    "\n",
    "print(\"Sample 2 Not Shuffuled : \",nShuffled2_v, \"\\n\")\n",
    "print(\"-- Does not change: because there is no index --\")\n",
    "shuffled2_v = tf.random.shuffle(nShuffled2_v)\n",
    "print(\"Sample 2 : \",shuffled2_v,\"\\n\")\n",
    "\n",
    "shuffled2_v = tf.random.shuffle(nShuffled2_v[0,0])\n",
    "print(\"Sample 2 index 0,0: \",shuffled2_v)\n",
    "shuffled2_v = tf.random.shuffle(nShuffled2_v[0,1])\n",
    "print(\"Sample 2 index 0,1: \",shuffled2_v,\"\\n\")\n",
    "\n",
    "print(\"----------------------------------------------------------------\\n\")\n",
    "\n",
    "print(\"Sample 3 Not Shuffuled : \",nShuffled3_v, \"\\n\")\n",
    "print(\"-- Shuffle the dimension 2 --\")\n",
    "shuffled3_v = tf.random.shuffle(nShuffled3_v[0,0])\n",
    "print(\"Sample 3 0,0 : \", shuffled3_v,\"\\n\")\n",
    "shuffled3_v = tf.random.shuffle(nShuffled3_v[0,1])\n",
    "print(\"Sample 3 0,1 : \", shuffled3_v,\"\\n\")\n",
    "\n",
    "print(\"-- Shuffle the dimension 3 --\")\n",
    "shuffled3_v = tf.random.shuffle(nShuffled3_v[0,0,0])\n",
    "print(\"Sample 3 0,0,0 : \", shuffled3_v)\n",
    "shuffled3_v = tf.random.shuffle(nShuffled3_v[0,0,1])\n",
    "print(\"Sample 3 0,0,1 : \", shuffled3_v)\n",
    "shuffled3_v = tf.random.shuffle(nShuffled3_v[0,0,2])\n",
    "print(\"Sample 3 0,0,2 : \", shuffled3_v,\"\\n\")\n",
    "\n",
    "shuffled3_v = tf.random.shuffle(nShuffled3_v[0,1,0])\n",
    "print(\"Sample 3 0,1,0 : \", shuffled3_v)\n",
    "shuffled3_v = tf.random.shuffle(nShuffled3_v[0,1,1])\n",
    "print(\"Sample 3 0,1,1 : \", shuffled3_v)\n",
    "shuffled3_v = tf.random.shuffle(nShuffled3_v[0,1,2])\n",
    "print(\"Sample 3 0,1,2 : \", shuffled3_v)"
   ]
  },
  {
   "cell_type": "markdown",
   "metadata": {},
   "source": [
    "##### Sort"
   ]
  },
  {
   "cell_type": "code",
   "execution_count": 98,
   "metadata": {},
   "outputs": [
    {
     "name": "stdout",
     "output_type": "stream",
     "text": [
      "Original 1 :  <tf.Variable 'Variable:0' shape=(1, 5) dtype=int32, numpy=array([[ 8, 47, 62, 83, 81]])>\n",
      "Sorted 1 - A :  tf.Tensor([[ 8 47 62 81 83]], shape=(1, 5), dtype=int32)\n",
      "Sorted 1 - D :  tf.Tensor([[83 81 62 47  8]], shape=(1, 5), dtype=int32) \n",
      "\n",
      "----------------------------------------------------------------\n",
      "\n",
      "Original 2 :  <tf.Variable 'Variable:0' shape=(1, 2, 3) dtype=int32, numpy=\n",
      "array([[[35, 68, 54],\n",
      "        [40, 47, 90]]])>\n",
      "Sorted 2 - A :  tf.Tensor(\n",
      "[[[35 54 68]\n",
      "  [40 47 90]]], shape=(1, 2, 3), dtype=int32)\n",
      "Sorted 2 - D :  tf.Tensor(\n",
      "[[[68 54 35]\n",
      "  [90 47 40]]], shape=(1, 2, 3), dtype=int32) \n",
      "\n",
      "----------------------------------------------------------------\n",
      "\n",
      "Original 3 :  <tf.Variable 'Variable:0' shape=(1, 2, 3, 4) dtype=int32, numpy=\n",
      "array([[[[64, 54, 77, 91],\n",
      "         [74,  9, 95, 81],\n",
      "         [50, 77, 63, 28]],\n",
      "\n",
      "        [[92, 77, 20, 39],\n",
      "         [16, 85, 38, 96],\n",
      "         [93, 46, 79, 76]]]])>\n",
      "Sorted 3 - A :  tf.Tensor(\n",
      "[[[[54 64 77 91]\n",
      "   [ 9 74 81 95]\n",
      "   [28 50 63 77]]\n",
      "\n",
      "  [[20 39 77 92]\n",
      "   [16 38 85 96]\n",
      "   [46 76 79 93]]]], shape=(1, 2, 3, 4), dtype=int32)\n",
      "Sorted 3 - D :  tf.Tensor(\n",
      "[[[[91 77 64 54]\n",
      "   [95 81 74  9]\n",
      "   [77 63 50 28]]\n",
      "\n",
      "  [[92 77 39 20]\n",
      "   [96 85 38 16]\n",
      "   [93 79 76 46]]]], shape=(1, 2, 3, 4), dtype=int32) \n",
      "\n",
      "----------------------------------------------------------------\n",
      "                           With Axis\n",
      "\n",
      "can't understand the use case of the axis\n"
     ]
    }
   ],
   "source": [
    "print(\"Original 1 : \",nShuffled1_v)\n",
    "sorted1_v = tf.sort(nShuffled1_v, direction=\"ASCENDING\")\n",
    "print(\"Sorted 1 - A : \", sorted1_v)\n",
    "sorted1_v = tf.sort(nShuffled1_v, direction=\"DESCENDING\")\n",
    "print(\"Sorted 1 - D : \", sorted1_v, \"\\n\")\n",
    "\n",
    "print(\"----------------------------------------------------------------\\n\")\n",
    "\n",
    "print(\"Original 2 : \",nShuffled2_v)\n",
    "sorted2_v = tf.sort(nShuffled2_v, direction=\"ASCENDING\")\n",
    "print(\"Sorted 2 - A : \", sorted2_v)\n",
    "sorted2_v = tf.sort(nShuffled2_v, direction=\"DESCENDING\")\n",
    "print(\"Sorted 2 - D : \", sorted2_v, \"\\n\")\n",
    "\n",
    "print(\"----------------------------------------------------------------\\n\")\n",
    "\n",
    "print(\"Original 3 : \",nShuffled3_v)\n",
    "sorted3_v = tf.sort(nShuffled3_v, direction=\"ASCENDING\")\n",
    "print(\"Sorted 3 - A : \", sorted3_v)\n",
    "sorted3_v = tf.sort(nShuffled3_v, direction=\"DESCENDING\")\n",
    "print(\"Sorted 3 - D : \", sorted3_v, \"\\n\")\n",
    "\n",
    "print(\"----------------------------------------------------------------\")\n",
    "print(\"                           With Axis\\n\")\n",
    "print(\"can't understand the use case of the axis\")"
   ]
  },
  {
   "cell_type": "markdown",
   "metadata": {},
   "source": [
    "##### Seed\n",
    " - Using global or operational seed affects the randomness\n",
    " - Using global and operational seed randomize at first and constantly repeat the randomed data"
   ]
  },
  {
   "cell_type": "markdown",
   "metadata": {},
   "source": [
    "## Other Tensor Manipulation\n",
    "\n",
    "- Adding Dimension\n",
    "- Squeezing Dimension\n",
    "- Reshaping"
   ]
  },
  {
   "cell_type": "code",
   "execution_count": 189,
   "metadata": {},
   "outputs": [
    {
     "name": "stdout",
     "output_type": "stream",
     "text": [
      "Dimension :  2 \n",
      " Shape :  (4, 4)\n",
      "[[37 43 23 22]\n",
      " [ 4 79 78 47]\n",
      " [38 56 77 36]\n",
      " [83 79 19 40]]\n"
     ]
    }
   ],
   "source": [
    "tensorMan_v = np.random.randint(0,100,[4,4])\n",
    "print(\"Dimension : \", tensorMan_v.ndim, \"\\n\",\n",
    "      \"Shape : \", tensorMan_v.shape)\n",
    "print(tensorMan_v)"
   ]
  },
  {
   "cell_type": "markdown",
   "metadata": {},
   "source": [
    "##### Adding Dimension"
   ]
  },
  {
   "cell_type": "code",
   "execution_count": 180,
   "metadata": {},
   "outputs": [
    {
     "data": {
      "text/plain": [
       "(3, TensorShape([2, 3, 1]))"
      ]
     },
     "execution_count": 180,
     "metadata": {},
     "output_type": "execute_result"
    }
   ],
   "source": [
    "# Old Way\n",
    "tensorMan_v = tensorMan_v[..., tf.newaxis]\n",
    "tensorMan_v.ndim, tensorMan_v.shape"
   ]
  },
  {
   "cell_type": "code",
   "execution_count": 181,
   "metadata": {},
   "outputs": [
    {
     "data": {
      "text/plain": [
       "(4, TensorShape([1, 2, 3, 1]))"
      ]
     },
     "execution_count": 181,
     "metadata": {},
     "output_type": "execute_result"
    }
   ],
   "source": [
    "# New Way\n",
    "  # axis dictates where to add single dimension\n",
    "tensorMan_v = tf.expand_dims(tensorMan_v,axis=0)\n",
    "tensorMan_v.ndim, tensorMan_v.shape"
   ]
  },
  {
   "cell_type": "markdown",
   "metadata": {},
   "source": [
    "##### Squeezing Dimension"
   ]
  },
  {
   "cell_type": "code",
   "execution_count": 182,
   "metadata": {},
   "outputs": [
    {
     "data": {
      "text/plain": [
       "(2, TensorShape([2, 3]))"
      ]
     },
     "execution_count": 182,
     "metadata": {},
     "output_type": "execute_result"
    }
   ],
   "source": [
    "tensorMan_v = tf.squeeze(tensorMan_v)\n",
    "tensorMan_v.ndim, tensorMan_v.shape"
   ]
  },
  {
   "cell_type": "markdown",
   "metadata": {},
   "source": [
    "##### Reshaping"
   ]
  },
  {
   "cell_type": "code",
   "execution_count": 191,
   "metadata": {},
   "outputs": [
    {
     "name": "stdout",
     "output_type": "stream",
     "text": [
      "Original\n",
      "\n",
      "Dimension :  3 \n",
      " Shape :  (2, 4, 2)\n",
      "tf.Tensor(\n",
      "[[[37 43]\n",
      "  [23 22]\n",
      "  [ 4 79]\n",
      "  [78 47]]\n",
      "\n",
      " [[38 56]\n",
      "  [77 36]\n",
      "  [83 79]\n",
      "  [19 40]]], shape=(2, 4, 2), dtype=int32)\n",
      "\n",
      "----------------------------------------------------------------\n",
      "\n",
      "Reshaped\n",
      "\n",
      "Dimension :  3 \n",
      " Shape :  (2, 4, 2)\n",
      "tf.Tensor(\n",
      "[[[37 43]\n",
      "  [23 22]\n",
      "  [ 4 79]\n",
      "  [78 47]]\n",
      "\n",
      " [[38 56]\n",
      "  [77 36]\n",
      "  [83 79]\n",
      "  [19 40]]], shape=(2, 4, 2), dtype=int32)\n"
     ]
    }
   ],
   "source": [
    "print(\"Original\\n\")\n",
    "print(\"Dimension : \", tensorMan_v.ndim, \"\\n\",\n",
    "      \"Shape : \", tensorMan_v.shape)\n",
    "print(tensorMan_v)\n",
    "\n",
    "print(\"\\n----------------------------------------------------------------\\n\")\n",
    "\n",
    "tensorMan_v = tf.reshape(tensorMan_v, shape=[2,4,2])\n",
    "print(\"Reshaped\\n\")\n",
    "print(\"Dimension : \", tensorMan_v.ndim, \"\\n\",\n",
    "      \"Shape : \", tensorMan_v.shape)\n",
    "print(tensorMan_v)"
   ]
  },
  {
   "cell_type": "markdown",
   "metadata": {},
   "source": [
    "## Tensor Operations\n",
    "\n",
    "- Basic Tensor Operations\n",
    "- Rounding off\n",
    "- Math Matrix\n",
    "- Casting"
   ]
  },
  {
   "cell_type": "markdown",
   "metadata": {},
   "source": [
    "##### Basic Tensor operation"
   ]
  },
  {
   "cell_type": "code",
   "execution_count": 3,
   "metadata": {},
   "outputs": [
    {
     "data": {
      "text/plain": [
       "array([[30, 44, 38,  5],\n",
       "       [24, 42, 97, 84],\n",
       "       [79, 65, 69, 94],\n",
       "       [31,  6, 34, 42]])"
      ]
     },
     "execution_count": 3,
     "metadata": {},
     "output_type": "execute_result"
    }
   ],
   "source": [
    "operation_v = np.random.randint(0,100,[4,4])\n",
    "operation_v"
   ]
  },
  {
   "cell_type": "code",
   "execution_count": 4,
   "metadata": {},
   "outputs": [
    {
     "name": "stdout",
     "output_type": "stream",
     "text": [
      "[[130 144 138 105]\n",
      " [124 142 197 184]\n",
      " [179 165 169 194]\n",
      " [131 106 134 142]]\n"
     ]
    }
   ],
   "source": [
    "print(operation_v + 100)"
   ]
  },
  {
   "cell_type": "code",
   "execution_count": 5,
   "metadata": {},
   "outputs": [
    {
     "name": "stdout",
     "output_type": "stream",
     "text": [
      "[[20 34 28 -5]\n",
      " [14 32 87 74]\n",
      " [69 55 59 84]\n",
      " [21 -4 24 32]]\n"
     ]
    }
   ],
   "source": [
    "print(operation_v - 10)"
   ]
  },
  {
   "cell_type": "code",
   "execution_count": 7,
   "metadata": {},
   "outputs": [
    {
     "name": "stdout",
     "output_type": "stream",
     "text": [
      "[[14.28571429 20.95238095 18.0952381   2.38095238]\n",
      " [11.42857143 20.         46.19047619 40.        ]\n",
      " [37.61904762 30.95238095 32.85714286 44.76190476]\n",
      " [14.76190476  2.85714286 16.19047619 20.        ]]\n"
     ]
    }
   ],
   "source": [
    "print(operation_v / 2.1)"
   ]
  },
  {
   "cell_type": "code",
   "execution_count": 8,
   "metadata": {},
   "outputs": [
    {
     "name": "stdout",
     "output_type": "stream",
     "text": [
      "[[ 60  88  76  10]\n",
      " [ 48  84 194 168]\n",
      " [158 130 138 188]\n",
      " [ 62  12  68  84]]\n"
     ]
    }
   ],
   "source": [
    "print(operation_v * 2)"
   ]
  },
  {
   "cell_type": "markdown",
   "metadata": {},
   "source": [
    "##### Rounding Off"
   ]
  },
  {
   "cell_type": "code",
   "execution_count": 14,
   "metadata": {},
   "outputs": [
    {
     "data": {
      "text/plain": [
       "array([[14.29, 20.95, 18.1 ,  2.38],\n",
       "       [11.43, 20.  , 46.19, 40.  ],\n",
       "       [37.62, 30.95, 32.86, 44.76],\n",
       "       [14.76,  2.86, 16.19, 20.  ]])"
      ]
     },
     "execution_count": 14,
     "metadata": {},
     "output_type": "execute_result"
    }
   ],
   "source": [
    "np.around(operation_v / 2.1, 2)"
   ]
  },
  {
   "cell_type": "code",
   "execution_count": 20,
   "metadata": {},
   "outputs": [
    {
     "data": {
      "text/plain": [
       "<tf.Tensor: shape=(4, 4), dtype=float64, numpy=\n",
       "array([[14., 21., 18.,  2.],\n",
       "       [11., 20., 46., 40.],\n",
       "       [38., 31., 33., 45.],\n",
       "       [15.,  3., 16., 20.]])>"
      ]
     },
     "execution_count": 20,
     "metadata": {},
     "output_type": "execute_result"
    }
   ],
   "source": [
    "tf.math.round(operation_v / 2.1)"
   ]
  },
  {
   "cell_type": "code",
   "execution_count": 18,
   "metadata": {},
   "outputs": [
    {
     "name": "stdout",
     "output_type": "stream",
     "text": [
      "tf.Tensor(\n",
      "[[14. 20. 18.  2.]\n",
      " [11. 20. 46. 40.]\n",
      " [37. 30. 32. 44.]\n",
      " [14.  2. 16. 20.]], shape=(4, 4), dtype=float64)\n"
     ]
    }
   ],
   "source": [
    "print(tf.math.floor(operation_v / 2.1))"
   ]
  },
  {
   "cell_type": "code",
   "execution_count": 19,
   "metadata": {},
   "outputs": [
    {
     "name": "stdout",
     "output_type": "stream",
     "text": [
      "tf.Tensor(\n",
      "[[15. 22. 19.  3.]\n",
      " [12. 21. 49. 42.]\n",
      " [40. 33. 35. 47.]\n",
      " [16.  3. 17. 21.]], shape=(4, 4), dtype=float64)\n"
     ]
    }
   ],
   "source": [
    "print(tf.math.ceil(operation_v / 2.))"
   ]
  },
  {
   "cell_type": "markdown",
   "metadata": {},
   "source": [
    "##### Matrix multiplication"
   ]
  },
  {
   "cell_type": "code",
   "execution_count": 201,
   "metadata": {},
   "outputs": [
    {
     "data": {
      "text/plain": [
       "<tf.Tensor: shape=(4, 4), dtype=int32, numpy=\n",
       "array([[10702,  5488,  1614, 10188],\n",
       "       [ 9493,  4945,  1446,  8660],\n",
       "       [ 9818,  4654,  1842,  8542],\n",
       "       [ 3409,  1896,   658,  2877]])>"
      ]
     },
     "execution_count": 201,
     "metadata": {},
     "output_type": "execute_result"
    }
   ],
   "source": [
    "tf.matmul(operation_v, operation_v)"
   ]
  },
  {
   "cell_type": "code",
   "execution_count": 202,
   "metadata": {},
   "outputs": [
    {
     "data": {
      "text/plain": [
       "array([[10702,  5488,  1614, 10188],\n",
       "       [ 9493,  4945,  1446,  8660],\n",
       "       [ 9818,  4654,  1842,  8542],\n",
       "       [ 3409,  1896,   658,  2877]])"
      ]
     },
     "execution_count": 202,
     "metadata": {},
     "output_type": "execute_result"
    }
   ],
   "source": [
    "operation_v @ operation_v"
   ]
  },
  {
   "cell_type": "markdown",
   "metadata": {},
   "source": [
    "##### Casting"
   ]
  },
  {
   "cell_type": "code",
   "execution_count": 225,
   "metadata": {},
   "outputs": [],
   "source": [
    "casting_v = np.random.randint(0,100,[3,5])"
   ]
  },
  {
   "cell_type": "code",
   "execution_count": 226,
   "metadata": {},
   "outputs": [
    {
     "name": "stdout",
     "output_type": "stream",
     "text": [
      "Original :  int32\n",
      "Casted :  <dtype: 'float32'>\n"
     ]
    }
   ],
   "source": [
    "print(\"Original : \", casting_v.dtype)\n",
    "casting_v = tf.cast(casting_v, dtype=tf.float32)\n",
    "print(\"Casted : \", casting_v.dtype)\n"
   ]
  },
  {
   "cell_type": "markdown",
   "metadata": {},
   "source": [
    "## Aggregators\n",
    "\n",
    "- Mathematical Operations\n",
    "- Reduce\n",
    "- Math\n",
    "- TF Probability (Library)\n",
    "- Positional"
   ]
  },
  {
   "cell_type": "code",
   "execution_count": 3,
   "metadata": {},
   "outputs": [
    {
     "data": {
      "text/plain": [
       "<tf.Variable 'Variable:0' shape=(3, 4, 3) dtype=float64, numpy=\n",
       "array([[[-43.29523927, -73.08631388, -64.72027526],\n",
       "        [-81.50669459,  -2.80812643, -72.18414434],\n",
       "        [-46.75968307, -98.02701207, -24.26655037],\n",
       "        [-90.80773543,  -9.53051125, -15.82949869]],\n",
       "\n",
       "       [[-95.26312764, -67.78464317, -93.97492105],\n",
       "        [-29.10949125, -14.68817305, -30.10905816],\n",
       "        [ -5.1056148 ,  -6.09709755, -23.17353124],\n",
       "        [-39.8084409 , -40.33628738, -15.05566375]],\n",
       "\n",
       "       [[-64.48396859, -86.07435189, -64.14697118],\n",
       "        [-84.82079839, -92.29893921, -90.85836909],\n",
       "        [-64.68701358, -98.351133  , -74.53153735],\n",
       "        [-59.09728047, -98.94961664, -44.29202601]]])>"
      ]
     },
     "execution_count": 3,
     "metadata": {},
     "output_type": "execute_result"
    }
   ],
   "source": [
    "agre_v = tf.Variable(np.random.random([3,4,3]) * -100)\n",
    "agre_v"
   ]
  },
  {
   "cell_type": "markdown",
   "metadata": {},
   "source": [
    "##### Mathematical Operations"
   ]
  },
  {
   "cell_type": "code",
   "execution_count": 281,
   "metadata": {},
   "outputs": [
    {
     "data": {
      "text/plain": [
       "<tf.Tensor: shape=(3, 4, 3), dtype=float64, numpy=\n",
       "array([[[82.49434263, 95.45860454, 77.62156587],\n",
       "        [26.44985768, 21.23091096, 53.01743221],\n",
       "        [87.86384548, 37.42504993, 42.64930215],\n",
       "        [34.67124385, 56.69797445, 58.13019191]],\n",
       "\n",
       "       [[37.03614759, 80.87596844, 53.43412292],\n",
       "        [57.61384254, 20.61976313,  2.1504781 ],\n",
       "        [ 9.85920322, 73.75262094, 76.26891001],\n",
       "        [80.98345779, 47.06482819, 86.63258628]],\n",
       "\n",
       "       [[86.36443825,  2.90957027, 55.55978064],\n",
       "        [71.36175366, 10.55552952, 28.403683  ],\n",
       "        [36.16013607, 71.88603572, 63.17002092],\n",
       "        [82.93999848, 33.69555274, 62.85272245]]])>"
      ]
     },
     "execution_count": 281,
     "metadata": {},
     "output_type": "execute_result"
    }
   ],
   "source": [
    "tf.abs(agre_v)"
   ]
  },
  {
   "cell_type": "code",
   "execution_count": 282,
   "metadata": {},
   "outputs": [
    {
     "data": {
      "text/plain": [
       "<tf.Tensor: shape=(3, 4, 3), dtype=float64, numpy=\n",
       "array([[[6.80531657e+03, 9.11234518e+03, 6.02510749e+03],\n",
       "        [6.99594971e+02, 4.50751580e+02, 2.81084812e+03],\n",
       "        [7.72005534e+03, 1.40063436e+03, 1.81896297e+03],\n",
       "        [1.20209515e+03, 3.21466031e+03, 3.37911921e+03]],\n",
       "\n",
       "       [[1.37167623e+03, 6.54092227e+03, 2.85520549e+03],\n",
       "        [3.31935485e+03, 4.25174632e+02, 4.62455608e+00],\n",
       "        [9.72038882e+01, 5.43944910e+03, 5.81694663e+03],\n",
       "        [6.55832044e+03, 2.21509805e+03, 7.50520501e+03]],\n",
       "\n",
       "       [[7.45881619e+03, 8.46559918e+00, 3.08688923e+03],\n",
       "        [5.09249989e+03, 1.11419203e+02, 8.06769208e+02],\n",
       "        [1.30755544e+03, 5.16760213e+03, 3.99045154e+03],\n",
       "        [6.87904335e+03, 1.13539027e+03, 3.95046472e+03]]])>"
      ]
     },
     "execution_count": 282,
     "metadata": {},
     "output_type": "execute_result"
    }
   ],
   "source": [
    "tf.square(agre_v)"
   ]
  },
  {
   "cell_type": "code",
   "execution_count": 285,
   "metadata": {},
   "outputs": [
    {
     "data": {
      "text/plain": [
       "<tf.Tensor: shape=(3, 4, 3), dtype=float32, numpy=\n",
       "array([[[9.08264  , 9.770292 , 8.81031  ],\n",
       "        [5.1429424, 4.6077013, 7.281307 ],\n",
       "        [9.373571 , 6.1176014, 6.5306435],\n",
       "        [5.8882294, 7.5298057, 7.6243157]],\n",
       "\n",
       "       [[6.085733 , 8.993107 , 7.309865 ],\n",
       "        [7.5903783, 4.540899 , 1.4664508],\n",
       "        [3.139937 , 8.5879345, 8.733208 ],\n",
       "        [8.999081 , 6.860381 , 9.307663 ]],\n",
       "\n",
       "       [[9.293247 , 1.7057463, 7.453843 ],\n",
       "        [8.447589 , 3.2489274, 5.3295107],\n",
       "        [6.01333  , 8.478563 , 7.947957 ],\n",
       "        [9.10714  , 5.804787 , 7.927971 ]]], dtype=float32)>"
      ]
     },
     "execution_count": 285,
     "metadata": {},
     "output_type": "execute_result"
    }
   ],
   "source": [
    "tf.sqrt(tf.cast(tf.abs(agre_v), dtype=tf.float32))"
   ]
  },
  {
   "cell_type": "markdown",
   "metadata": {},
   "source": [
    "##### Reduce"
   ]
  },
  {
   "cell_type": "code",
   "execution_count": 6,
   "metadata": {},
   "outputs": [
    {
     "data": {
      "text/plain": [
       "<tf.Tensor: shape=(), dtype=float64, numpy=2.8081264297747266>"
      ]
     },
     "execution_count": 6,
     "metadata": {},
     "output_type": "execute_result"
    }
   ],
   "source": [
    "tf.reduce_min(tf.abs(agre_v))"
   ]
  },
  {
   "cell_type": "code",
   "execution_count": 7,
   "metadata": {},
   "outputs": [
    {
     "data": {
      "text/plain": [
       "<tf.Tensor: shape=(), dtype=float64, numpy=98.94961663572411>"
      ]
     },
     "execution_count": 7,
     "metadata": {},
     "output_type": "execute_result"
    }
   ],
   "source": [
    "tf.reduce_max(tf.abs(agre_v))"
   ]
  },
  {
   "cell_type": "code",
   "execution_count": 8,
   "metadata": {},
   "outputs": [
    {
     "data": {
      "text/plain": [
       "<tf.Tensor: shape=(), dtype=float64, numpy=55.719995555312444>"
      ]
     },
     "execution_count": 8,
     "metadata": {},
     "output_type": "execute_result"
    }
   ],
   "source": [
    "tf.reduce_mean(tf.abs(agre_v))"
   ]
  },
  {
   "cell_type": "code",
   "execution_count": 9,
   "metadata": {},
   "outputs": [
    {
     "data": {
      "text/plain": [
       "<tf.Tensor: shape=(), dtype=float64, numpy=2.1847983374939974e+58>"
      ]
     },
     "execution_count": 9,
     "metadata": {},
     "output_type": "execute_result"
    }
   ],
   "source": [
    "tf.reduce_prod(tf.abs(agre_v))"
   ]
  },
  {
   "cell_type": "markdown",
   "metadata": {},
   "source": [
    "##### Math"
   ]
  },
  {
   "cell_type": "code",
   "execution_count": 10,
   "metadata": {},
   "outputs": [
    {
     "data": {
      "text/plain": [
       "<tf.Tensor: shape=(), dtype=float64, numpy=31.307859004710906>"
      ]
     },
     "execution_count": 10,
     "metadata": {},
     "output_type": "execute_result"
    }
   ],
   "source": [
    "tf.math.reduce_std(tf.abs(agre_v))"
   ]
  },
  {
   "cell_type": "code",
   "execution_count": 11,
   "metadata": {},
   "outputs": [
    {
     "data": {
      "text/plain": [
       "<tf.Tensor: shape=(), dtype=float32, numpy=31.30786>"
      ]
     },
     "execution_count": 11,
     "metadata": {},
     "output_type": "execute_result"
    }
   ],
   "source": [
    "tf.math.reduce_std(tf.cast(agre_v, dtype=tf.float32))"
   ]
  },
  {
   "cell_type": "code",
   "execution_count": 12,
   "metadata": {},
   "outputs": [
    {
     "data": {
      "text/plain": [
       "<tf.Tensor: shape=(3, 4, 3), dtype=float32, numpy=\n",
       "array([[[3.7680426, 4.291641 , 4.1700745],\n",
       "        [4.4006853, 1.0325176, 4.2792206],\n",
       "        [3.8450212, 4.585243 , 3.1890988],\n",
       "        [4.5087442, 2.2544982, 2.7618752]],\n",
       "\n",
       "       [[4.556643 , 4.216336 , 4.543028 ],\n",
       "        [3.3710642, 2.6870427, 3.4048262],\n",
       "        [1.6303408, 1.8078128, 3.1430106],\n",
       "        [3.684079 , 3.6972516, 2.7117543]],\n",
       "\n",
       "       [[4.1664166, 4.4552116, 4.1611767],\n",
       "        [4.440541 , 4.5250325, 4.509302 ],\n",
       "        [4.1695604, 4.588544 , 4.3112226],\n",
       "        [4.079185 , 4.5946107, 3.7908046]]], dtype=float32)>"
      ]
     },
     "execution_count": 12,
     "metadata": {},
     "output_type": "execute_result"
    }
   ],
   "source": [
    "tf.math.log(tf.cast(tf.abs(agre_v), dtype=tf.float32))"
   ]
  },
  {
   "cell_type": "code",
   "execution_count": 15,
   "metadata": {},
   "outputs": [
    {
     "data": {
      "text/plain": [
       "<tf.Tensor: shape=(), dtype=float64, numpy=980.1820354588579>"
      ]
     },
     "execution_count": 15,
     "metadata": {},
     "output_type": "execute_result"
    }
   ],
   "source": [
    "tf.math.reduce_variance(agre_v)"
   ]
  },
  {
   "cell_type": "markdown",
   "metadata": {},
   "source": [
    "##### TF probability"
   ]
  },
  {
   "cell_type": "code",
   "execution_count": 252,
   "metadata": {},
   "outputs": [
    {
     "name": "stdout",
     "output_type": "stream",
     "text": [
      "Requirement already satisfied: tensorflow-probability in d:\\codes\\tensorflow\\zero to mastery\\z2m\\lib\\site-packages (0.17.0)\n",
      "Requirement already satisfied: decorator in d:\\codes\\tensorflow\\zero to mastery\\z2m\\lib\\site-packages (from tensorflow-probability) (5.1.1)\n",
      "Requirement already satisfied: cloudpickle>=1.3 in d:\\codes\\tensorflow\\zero to mastery\\z2m\\lib\\site-packages (from tensorflow-probability) (2.1.0)\n",
      "Requirement already satisfied: gast>=0.3.2 in d:\\codes\\tensorflow\\zero to mastery\\z2m\\lib\\site-packages (from tensorflow-probability) (0.4.0)\n",
      "Requirement already satisfied: six>=1.10.0 in d:\\codes\\tensorflow\\zero to mastery\\z2m\\lib\\site-packages (from tensorflow-probability) (1.16.0)\n",
      "Requirement already satisfied: absl-py in d:\\codes\\tensorflow\\zero to mastery\\z2m\\lib\\site-packages (from tensorflow-probability) (1.1.0)\n",
      "Requirement already satisfied: numpy>=1.13.3 in d:\\codes\\tensorflow\\zero to mastery\\z2m\\lib\\site-packages (from tensorflow-probability) (1.23.0)\n",
      "Requirement already satisfied: dm-tree in d:\\codes\\tensorflow\\zero to mastery\\z2m\\lib\\site-packages (from tensorflow-probability) (0.1.7)\n"
     ]
    }
   ],
   "source": [
    "!pip install --upgrade tensorflow-probability\n"
   ]
  },
  {
   "cell_type": "code",
   "execution_count": 16,
   "metadata": {},
   "outputs": [],
   "source": [
    "import tensorflow_probability as tfp\n"
   ]
  },
  {
   "cell_type": "code",
   "execution_count": 17,
   "metadata": {},
   "outputs": [
    {
     "data": {
      "text/plain": [
       "<tf.Tensor: shape=(4, 3), dtype=float64, numpy=\n",
       "array([[ 455.22003378,   59.03447653,  193.98550789],\n",
       "       [ 651.13332716, 1574.79690033,  645.5020362 ],\n",
       "       [ 622.93262922, 1884.66903268,  573.93426654],\n",
       "       [ 442.0600365 , 1375.58829088,  185.05324   ]])>"
      ]
     },
     "execution_count": 17,
     "metadata": {},
     "output_type": "execute_result"
    }
   ],
   "source": [
    "tfp.stats.variance(agre_v)"
   ]
  },
  {
   "cell_type": "markdown",
   "metadata": {},
   "source": [
    "##### Positional"
   ]
  },
  {
   "cell_type": "code",
   "execution_count": 258,
   "metadata": {},
   "outputs": [
    {
     "name": "stdout",
     "output_type": "stream",
     "text": [
      "Minimum Scalar\n",
      "ran_scalar Values:  [45.36184221 42.61718564 89.27868221 42.7600731  38.21491789]\n",
      "Position:  tf.Tensor(4, shape=(), dtype=int64)\n",
      "Value in Position:  38.21491789361274\n",
      "\n",
      "\n",
      "Maximum Scalar\n",
      "pos_v Values:  [45.36184221 42.61718564 89.27868221 42.7600731  38.21491789]\n",
      "Position:  tf.Tensor(2, shape=(), dtype=int64)\n",
      "Value in Position:  89.27868220646448\n"
     ]
    }
   ],
   "source": [
    "# basic understanding of finding position\n",
    "pos_v = np.random.random(5) * 100\n",
    "print(\"Minimum Scalar\")\n",
    "print(\"ran_scalar Values: \", pos_v)\n",
    "print(\"Position: \", tf.argmin(pos_v))\n",
    "print(\"Value in Position: \", pos_v[tf.argmin(pos_v)])\n",
    "print(\"\\n\")\n",
    "\n",
    "print(\"Maximum Scalar\")\n",
    "print(\"pos_v Values: \", pos_v)\n",
    "print(\"Position: \", tf.argmax(pos_v))\n",
    "print(\"Value in Position: \", pos_v[tf.argmax(pos_v)])"
   ]
  },
  {
   "cell_type": "markdown",
   "metadata": {},
   "source": [
    "## One-hot Encoding"
   ]
  },
  {
   "cell_type": "code",
   "execution_count": 265,
   "metadata": {},
   "outputs": [
    {
     "data": {
      "text/plain": [
       "<tf.Tensor: shape=(5, 5), dtype=float32, numpy=\n",
       "array([[1., 0., 0., 0., 0.],\n",
       "       [0., 1., 0., 0., 0.],\n",
       "       [0., 0., 1., 0., 0.],\n",
       "       [0., 0., 0., 1., 0.],\n",
       "       [0., 0., 0., 0., 1.]], dtype=float32)>"
      ]
     },
     "execution_count": 265,
     "metadata": {},
     "output_type": "execute_result"
    }
   ],
   "source": [
    "indicies_list = np.arange(0, 5)\n",
    "depth = 5\n",
    "\n",
    "tf.one_hot(indicies_list, depth)"
   ]
  },
  {
   "cell_type": "code",
   "execution_count": 266,
   "metadata": {},
   "outputs": [
    {
     "data": {
      "text/plain": [
       "<tf.Tensor: shape=(5, 5), dtype=string, numpy=\n",
       "array([[b'Here', b'...', b'...', b'...', b'...'],\n",
       "       [b'...', b'Here', b'...', b'...', b'...'],\n",
       "       [b'...', b'...', b'Here', b'...', b'...'],\n",
       "       [b'...', b'...', b'...', b'Here', b'...'],\n",
       "       [b'...', b'...', b'...', b'...', b'Here']], dtype=object)>"
      ]
     },
     "execution_count": 266,
     "metadata": {},
     "output_type": "execute_result"
    }
   ],
   "source": [
    "tf.one_hot(indicies_list, depth, on_value=\"Here\", off_value=\"...\")"
   ]
  },
  {
   "cell_type": "code",
   "execution_count": 267,
   "metadata": {},
   "outputs": [
    {
     "data": {
      "text/plain": [
       "<tf.Tensor: shape=(5, 3), dtype=string, numpy=\n",
       "array([[b'Here', b'...', b'...'],\n",
       "       [b'...', b'Here', b'...'],\n",
       "       [b'...', b'...', b'Here'],\n",
       "       [b'...', b'...', b'...'],\n",
       "       [b'...', b'...', b'...']], dtype=object)>"
      ]
     },
     "execution_count": 267,
     "metadata": {},
     "output_type": "execute_result"
    }
   ],
   "source": [
    "less_depth = 3\n",
    "\n",
    "tf.one_hot(indicies_list, less_depth, on_value=\"Here\", off_value=\"...\")"
   ]
  },
  {
   "cell_type": "markdown",
   "metadata": {},
   "source": [
    "## Experimental with Argmin/max"
   ]
  },
  {
   "cell_type": "code",
   "execution_count": 259,
   "metadata": {},
   "outputs": [
    {
     "name": "stdout",
     "output_type": "stream",
     "text": [
      "[[5.87111727 8.62576207]\n",
      " [4.04805644 4.67980355]\n",
      " [9.39509994 7.65296162]]\n",
      "3\n",
      "2\n",
      "tf.Tensor([1 1], shape=(2,), dtype=int64)\n"
     ]
    }
   ],
   "source": [
    "# experimental with:\n",
    "#   creating using random\n",
    "#   creating with shape in random\n",
    "#   finding argmin/argmax of vectors\n",
    "\n",
    "ran_vectors = np.random.random((3,2)) * 10\n",
    "print(ran_vectors)\n",
    "print(ran_vectors.shape[0])\n",
    "print(ran_vectors.ndim)\n",
    "print(tf.argmin(ran_vectors))"
   ]
  },
  {
   "cell_type": "code",
   "execution_count": 260,
   "metadata": {},
   "outputs": [
    {
     "data": {
      "text/plain": [
       "<tf.Tensor: shape=(), dtype=int64, numpy=1>"
      ]
     },
     "execution_count": 260,
     "metadata": {},
     "output_type": "execute_result"
    }
   ],
   "source": [
    "tf.argmin(ran_vectors.shape)"
   ]
  },
  {
   "cell_type": "code",
   "execution_count": 261,
   "metadata": {},
   "outputs": [
    {
     "name": "stdout",
     "output_type": "stream",
     "text": [
      "tf.Tensor(2, shape=(), dtype=int64)\n"
     ]
    }
   ],
   "source": [
    "def indexing(value):\n",
    "  return tf.argmax(value)\n",
    "\n",
    "\n",
    "test_var = tf.zeros(ran_vectors.shape[0])\n",
    "test_var = tf.cast(test_var,dtype=tf.float32)\n",
    "test_var = tf.Variable(test_var)\n",
    "i = 0\n",
    "for item in ran_vectors:\n",
    "  index = indexing(ran_vectors[i])\n",
    "  test_var[i].assign(ran_vectors[i][index])\n",
    "  i+=1\n",
    "print(indexing(test_var))"
   ]
  },
  {
   "cell_type": "code",
   "execution_count": null,
   "metadata": {},
   "outputs": [],
   "source": []
  }
 ],
 "metadata": {
  "kernelspec": {
   "display_name": "Python 3.9.13 ('z2m': venv)",
   "language": "python",
   "name": "python3"
  },
  "language_info": {
   "codemirror_mode": {
    "name": "ipython",
    "version": 3
   },
   "file_extension": ".py",
   "mimetype": "text/x-python",
   "name": "python",
   "nbconvert_exporter": "python",
   "pygments_lexer": "ipython3",
   "version": "3.9.13"
  },
  "orig_nbformat": 4,
  "vscode": {
   "interpreter": {
    "hash": "31750ccabe39649fb23c7185758a39970c614753f5a2671b4751a955d70c1323"
   }
  }
 },
 "nbformat": 4,
 "nbformat_minor": 2
}
