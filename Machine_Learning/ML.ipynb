{
 "cells": [
  {
   "cell_type": "code",
   "execution_count": 1,
   "metadata": {},
   "outputs": [],
   "source": [
    "import tensorflow as tf\n",
    "import helper as helper\n",
    "\n",
    "_helper = helper.helper()"
   ]
  },
  {
   "cell_type": "code",
   "execution_count": 2,
   "metadata": {},
   "outputs": [],
   "source": [
    "from keras import Sequential, Model\n",
    "from keras.utils import plot_model as pltmdl\n",
    "from keras.layers import Dense, Flatten, Conv2D, MaxPool2D, Input\n",
    "from keras.layers import GlobalAveragePooling2D, RandomFlip, RandomCrop\n",
    "from keras.layers import RandomRotation, RandomZoom, RandomHeight, RandomWidth\n",
    "from keras.layers import Rescaling\n",
    "from keras.optimizers import Adam\n",
    "from keras.preprocessing.image import ImageDataGenerator as IDG\n",
    "from keras.utils import image_dataset_from_directory"
   ]
  },
  {
   "cell_type": "code",
   "execution_count": 6,
   "metadata": {},
   "outputs": [
    {
     "data": {
      "text/plain": [
       "<module 'helper' from 'd:\\\\Documents\\\\GitHub\\\\Sparta-system_maintenance\\\\Machine_Learning\\\\helper.py'>"
      ]
     },
     "execution_count": 6,
     "metadata": {},
     "output_type": "execute_result"
    }
   ],
   "source": [
    "from importlib import reload\n",
    "reload(sys.modules[\"helper\"])"
   ]
  },
  {
   "cell_type": "code",
   "execution_count": 7,
   "metadata": {},
   "outputs": [
    {
     "name": "stdout",
     "output_type": "stream",
     "text": [
      "Downloaded, Extracted and Saved. Directory: ./resources/10_food_classes_10_percent_a.zip\n"
     ]
    }
   ],
   "source": [
    "try:\n",
    "  _helper.data_preparations.zip_processing('https://storage.googleapis.com/ztm_tf_course/food_vision/10_food_classes_10_percent.zip',\n",
    "                                            '10_food_classes_10_percent_a')\n",
    "except Exception as e:\n",
    "  print(f\"Error: {e}\")\n",
    "  _helper.notifications.error()"
   ]
  },
  {
   "cell_type": "code",
   "execution_count": 3,
   "metadata": {},
   "outputs": [
    {
     "name": "stdout",
     "output_type": "stream",
     "text": [
      "Test Data: \n",
      "Found 30 files belonging to 3 classes.\n",
      "Train Data: \n",
      "Found 156 files belonging to 3 classes.\n",
      "Class Names: ['exportable', 'marketable', 'reject']\n"
     ]
    }
   ],
   "source": [
    "try:\n",
    "  test_data, train_data, CLASS_NAMES = _helper.data_preparations.train_test_dir_setter(\"./resources/Actual/\",IMG_SIZE = (224, 224),CLASS_MODE = \"categorical\")\n",
    "except Exception as e:\n",
    "  print(f\"Error: {e}\")\n",
    "  _helper.notifications.error()"
   ]
  },
  {
   "cell_type": "code",
   "execution_count": 38,
   "metadata": {},
   "outputs": [],
   "source": [
    "try:\n",
    "  checkpoint, ckpt_dir = _helper.callbacks.checkpoint_callback(\n",
    "    \"./saved_files/EffNetV2L\",\n",
    "    \"Model_1\",\n",
    "    \"val_categorical_accuracy\",\n",
    "    True,\n",
    "    True\n",
    "  )\n",
    "except Exception as e:\n",
    "  print(f\"Error: {e}\")\n",
    "  _helper.notifications.error()"
   ]
  },
  {
   "cell_type": "code",
   "execution_count": 39,
   "metadata": {},
   "outputs": [
    {
     "name": "stdout",
     "output_type": "stream",
     "text": [
      "Downloading data from https://storage.googleapis.com/tensorflow/keras-applications/efficientnet_v2/efficientnetv2-l_notop.h5\n",
      "473176280/473176280 [==============================] - 130s 0us/step\n",
      "Saving TensorBoard Log Files to: ./log/EffNetV2L/Model 1/2022_10_29__01_25_log\n",
      "Epoch 1/15\n",
      "5/5 [==============================] - 118s 17s/step - loss: 1.1258 - categorical_accuracy: 0.2436 - precision: 0.0000e+00 - val_loss: 1.1165 - val_categorical_accuracy: 0.3000 - val_precision: 0.0000e+00\n",
      "Epoch 2/15\n",
      "5/5 [==============================] - 69s 15s/step - loss: 1.0784 - categorical_accuracy: 0.4359 - precision: 0.0000e+00 - val_loss: 1.0998 - val_categorical_accuracy: 0.4000 - val_precision: 0.0000e+00\n",
      "Epoch 3/15\n",
      "5/5 [==============================] - 72s 15s/step - loss: 1.0228 - categorical_accuracy: 0.5385 - precision: 1.0000 - val_loss: 1.0825 - val_categorical_accuracy: 0.5000 - val_precision: 0.0000e+00\n",
      "Epoch 4/15\n",
      "5/5 [==============================] - 75s 16s/step - loss: 0.9908 - categorical_accuracy: 0.6538 - precision: 0.0000e+00 - val_loss: 1.0688 - val_categorical_accuracy: 0.6000 - val_precision: 0.0000e+00\n",
      "Epoch 5/15\n",
      "5/5 [==============================] - 64s 13s/step - loss: 0.9456 - categorical_accuracy: 0.7692 - precision: 1.0000 - val_loss: 1.0566 - val_categorical_accuracy: 0.5667 - val_precision: 0.0000e+00\n",
      "Epoch 6/15\n",
      "5/5 [==============================] - 63s 13s/step - loss: 0.9176 - categorical_accuracy: 0.7885 - precision: 1.0000 - val_loss: 1.0446 - val_categorical_accuracy: 0.6000 - val_precision: 0.0000e+00\n",
      "Epoch 7/15\n",
      "5/5 [==============================] - 64s 13s/step - loss: 0.8777 - categorical_accuracy: 0.8141 - precision: 1.0000 - val_loss: 1.0322 - val_categorical_accuracy: 0.5000 - val_precision: 0.0000e+00\n",
      "Epoch 8/15\n",
      "5/5 [==============================] - 65s 13s/step - loss: 0.8515 - categorical_accuracy: 0.8077 - precision: 1.0000 - val_loss: 1.0203 - val_categorical_accuracy: 0.6000 - val_precision: 0.7500\n",
      "Epoch 9/15\n",
      "5/5 [==============================] - 64s 13s/step - loss: 0.8309 - categorical_accuracy: 0.8397 - precision: 0.9773 - val_loss: 1.0106 - val_categorical_accuracy: 0.6000 - val_precision: 0.6667\n",
      "Epoch 10/15\n",
      "5/5 [==============================] - 72s 15s/step - loss: 0.7909 - categorical_accuracy: 0.8718 - precision: 1.0000 - val_loss: 1.0025 - val_categorical_accuracy: 0.6333 - val_precision: 0.5000\n",
      "Epoch 11/15\n",
      "5/5 [==============================] - 64s 13s/step - loss: 0.7594 - categorical_accuracy: 0.9167 - precision: 1.0000 - val_loss: 0.9934 - val_categorical_accuracy: 0.6000 - val_precision: 0.8000\n",
      "Epoch 12/15\n",
      "5/5 [==============================] - 63s 13s/step - loss: 0.7366 - categorical_accuracy: 0.9103 - precision: 1.0000 - val_loss: 0.9849 - val_categorical_accuracy: 0.6000 - val_precision: 0.6667\n",
      "Epoch 13/15\n",
      "5/5 [==============================] - 62s 13s/step - loss: 0.7082 - categorical_accuracy: 0.8974 - precision: 1.0000 - val_loss: 0.9768 - val_categorical_accuracy: 0.6000 - val_precision: 0.7500\n",
      "Epoch 14/15\n",
      "5/5 [==============================] - 63s 13s/step - loss: 0.6860 - categorical_accuracy: 0.8974 - precision: 1.0000 - val_loss: 0.9699 - val_categorical_accuracy: 0.6000 - val_precision: 0.7500\n",
      "Epoch 15/15\n",
      "5/5 [==============================] - 63s 13s/step - loss: 0.6811 - categorical_accuracy: 0.9167 - precision: 1.0000 - val_loss: 0.9650 - val_categorical_accuracy: 0.6000 - val_precision: 0.8000\n"
     ]
    }
   ],
   "source": [
    "try:\n",
    "  model_parts = tf.keras.applications.EfficientNetV2L(include_top = False)\n",
    "\n",
    "  model_parts.trainable = False\n",
    "\n",
    "  input = Input(shape = (224, 224, 3), name = \"input_layer\")\n",
    "\n",
    "  x = model_parts(input)\n",
    "  x = GlobalAveragePooling2D(name = \"GAP2D_layer\")(x)\n",
    "  output = Dense(3, activation = \"softmax\", name = \"output_layer\")(x)\n",
    "\n",
    "  model_test = Model(input, output, name = \"EffNetV2L\")\n",
    "\n",
    "  model_test.compile(\n",
    "    loss = \"categorical_crossentropy\",\n",
    "    optimizer = Adam(),\n",
    "    metrics = [\"CategoricalAccuracy\", \"Precision\"]\n",
    "  )\n",
    "\n",
    "  model_test_h = model_test.fit(train_data,\n",
    "                          epochs = 15,\n",
    "                          steps_per_epoch = len(train_data),\n",
    "                          validation_data = test_data,\n",
    "                          callbacks = [checkpoint,\n",
    "                                      _helper.callbacks.tensorboard_callback(\"./log/EffNetV2L\",\n",
    "                                                                              \"Model 1\")])\n",
    "  _helper.notifications.model_callback_notification()\n",
    "except Exception as e:\n",
    "  print(f\"Error: {e}\")\n",
    "  _helper.notifications.error()"
   ]
  },
  {
   "cell_type": "code",
   "execution_count": 40,
   "metadata": {},
   "outputs": [
    {
     "name": "stdout",
     "output_type": "stream",
     "text": [
      "1/1 [==============================] - 9s 9s/step - loss: 0.9650 - categorical_accuracy: 0.6000 - precision: 0.8000\n"
     ]
    },
    {
     "data": {
      "text/plain": [
       "[0.964994490146637, 0.6000000238418579, 0.800000011920929]"
      ]
     },
     "execution_count": 40,
     "metadata": {},
     "output_type": "execute_result"
    }
   ],
   "source": [
    "model_test.evaluate(test_data)"
   ]
  },
  {
   "cell_type": "code",
   "execution_count": 41,
   "metadata": {},
   "outputs": [
    {
     "name": "stdout",
     "output_type": "stream",
     "text": [
      "You must install pydot (`pip install pydot`) and install graphviz (see instructions at https://graphviz.gitlab.io/download/) for plot_model to work.\n",
      "Model is saved to ./saved_files/EffNetV2L/Model 1_2022_10_29 - 01.h5 and ./saved_files/EffNetV2L/Model 1_diagram.png\n"
     ]
    }
   ],
   "source": [
    "try:\n",
    "  _helper.save_load.save(model = model_test,\n",
    "                        path = \"./saved_files/EffNetV2L\",\n",
    "                        name = \"Model 1\")\n",
    "except Exception as e:\n",
    "  print(f\"Error {e}\")\n",
    "  _helper.notifications.error()"
   ]
  },
  {
   "cell_type": "code",
   "execution_count": null,
   "metadata": {},
   "outputs": [],
   "source": []
  }
 ],
 "metadata": {
  "kernelspec": {
   "display_name": "Python 3.10.8 ('Sparta': venv)",
   "language": "python",
   "name": "python3"
  },
  "language_info": {
   "codemirror_mode": {
    "name": "ipython",
    "version": 3
   },
   "file_extension": ".py",
   "mimetype": "text/x-python",
   "name": "python",
   "nbconvert_exporter": "python",
   "pygments_lexer": "ipython3",
   "version": "3.10.8"
  },
  "orig_nbformat": 4,
  "vscode": {
   "interpreter": {
    "hash": "a325f8354c59d5b8e3e6c378b83e7027e07cdd2e48658b2bcc43f133e70682cd"
   }
  }
 },
 "nbformat": 4,
 "nbformat_minor": 2
}
