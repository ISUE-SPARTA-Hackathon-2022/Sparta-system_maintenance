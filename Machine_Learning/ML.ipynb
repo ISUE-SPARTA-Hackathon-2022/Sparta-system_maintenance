{
 "cells": [
  {
   "cell_type": "code",
   "execution_count": 4,
   "metadata": {},
   "outputs": [],
   "source": [
    "import tensorflow as tf\n",
    "import helper as helper\n",
    "\n",
    "_helper = helper.helper()"
   ]
  },
  {
   "cell_type": "code",
   "execution_count": 5,
   "metadata": {},
   "outputs": [],
   "source": [
    "from keras import Sequential, Model\n",
    "from keras.utils import plot_model as pltmdl\n",
    "from keras.layers import Dense, Flatten, Conv2D, MaxPool2D, Input\n",
    "from keras.layers import GlobalAveragePooling2D, RandomFlip, RandomCrop\n",
    "from keras.layers import RandomRotation, RandomZoom, RandomHeight, RandomWidth\n",
    "from keras.layers import Rescaling\n",
    "from keras.optimizers import Adam\n",
    "from keras.preprocessing.image import ImageDataGenerator as IDG\n",
    "from keras.utils import image_dataset_from_directory"
   ]
  },
  {
   "cell_type": "code",
   "execution_count": 6,
   "metadata": {},
   "outputs": [
    {
     "data": {
      "text/plain": [
       "<module 'helper' from 'd:\\\\Documents\\\\GitHub\\\\Sparta-system_maintenance\\\\Machine_Learning\\\\helper.py'>"
      ]
     },
     "execution_count": 6,
     "metadata": {},
     "output_type": "execute_result"
    }
   ],
   "source": [
    "from importlib import reload\n",
    "reload(sys.modules[\"helper\"])"
   ]
  },
  {
   "cell_type": "code",
   "execution_count": 7,
   "metadata": {},
   "outputs": [
    {
     "name": "stdout",
     "output_type": "stream",
     "text": [
      "Downloaded, Extracted and Saved. Directory: ./resources/10_food_classes_10_percent_a.zip\n"
     ]
    }
   ],
   "source": [
    "try:\n",
    "  _helper.data_preparations.zip_processing('https://storage.googleapis.com/ztm_tf_course/food_vision/10_food_classes_10_percent.zip',\n",
    "                                            '10_food_classes_10_percent_a')\n",
    "except Exception as e:\n",
    "  print(f\"Error: {e}\")\n",
    "  _helper.notifications.error()"
   ]
  },
  {
   "cell_type": "code",
   "execution_count": 8,
   "metadata": {},
   "outputs": [
    {
     "name": "stdout",
     "output_type": "stream",
     "text": [
      "Test Data: \n",
      "Found 2500 files belonging to 10 classes.\n",
      "Train Data: \n",
      "Found 750 files belonging to 10 classes.\n",
      "Class Names: ['chicken_curry', 'chicken_wings', 'fried_rice', 'grilled_salmon', 'hamburger', 'ice_cream', 'pizza', 'ramen', 'steak', 'sushi']\n"
     ]
    }
   ],
   "source": [
    "try:\n",
    "  test_data, train_data, CLASS_NAMES = _helper.data_preparations.train_test_dir_setter(\"./resources/10_food_classes_10_percent\",CLASS_MODE = \"categorical\")\n",
    "except Exception as e:\n",
    "  print(f\"Error: {e}\")\n",
    "  _helper.notifications.error()"
   ]
  },
  {
   "cell_type": "code",
   "execution_count": null,
   "metadata": {},
   "outputs": [],
   "source": [
    "train_data = \"./resources/Actual/train/corn\"\n",
    "test_data = \"./resources/Actual/test/corn\""
   ]
  },
  {
   "cell_type": "code",
   "execution_count": 9,
   "metadata": {},
   "outputs": [
    {
     "name": "stdout",
     "output_type": "stream",
     "text": [
      "Saving TensorBoard Log Files to: ./log/test/A/2022_10_28__15_01_log\n",
      "WARNING:tensorflow:Model failed to serialize as JSON. Ignoring... Unable to serialize [2.0896919 2.1128857 2.1081853] to JSON. Unrecognized type <class 'tensorflow.python.framework.ops.EagerTensor'>.\n",
      "Epoch 1/15\n",
      "24/24 [==============================] - 60s 2s/step - loss: 1.9116 - categorical_accuracy: 0.3960 - precision: 1.0000 - val_loss: 1.2955 - val_categorical_accuracy: 0.7434 - val_precision: 0.9833\n",
      "Epoch 2/15\n",
      "24/24 [==============================] - 48s 2s/step - loss: 1.1326 - categorical_accuracy: 0.7333 - precision: 0.9576 - val_loss: 0.8481 - val_categorical_accuracy: 0.8470 - val_precision: 0.9861\n",
      "Epoch 3/15\n",
      "24/24 [==============================] - 48s 2s/step - loss: 0.7952 - categorical_accuracy: 0.8360 - precision: 0.9627 - val_loss: 0.6727 - val_categorical_accuracy: 0.8684 - val_precision: 0.9769\n",
      "Epoch 4/15\n",
      "24/24 [==============================] - 49s 2s/step - loss: 0.6486 - categorical_accuracy: 0.8547 - precision: 0.9664 - val_loss: 0.5871 - val_categorical_accuracy: 0.8668 - val_precision: 0.9596\n",
      "Epoch 5/15\n",
      "24/24 [==============================] - 60s 3s/step - loss: 0.5575 - categorical_accuracy: 0.8773 - precision: 0.9576 - val_loss: 0.5279 - val_categorical_accuracy: 0.8750 - val_precision: 0.9568\n",
      "Epoch 6/15\n",
      "24/24 [==============================] - 54s 2s/step - loss: 0.4758 - categorical_accuracy: 0.9040 - precision: 0.9696 - val_loss: 0.4970 - val_categorical_accuracy: 0.8849 - val_precision: 0.9488\n",
      "Epoch 7/15\n",
      "24/24 [==============================] - 53s 2s/step - loss: 0.4243 - categorical_accuracy: 0.9187 - precision: 0.9728 - val_loss: 0.4800 - val_categorical_accuracy: 0.8750 - val_precision: 0.9422\n",
      "Epoch 8/15\n",
      "24/24 [==============================] - 50s 2s/step - loss: 0.3860 - categorical_accuracy: 0.9240 - precision: 0.9705 - val_loss: 0.4580 - val_categorical_accuracy: 0.8799 - val_precision: 0.9397\n",
      "Epoch 9/15\n",
      "24/24 [==============================] - 49s 2s/step - loss: 0.3518 - categorical_accuracy: 0.9413 - precision: 0.9697 - val_loss: 0.4475 - val_categorical_accuracy: 0.8734 - val_precision: 0.9345\n",
      "Epoch 10/15\n",
      "24/24 [==============================] - 49s 2s/step - loss: 0.3131 - categorical_accuracy: 0.9467 - precision: 0.9836 - val_loss: 0.4286 - val_categorical_accuracy: 0.8799 - val_precision: 0.9350\n",
      "Epoch 11/15\n",
      "24/24 [==============================] - 51s 2s/step - loss: 0.2887 - categorical_accuracy: 0.9493 - precision: 0.9765 - val_loss: 0.4330 - val_categorical_accuracy: 0.8717 - val_precision: 0.9286\n",
      "Epoch 12/15\n",
      "24/24 [==============================] - 50s 2s/step - loss: 0.2713 - categorical_accuracy: 0.9600 - precision: 0.9785 - val_loss: 0.4325 - val_categorical_accuracy: 0.8734 - val_precision: 0.9286\n",
      "Epoch 13/15\n",
      "24/24 [==============================] - 51s 2s/step - loss: 0.2461 - categorical_accuracy: 0.9560 - precision: 0.9800 - val_loss: 0.4108 - val_categorical_accuracy: 0.8816 - val_precision: 0.9231\n",
      "Epoch 14/15\n",
      "24/24 [==============================] - 53s 2s/step - loss: 0.2246 - categorical_accuracy: 0.9693 - precision: 0.9845 - val_loss: 0.3922 - val_categorical_accuracy: 0.8750 - val_precision: 0.9266\n",
      "Epoch 15/15\n",
      "24/24 [==============================] - 52s 2s/step - loss: 0.2147 - categorical_accuracy: 0.9667 - precision: 0.9873 - val_loss: 0.4066 - val_categorical_accuracy: 0.8734 - val_precision: 0.9245\n"
     ]
    }
   ],
   "source": [
    "try:\n",
    "  model_parts = tf.keras.applications.EfficientNetB0(include_top = False)\n",
    "\n",
    "  model_parts.trainable = False\n",
    "\n",
    "  input = Input(shape = (224, 224, 3), name = \"input_layer\")\n",
    "\n",
    "  x = model_parts(input)\n",
    "  x = GlobalAveragePooling2D(name = \"GAP2D_layer\")(x)\n",
    "  output = Dense(10, activation = \"softmax\", name = \"output_layer\")(x)\n",
    "\n",
    "  model_test = Model(input, output, name = \"ENB0_Model_1\")\n",
    "\n",
    "  model_test.compile(\n",
    "    loss = \"categorical_crossentropy\",\n",
    "    optimizer = Adam(),\n",
    "    metrics = [\"CategoricalAccuracy\", \"Precision\"]\n",
    "  )\n",
    "\n",
    "  model_test_h = model_test.fit(train_data,\n",
    "                          epochs = 15,\n",
    "                          steps_per_epoch = len(train_data),\n",
    "                          validation_data = test_data,\n",
    "                          validation_steps = int(0.25 * len(test_data)),\n",
    "                          callbacks = [_helper.callbacks.tensorboard_callback(\"./log/test\",\n",
    "                                                                              \"A\")])\n",
    "  _helper.notifications.model_callback_notification()\n",
    "except Exception as e:\n",
    "  print(f\"Error: {e}\")\n",
    "  _helper.notifications.error()"
   ]
  },
  {
   "cell_type": "code",
   "execution_count": 10,
   "metadata": {},
   "outputs": [
    {
     "name": "stdout",
     "output_type": "stream",
     "text": [
      "Error Occurred Unable to serialize [2.0896919 2.1128857 2.1081853] to JSON. Unrecognized type <class 'tensorflow.python.framework.ops.EagerTensor'>.\n"
     ]
    }
   ],
   "source": [
    "try:\n",
    "  _helper.save_load.save(model = model_test,\n",
    "                        history = model_test_h,\n",
    "                        path = \"./saved_files/test\",\n",
    "                        name = \"Test\")\n",
    "except Exception as e:\n",
    "  print(f\"Error {e}\")\n",
    "  _helper.notifications.error()"
   ]
  },
  {
   "cell_type": "code",
   "execution_count": null,
   "metadata": {},
   "outputs": [],
   "source": []
  }
 ],
 "metadata": {
  "kernelspec": {
   "display_name": "Python 3.10.8 ('Sparta': venv)",
   "language": "python",
   "name": "python3"
  },
  "language_info": {
   "codemirror_mode": {
    "name": "ipython",
    "version": 3
   },
   "file_extension": ".py",
   "mimetype": "text/x-python",
   "name": "python",
   "nbconvert_exporter": "python",
   "pygments_lexer": "ipython3",
   "version": "3.10.8"
  },
  "orig_nbformat": 4,
  "vscode": {
   "interpreter": {
    "hash": "a325f8354c59d5b8e3e6c378b83e7027e07cdd2e48658b2bcc43f133e70682cd"
   }
  }
 },
 "nbformat": 4,
 "nbformat_minor": 2
}
