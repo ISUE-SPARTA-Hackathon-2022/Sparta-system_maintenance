{
 "cells": [
  {
   "cell_type": "code",
   "execution_count": 2,
   "metadata": {},
   "outputs": [
    {
     "name": "stdout",
     "output_type": "stream",
     "text": [
      "Date: 10-8-2022 \n",
      " TensorFlow Version:  2.9.1 \n",
      " Numpy Version:  1.23.0 \n",
      " Pandas Version:  1.4.3 \n",
      "\n"
     ]
    }
   ],
   "source": [
    "import datetime as dt\n",
    "import tensorflow as tf\n",
    "import numpy as np\n",
    "import pandas as pd\n",
    "import matplotlib.pyplot as plt\n",
    "import random, json, codecs\n",
    "\n",
    "from keras.utils import plot_model as pltmdl\n",
    "from sklearn.compose import make_column_transformer as mct\n",
    "from sklearn.model_selection import train_test_split as tts\n",
    "from sklearn.preprocessing import MinMaxScaler as mms, OneHotEncoder as ohe\n",
    "\n",
    "dateTime = dt.datetime.now()\n",
    "\n",
    "print(\"Date: %s-%s-%s \\n\" % (dateTime.day, dateTime.month, dateTime.year),\n",
    "      \"TensorFlow Version: \", tf.__version__, \"\\n\",\n",
    "      \"Numpy Version: \", np.__version__, \"\\n\",\n",
    "      \"Pandas Version: \", pd.__version__, \"\\n\"\n",
    "      )"
   ]
  },
  {
   "cell_type": "markdown",
   "metadata": {},
   "source": [
    "## Specialized Functions for NNR"
   ]
  },
  {
   "cell_type": "code",
   "execution_count": 8,
   "metadata": {},
   "outputs": [],
   "source": [
    "class NNR_Checking:  \n",
    "  def prediction_td(self, model, x_test):\n",
    "    return tf.constant(tf.squeeze(model.predict(x_test)))\n",
    "  \n",
    "  def pred_test_sPlt(self, y_test, y_pred):\n",
    "    x_test = tf.expand_dims(tf.range(0, y_test.shape), axis = -1)\n",
    "    plt.Figure(figsize = (10, 8))\n",
    "    plt.scatter(x_test, y_test, label = \"Test data\", color = \"red\")\n",
    "    plt.scatter(x_test, y_pred, label = \"Predicted data\", color = \"blue\")\n",
    "    plt.legend()\n",
    "    return plt.show()\n",
    "  \n",
    "  def dataFrame(self, history):\n",
    "    pd.DataFrame(history.history).plot()\n",
    "    plt.ylabel(\"loss\")\n",
    "    plt.xlabel(\"epochs\")\n",
    "    return\n",
    "  \n",
    "  def dataFrame_lh(self, history):\n",
    "    pd.DataFrame(history).plot()\n",
    "    plt.ylabel(\"loss\")\n",
    "    plt.xlabel(\"epochs\")\n",
    "    return\n",
    "  \n",
    "  def train_eval_comparison_native(self, history, eval):\n",
    "    print(\"Training Loss: \", np.around(history.history['loss'][-1], 3), \"\\n\"\n",
    "      \"Evaluation Loss: \", np.around(eval[0], 3), \"\\n\"\n",
    "      \"Difference: \", np.around(tf.abs(history.history['loss'][-1] - eval[0]).numpy(), 3)\n",
    "      )\n",
    "    \n",
    "  def train_eval_comparison_native_lh(self, history, eval):\n",
    "    print(\"Training Loss: \", np.around(history['loss'][-1], 3), \"\\n\"\n",
    "      \"Evaluation Loss: \", np.around(eval[0], 3), \"\\n\"\n",
    "      \"Difference: \", np.around(tf.abs(history['loss'][-1] - eval[0]).numpy(), 3)\n",
    "      )\n",
    "    \n",
    "  def train_eval_comparison_panda_table(self, history, eval):\n",
    "    eval_form = [\n",
    "      [\"Training Data\", np.around(history.history['loss'][-1], 3), np.around(history.history['mae'][-1], 3)],\n",
    "      [\"Evaluation Data\", np.around(eval[0], 3), np.around(eval[1], 3)],\n",
    "      [\"Difference\", \n",
    "        np.around((history.history['loss'][-1] - eval[0]), 3),\n",
    "        np.around((history.history['mae'][-1] - eval[1]), 3)]\n",
    "    ]\n",
    "    return pd.DataFrame(eval_form, columns = [\"Data\", \"Loss\", \"MAE\"])\n",
    "  \n",
    "  def train_eval_comparison_panda_table_lh(self, history, eval):\n",
    "    eval_form = [\n",
    "      [\"Training Data\", np.around(history['loss'][-1], 3), np.around(history['mae'][-1], 3)],\n",
    "      [\"Evaluation Data\", np.around(eval[0], 3), np.around(eval[1], 3)],\n",
    "      [\"Difference\", \n",
    "        np.around((history['loss'][-1] - eval[0]), 3),\n",
    "        np.around((history['mae'][-1] - eval[1]), 3)]\n",
    "    ]\n",
    "    return pd.DataFrame(eval_form, columns = [\"Data\", \"Loss\", \"MAE\"])\n",
    "  \n",
    "  def saveHist(self, path,history):\n",
    "    new_hist = {}\n",
    "    for key in list(history.history.keys()):\n",
    "      new_hist[key]=history.history[key]\n",
    "      if type(history.history[key]) == np.ndarray:\n",
    "        new_hist[key] = history.history[key].tolist()\n",
    "      elif type(history.history[key]) == list:\n",
    "        if  type(history.history[key][0]) == np.float64:\n",
    "          new_hist[key] = list(map(float, history.history[key]))\n",
    "          \n",
    "    with codecs.open(path, 'w', encoding='utf-8') as file:\n",
    "        json.dump(new_hist, file, separators=(',', ':'), sort_keys=True, indent=4) \n",
    "\n",
    "  def loadHist(self, path):\n",
    "    with codecs.open(path, 'r', encoding='utf-8') as file:\n",
    "      n = json.loads(file.read())\n",
    "    return n\n",
    "  \n",
    "  def save(self, path, name, history, model):\n",
    "    model.save(path + name + \".h5\")\n",
    "    self.saveHist(path + name + \"_h.json\", history)\n",
    "    return pltmdl(model = model, show_shapes = True, to_file = path + name + \".png\")\n",
    "    \n",
    "nnr = NNR_Checking()"
   ]
  },
  {
   "cell_type": "markdown",
   "metadata": {},
   "source": [
    "# Demo Using Simple Random Generated Scalar Data's"
   ]
  },
  {
   "cell_type": "code",
   "execution_count": null,
   "metadata": {},
   "outputs": [],
   "source": [
    "# Evaluate\n",
    "np.random.seed(43)\n",
    "\n",
    "x_test = tf.constant(np.array(np.random.randint(-10, 10, [100])))\n",
    "\n",
    "y_test = x_test + 10\n",
    "\n",
    "scalar_m = tf.keras.Sequential([\n",
    "  tf.keras.layers.Dense(1),\n",
    "])\n",
    "\n",
    "scalar_m.compile(\n",
    "  loss = tf.keras.losses.MeanAbsoluteError(),\n",
    "  optimizer = tf.keras.optimizers.SGD(),\n",
    "  metrics = \"mae\"\n",
    ")\n",
    "\n",
    "scalar_m_h = scalar_m.fit(x_test, y_test, epochs = 10)\n",
    "\n",
    "eval_scalar_m = scalar_m.evaluate(x_test, y_test)"
   ]
  },
  {
   "cell_type": "code",
   "execution_count": null,
   "metadata": {},
   "outputs": [],
   "source": [
    "# Predict w/ test Data\n",
    "y_pred = scalar_m.predict(x_test)\n",
    "y_pred = tf.constant(tf.squeeze(y_pred))\n",
    "y_pred[0].numpy(), y_test[0].numpy()"
   ]
  },
  {
   "cell_type": "code",
   "execution_count": null,
   "metadata": {},
   "outputs": [],
   "source": [
    "# Plot\n",
    "pd.DataFrame(scalar_m_h.history).plot()\n",
    "plt.ylabel(\"loss\")\n",
    "plt.xlabel(\"epochs\")"
   ]
  },
  {
   "cell_type": "code",
   "execution_count": null,
   "metadata": {},
   "outputs": [],
   "source": [
    "# Native Evaluation of Model Data\n",
    "print(\"Training Loss: \", np.around(scalar_m_h.history['loss'][-1], 3), \"\\n\"\n",
    "      \"Evaluation Loss: \", np.around(eval_scalar_m[0], 3), \"\\n\"\n",
    "      \"Difference: \", np.around(tf.abs(scalar_m_h.history['loss'][-1] - eval_scalar_m[0]).numpy(), 3)\n",
    "      )"
   ]
  },
  {
   "cell_type": "code",
   "execution_count": null,
   "metadata": {},
   "outputs": [],
   "source": [
    "# Panda table\n",
    "eval_form = [\n",
    "  [\"Training Data\", np.around(scalar_m_h.history['loss'][-1], 3), np.around(scalar_m_h.history['mae'][-1], 3)],\n",
    "  [\"Evaluation Data\", np.around(eval_scalar_m[0], 3), np.around(eval_scalar_m[1], 3)],\n",
    "  [\"Difference\", \n",
    "    np.around((scalar_m_h.history['loss'][-1] - eval_scalar_m[0]), 3),\n",
    "    np.around((scalar_m_h.history['mae'][-1] - eval_scalar_m[1]), 3)]\n",
    "]\n",
    "\n",
    "pd.DataFrame(eval_form, columns = [\"Data\", \"Loss\", \"MAE\"])"
   ]
  },
  {
   "cell_type": "code",
   "execution_count": null,
   "metadata": {},
   "outputs": [],
   "source": [
    "# Predicting New Data\n",
    "def predict(guess):\n",
    "  y_predict = scalar_m.predict([guess])\n",
    "  print(\"Difference between Correct: %.2f and Prediction: %.2f = %.2f\" % (guess + 10, y_predict, (guess + 10) - y_predict))\n",
    "  return\n",
    "\n",
    "predict(20)\n",
    "predict(2)\n",
    "predict(100)\n",
    "predict(2342)\n"
   ]
  },
  {
   "cell_type": "markdown",
   "metadata": {},
   "source": [
    "### Other"
   ]
  },
  {
   "cell_type": "code",
   "execution_count": null,
   "metadata": {},
   "outputs": [],
   "source": [
    "# Summary\n",
    "scalar_m.summary()"
   ]
  },
  {
   "cell_type": "code",
   "execution_count": null,
   "metadata": {},
   "outputs": [],
   "source": [
    "# Plot Model\n",
    "pltmdl(model = scalar_m, show_shapes = True, )"
   ]
  },
  {
   "cell_type": "markdown",
   "metadata": {},
   "source": [
    "## Improvement Scalar NNR Model\n",
    "- Layer Modification\n",
    "  - Layer Count\n",
    "  - Units\n",
    "  - Input size\n",
    "  - Activators\n",
    "- Compilation\n",
    "  - Loss\n",
    "  - Optimizer\n",
    "    - Adam, learning rate\n",
    "  - Metrics\n",
    "- Fitting\n",
    "  - epochs"
   ]
  },
  {
   "cell_type": "code",
   "execution_count": null,
   "metadata": {},
   "outputs": [],
   "source": [
    "tf.random.set_seed(42)\n",
    "np.random.seed(42)\n",
    "\n",
    "x = tf.constant(np.array(np.random.randint(-10, 10, [100])))\n",
    "\n",
    "y = x + 10\n",
    "\n",
    "x.numpy()[:5], y.numpy()[:5]\n",
    "\n",
    "np.random.seed(43)\n",
    "\n",
    "x_test = tf.constant(np.array(np.random.randint(-10, 10, [100])))\n",
    "\n",
    "y_test = x_test + 10"
   ]
  },
  {
   "cell_type": "markdown",
   "metadata": {},
   "source": [
    "### Model 0"
   ]
  },
  {
   "cell_type": "markdown",
   "metadata": {},
   "source": [
    "#### Modeling"
   ]
  },
  {
   "cell_type": "code",
   "execution_count": null,
   "metadata": {},
   "outputs": [],
   "source": [
    "scalar_m0 = tf.keras.Sequential()\n",
    "scalar_m0.add(tf.keras.layers.Dense(1, name = \"hidden_output_layer\"))\n",
    "\n",
    "scalar_m0.compile(loss = 'mae', optimizer = 'sgd', metrics = 'mae')\n",
    "\n",
    "scalar_m0_h = scalar_m0.fit(tf.expand_dims(x, axis = -1), y, epochs = 500)"
   ]
  },
  {
   "cell_type": "code",
   "execution_count": null,
   "metadata": {},
   "outputs": [],
   "source": [
    "scalar_m0.summary()"
   ]
  },
  {
   "cell_type": "code",
   "execution_count": null,
   "metadata": {},
   "outputs": [],
   "source": [
    "eval_scalar_m0 = scalar_m0.evaluate(x_test, y_test)\n",
    "eval_scalar_m0"
   ]
  },
  {
   "cell_type": "code",
   "execution_count": null,
   "metadata": {},
   "outputs": [],
   "source": [
    "y_pred = nnr.prediction_td(scalar_m0, x_test)\n",
    "\n",
    "print(\"Prediction: \", y_pred[0].numpy(), \"\\n\",\n",
    "      \"Test: \", y_test[0].numpy())"
   ]
  },
  {
   "cell_type": "code",
   "execution_count": null,
   "metadata": {},
   "outputs": [],
   "source": [
    "nnr.dataFrame(scalar_m0_h)"
   ]
  },
  {
   "cell_type": "code",
   "execution_count": null,
   "metadata": {},
   "outputs": [],
   "source": [
    "nnr.train_eval_comparison_native(scalar_m0_h, eval_scalar_m0)"
   ]
  },
  {
   "cell_type": "code",
   "execution_count": null,
   "metadata": {},
   "outputs": [],
   "source": [
    "nnr.train_eval_comparison_panda_table(scalar_m0_h, eval_scalar_m0)"
   ]
  },
  {
   "cell_type": "markdown",
   "metadata": {},
   "source": [
    "#### Change According to Evaluation"
   ]
  },
  {
   "cell_type": "code",
   "execution_count": null,
   "metadata": {},
   "outputs": [],
   "source": [
    "scalar_m0 = tf.keras.Sequential()\n",
    "scalar_m0.add(tf.keras.layers.Dense(1, name = \"hidden_output_layer\"))\n",
    "\n",
    "scalar_m0.compile(loss = 'mae', optimizer = 'sgd', metrics = 'mae')\n",
    "\n",
    "scalar_m0_h = scalar_m0.fit(tf.expand_dims(x, axis = -1), y, epochs = 300)"
   ]
  },
  {
   "cell_type": "code",
   "execution_count": null,
   "metadata": {},
   "outputs": [],
   "source": [
    "scalar_m0.summary()"
   ]
  },
  {
   "cell_type": "code",
   "execution_count": null,
   "metadata": {},
   "outputs": [],
   "source": [
    "eval_scalar_m0 = scalar_m0.evaluate(x_test, y_test)\n",
    "eval_scalar_m0"
   ]
  },
  {
   "cell_type": "code",
   "execution_count": null,
   "metadata": {},
   "outputs": [],
   "source": [
    "y_pred = nnr.prediction_td(scalar_m0, x_test)\n",
    "\n",
    "print(\"Prediction: \", y_pred[0].numpy(), \"\\n\",\n",
    "      \"Test: \", y_test[0].numpy())"
   ]
  },
  {
   "cell_type": "code",
   "execution_count": null,
   "metadata": {},
   "outputs": [],
   "source": [
    "nnr.dataFrame(scalar_m0_h)"
   ]
  },
  {
   "cell_type": "code",
   "execution_count": null,
   "metadata": {},
   "outputs": [],
   "source": [
    "nnr.train_eval_comparison_native(scalar_m0_h, eval_scalar_m0)"
   ]
  },
  {
   "cell_type": "code",
   "execution_count": null,
   "metadata": {},
   "outputs": [],
   "source": [
    "nnr.train_eval_comparison_panda_table(scalar_m0_h, eval_scalar_m0)"
   ]
  },
  {
   "cell_type": "markdown",
   "metadata": {},
   "source": [
    "#### Saving/Loading of Models and History and Evaluation of Saved Models and History"
   ]
  },
  {
   "cell_type": "markdown",
   "metadata": {},
   "source": [
    "##### Saving Model and History"
   ]
  },
  {
   "cell_type": "code",
   "execution_count": null,
   "metadata": {},
   "outputs": [],
   "source": [
    "nnr.save(\"./saved_files/NNRSC/Scalar_Model/m_0/\", \"scalar_m\", scalar_m0_h, scalar_m0)"
   ]
  },
  {
   "cell_type": "markdown",
   "metadata": {},
   "source": [
    "##### Loading Model and History"
   ]
  },
  {
   "cell_type": "code",
   "execution_count": null,
   "metadata": {},
   "outputs": [],
   "source": [
    "scalar_m0_h5 = tf.keras.models.load_model(\"./saved_files/NNRSC/Scalar_Model/m_0/scalar_m.h5\")\n",
    "scalar_m0_h_json = nnr.loadHist('./saved_files/NNRSC/Scalar_Model/m_0/scalar_m_h.json')"
   ]
  },
  {
   "cell_type": "markdown",
   "metadata": {},
   "source": [
    "##### Evaluation of Saved Data"
   ]
  },
  {
   "cell_type": "code",
   "execution_count": null,
   "metadata": {},
   "outputs": [],
   "source": [
    "eval_scalar_m0 = scalar_m0_h5.evaluate(x_test, y_test)\n",
    "eval_scalar_m0"
   ]
  },
  {
   "cell_type": "code",
   "execution_count": null,
   "metadata": {},
   "outputs": [],
   "source": [
    "y_pred = nnr.prediction_td(scalar_m0_h5, x_test)\n",
    "\n",
    "print(\"Prediction: \", y_pred[0].numpy(), \"\\n\",\n",
    "      \"Test: \", y_test[0].numpy())"
   ]
  },
  {
   "cell_type": "code",
   "execution_count": null,
   "metadata": {},
   "outputs": [],
   "source": [
    "nnr.pred_test_sPlt(x_test, y_test, y_pred)"
   ]
  },
  {
   "cell_type": "code",
   "execution_count": null,
   "metadata": {},
   "outputs": [],
   "source": [
    "nnr.dataFrame_lh(scalar_m0_h_json)"
   ]
  },
  {
   "cell_type": "code",
   "execution_count": null,
   "metadata": {},
   "outputs": [],
   "source": [
    "nnr.train_eval_comparison_native_lh(scalar_m0_h_json, eval_scalar_m0)"
   ]
  },
  {
   "cell_type": "code",
   "execution_count": null,
   "metadata": {},
   "outputs": [],
   "source": [
    "nnr.train_eval_comparison_panda_table_lh(scalar_m0_h_json, eval_scalar_m0)"
   ]
  },
  {
   "cell_type": "markdown",
   "metadata": {},
   "source": [
    "### Model 1\n",
    "- Add 1 layer with 50 units"
   ]
  },
  {
   "cell_type": "markdown",
   "metadata": {},
   "source": [
    "#### Modeling"
   ]
  },
  {
   "cell_type": "code",
   "execution_count": null,
   "metadata": {},
   "outputs": [],
   "source": [
    "scalar_m1 = tf.keras.Sequential()\n",
    "scalar_m1.add(tf.keras.layers.Dense(50, name = \"hidden_layer\"))\n",
    "scalar_m1.add(tf.keras.layers.Dense(1, name = \"output_layer\"))\n",
    "\n",
    "scalar_m1.compile(loss = 'mae', optimizer = 'sgd', metrics = 'mae')\n",
    "\n",
    "scalar_m1_h = scalar_m1.fit(tf.expand_dims(x, axis = -1), y, epochs = 300)"
   ]
  },
  {
   "cell_type": "code",
   "execution_count": null,
   "metadata": {},
   "outputs": [],
   "source": [
    "eval_scalar_m1 = scalar_m1.evaluate(x_test, y_test)\n",
    "eval_scalar_m1"
   ]
  },
  {
   "cell_type": "code",
   "execution_count": null,
   "metadata": {},
   "outputs": [],
   "source": [
    "y_pred = nnr.prediction_td(scalar_m1, x_test)\n",
    "\n",
    "print(\"Prediction: \", y_pred[0].numpy(), \"\\n\",\n",
    "      \"Test: \", y_test[0].numpy())"
   ]
  },
  {
   "cell_type": "code",
   "execution_count": null,
   "metadata": {},
   "outputs": [],
   "source": [
    "nnr.dataFrame(scalar_m1_h)"
   ]
  },
  {
   "cell_type": "code",
   "execution_count": null,
   "metadata": {},
   "outputs": [],
   "source": [
    "nnr.train_eval_comparison_native(scalar_m1_h, eval_scalar_m1)"
   ]
  },
  {
   "cell_type": "code",
   "execution_count": null,
   "metadata": {},
   "outputs": [],
   "source": [
    "nnr.train_eval_comparison_panda_table(scalar_m1_h, eval_scalar_m1)"
   ]
  },
  {
   "cell_type": "markdown",
   "metadata": {},
   "source": [
    "#### Change According to Eluation"
   ]
  },
  {
   "cell_type": "code",
   "execution_count": null,
   "metadata": {},
   "outputs": [],
   "source": [
    "scalar_m1 = tf.keras.Sequential()\n",
    "scalar_m1.add(tf.keras.layers.Dense(100, name = \"hidden_layer\"))\n",
    "scalar_m1.add(tf.keras.layers.Dense(1, name = \"output_layer\"))\n",
    "\n",
    "scalar_m1.compile(loss = 'mae', optimizer = 'sgd', metrics = 'mae')\n",
    "\n",
    "scalar_m1_h = scalar_m1.fit(tf.expand_dims(x, axis = -1), y, epochs = 300)"
   ]
  },
  {
   "cell_type": "code",
   "execution_count": null,
   "metadata": {},
   "outputs": [],
   "source": [
    "eval_scalar_m1 = scalar_m1.evaluate(x_test, y_test)\n",
    "eval_scalar_m1"
   ]
  },
  {
   "cell_type": "code",
   "execution_count": null,
   "metadata": {},
   "outputs": [],
   "source": [
    "y_pred = nnr.prediction_td(scalar_m1, x_test)\n",
    "\n",
    "print(\"Prediction: \", y_pred[0].numpy(), \"\\n\",\n",
    "      \"Test: \", y_test[0].numpy())"
   ]
  },
  {
   "cell_type": "code",
   "execution_count": null,
   "metadata": {},
   "outputs": [],
   "source": [
    "nnr.dataFrame(scalar_m1_h)"
   ]
  },
  {
   "cell_type": "code",
   "execution_count": null,
   "metadata": {},
   "outputs": [],
   "source": [
    "nnr.train_eval_comparison_native(scalar_m1_h, eval_scalar_m1)"
   ]
  },
  {
   "cell_type": "code",
   "execution_count": null,
   "metadata": {},
   "outputs": [],
   "source": [
    "nnr.train_eval_comparison_panda_table(scalar_m1_h, eval_scalar_m1)"
   ]
  },
  {
   "cell_type": "markdown",
   "metadata": {},
   "source": [
    "#### Saving/Loading of Models and History and Evaluation of Saved Models and History"
   ]
  },
  {
   "cell_type": "markdown",
   "metadata": {},
   "source": [
    "##### Saving Model and History"
   ]
  },
  {
   "cell_type": "code",
   "execution_count": null,
   "metadata": {},
   "outputs": [],
   "source": [
    "nnr.save(\"./saved_files/NNRSC/Scalar_Model/m_1/\", \"scalar_m1\", scalar_m1_h, scalar_m1)"
   ]
  },
  {
   "cell_type": "markdown",
   "metadata": {},
   "source": [
    "##### Loading Model and History"
   ]
  },
  {
   "cell_type": "code",
   "execution_count": null,
   "metadata": {},
   "outputs": [],
   "source": [
    "scalar_m1_h5 = tf.keras.models.load_model(\"./saved_files/NNRSC/Scalar_Model/m_1/scalar_m1.h5\")\n",
    "scalar_m1_h_json = nnr.loadHist('./saved_files/NNRSC/Scalar_Model/m_1/scalar_m1_h.json')"
   ]
  },
  {
   "cell_type": "markdown",
   "metadata": {},
   "source": [
    "##### Evaluation of Saved Data"
   ]
  },
  {
   "cell_type": "code",
   "execution_count": null,
   "metadata": {},
   "outputs": [],
   "source": [
    "eval_scalar_m1 = scalar_m1_h5.evaluate(x_test, y_test)\n",
    "eval_scalar_m1"
   ]
  },
  {
   "cell_type": "code",
   "execution_count": null,
   "metadata": {},
   "outputs": [],
   "source": [
    "y_pred = nnr.prediction_td(scalar_m1_h5, x_test)\n",
    "\n",
    "print(\"Prediction: \", y_pred[0].numpy(), \"\\n\",\n",
    "      \"Test: \", y_test[0].numpy())"
   ]
  },
  {
   "cell_type": "code",
   "execution_count": null,
   "metadata": {},
   "outputs": [],
   "source": [
    "nnr.pred_test_sPlt(x_test, y_test, y_pred)"
   ]
  },
  {
   "cell_type": "code",
   "execution_count": null,
   "metadata": {},
   "outputs": [],
   "source": [
    "nnr.dataFrame_lh(scalar_m1_h_json)"
   ]
  },
  {
   "cell_type": "code",
   "execution_count": null,
   "metadata": {},
   "outputs": [],
   "source": [
    "nnr.train_eval_comparison_native_lh(scalar_m1_h_json, eval_scalar_m1)"
   ]
  },
  {
   "cell_type": "code",
   "execution_count": null,
   "metadata": {},
   "outputs": [],
   "source": [
    "nnr.train_eval_comparison_panda_table_lh(scalar_m1_h_json, eval_scalar_m1)\n"
   ]
  },
  {
   "cell_type": "markdown",
   "metadata": {},
   "source": [
    "### Model 2\n",
    "- Activation Function = Adam(learning_rate = 0.01)"
   ]
  },
  {
   "cell_type": "markdown",
   "metadata": {},
   "source": [
    "#### Modeling"
   ]
  },
  {
   "cell_type": "code",
   "execution_count": null,
   "metadata": {},
   "outputs": [],
   "source": [
    "scalar_m2 = tf.keras.Sequential()\n",
    "scalar_m2.add(tf.keras.layers.Dense(1, name = \"output_layer\"))\n",
    "\n",
    "scalar_m2.compile(loss = 'mae', optimizer = tf.keras.optimizers.Adam(learning_rate = 0.01), metrics = 'mae')\n",
    "\n",
    "scalar_m2_h = scalar_m2.fit(tf.expand_dims(x, axis = -1), y, epochs = 300)"
   ]
  },
  {
   "cell_type": "code",
   "execution_count": null,
   "metadata": {},
   "outputs": [],
   "source": [
    "scalar_m2.summary()"
   ]
  },
  {
   "cell_type": "code",
   "execution_count": null,
   "metadata": {},
   "outputs": [],
   "source": [
    "eval_scalar_m2 = scalar_m2.evaluate(x_test, y_test)\n",
    "eval_scalar_m2"
   ]
  },
  {
   "cell_type": "code",
   "execution_count": null,
   "metadata": {},
   "outputs": [],
   "source": [
    "y_pred = nnr.prediction_td(scalar_m2, x_test)\n",
    "\n",
    "print(\"Prediction: \", y_pred[0].numpy(), \"\\n\",\n",
    "      \"Test: \", y_test[0].numpy())"
   ]
  },
  {
   "cell_type": "code",
   "execution_count": null,
   "metadata": {},
   "outputs": [],
   "source": [
    "nnr.dataFrame(scalar_m2_h)"
   ]
  },
  {
   "cell_type": "code",
   "execution_count": null,
   "metadata": {},
   "outputs": [],
   "source": [
    "nnr.train_eval_comparison_native(scalar_m2_h, eval_scalar_m2)"
   ]
  },
  {
   "cell_type": "code",
   "execution_count": null,
   "metadata": {},
   "outputs": [],
   "source": [
    "nnr.train_eval_comparison_panda_table(scalar_m2_h, eval_scalar_m2)"
   ]
  },
  {
   "cell_type": "markdown",
   "metadata": {},
   "source": [
    "#### Saving/Loading of Models and History and Evaluation of Saved Models and History"
   ]
  },
  {
   "cell_type": "markdown",
   "metadata": {},
   "source": [
    "##### Saving Model and History"
   ]
  },
  {
   "cell_type": "code",
   "execution_count": null,
   "metadata": {},
   "outputs": [],
   "source": [
    "nnr.save(\"./saved_files/NNRSC/Scalar_Model/m_2/\", \"scalar_m2\", scalar_m2_h, scalar_m2)"
   ]
  },
  {
   "cell_type": "markdown",
   "metadata": {},
   "source": [
    "##### Loading Model and History"
   ]
  },
  {
   "cell_type": "code",
   "execution_count": null,
   "metadata": {},
   "outputs": [],
   "source": [
    "scalar_m2_h5 = tf.keras.models.load_model(\"./saved_files/NNRSC/Scalar_Model/m_2/scalar_m2.h5\")\n",
    "scalar_m2_h_json = nnr.loadHist('./saved_files/NNRSC/Scalar_Model/m_2/scalar_m2_h.json')"
   ]
  },
  {
   "cell_type": "markdown",
   "metadata": {},
   "source": [
    "##### Evaluation of Saved Data"
   ]
  },
  {
   "cell_type": "code",
   "execution_count": null,
   "metadata": {},
   "outputs": [],
   "source": [
    "eval_scalar_m2 = scalar_m2_h5.evaluate(x_test, y_test)\n",
    "eval_scalar_m2"
   ]
  },
  {
   "cell_type": "code",
   "execution_count": null,
   "metadata": {},
   "outputs": [],
   "source": [
    "y_pred = nnr.prediction_td(scalar_m2_h5, x_test)\n",
    "\n",
    "print(\"Prediction: \", y_pred[0].numpy(), \"\\n\",\n",
    "      \"Test: \", y_test[0].numpy())"
   ]
  },
  {
   "cell_type": "code",
   "execution_count": null,
   "metadata": {},
   "outputs": [],
   "source": [
    "nnr.pred_test_sPlt(x_test, y_test, y_pred)"
   ]
  },
  {
   "cell_type": "code",
   "execution_count": null,
   "metadata": {},
   "outputs": [],
   "source": [
    "nnr.dataFrame_lh(scalar_m2_h_json)"
   ]
  },
  {
   "cell_type": "code",
   "execution_count": null,
   "metadata": {},
   "outputs": [],
   "source": [
    "nnr.train_eval_comparison_native_lh(scalar_m2_h_json, eval_scalar_m2)"
   ]
  },
  {
   "cell_type": "code",
   "execution_count": null,
   "metadata": {},
   "outputs": [],
   "source": [
    "nnr.train_eval_comparison_panda_table_lh(scalar_m2_h_json, eval_scalar_m2)"
   ]
  },
  {
   "cell_type": "markdown",
   "metadata": {},
   "source": [
    "### Model Summary\n",
    "- Comparison of Each Models"
   ]
  },
  {
   "cell_type": "code",
   "execution_count": null,
   "metadata": {},
   "outputs": [],
   "source": [
    "model = \"scalar_m\"\n",
    "cModel = 3\n",
    "\n",
    "model_data = []\n",
    "variable = vars()\n",
    "for x in range(cModel):\n",
    "  h_loss = np.around(variable[model + str(x) + \"_h_json\"]['loss'][-1], 3)\n",
    "  h_mae = np.around(variable[model + str(x) + \"_h_json\"]['mae'][-1], 3)\n",
    "  \n",
    "  e_loss = np.around(variable[\"eval_\" + model + str(x)][0], 3)\n",
    "  e_mae = np.around(variable[\"eval_\" + model + str(x)][1], 3)\n",
    "  \n",
    "  model_data.append([(\"Model \" + str(x)), h_loss, h_mae, e_loss, e_mae])\n",
    "\n",
    "pd.DataFrame(model_data, columns = [\"Model\", \"Training Loss\", \"Training MAE\", \"Eval Loss\", \"Eval MAE\"])"
   ]
  },
  {
   "cell_type": "code",
   "execution_count": 55,
   "metadata": {},
   "outputs": [
    {
     "ename": "NameError",
     "evalue": "name 'scalar_m0_h_json' is not defined",
     "output_type": "error",
     "traceback": [
      "\u001b[1;31m---------------------------------------------------------------------------\u001b[0m",
      "\u001b[1;31mNameError\u001b[0m                                 Traceback (most recent call last)",
      "\u001b[1;32md:\\Codes\\TensorFlow\\Zero to Mastery\\NNR_summary.ipynb Cell 103\u001b[0m in \u001b[0;36m<cell line: 1>\u001b[1;34m()\u001b[0m\n\u001b[1;32m----> <a href='vscode-notebook-cell:/d%3A/Codes/TensorFlow/Zero%20to%20Mastery/NNR_summary.ipynb#ch0000128?line=0'>1</a>\u001b[0m ax \u001b[39m=\u001b[39m pd\u001b[39m.\u001b[39mDataFrame(scalar_m0_h_json[\u001b[39m\"\u001b[39m\u001b[39mloss\u001b[39m\u001b[39m\"\u001b[39m])\u001b[39m.\u001b[39mplot(title \u001b[39m=\u001b[39m \u001b[39m\"\u001b[39m\u001b[39mModel Summary\u001b[39m\u001b[39m\"\u001b[39m)\n\u001b[0;32m      <a href='vscode-notebook-cell:/d%3A/Codes/TensorFlow/Zero%20to%20Mastery/NNR_summary.ipynb#ch0000128?line=1'>2</a>\u001b[0m plt\u001b[39m.\u001b[39mylabel(\u001b[39m\"\u001b[39m\u001b[39mloss\u001b[39m\u001b[39m\"\u001b[39m)\n\u001b[0;32m      <a href='vscode-notebook-cell:/d%3A/Codes/TensorFlow/Zero%20to%20Mastery/NNR_summary.ipynb#ch0000128?line=2'>3</a>\u001b[0m plt\u001b[39m.\u001b[39mxlabel(\u001b[39m\"\u001b[39m\u001b[39mepochs\u001b[39m\u001b[39m\"\u001b[39m)\n",
      "\u001b[1;31mNameError\u001b[0m: name 'scalar_m0_h_json' is not defined"
     ]
    }
   ],
   "source": [
    "ax = pd.DataFrame(scalar_m0_h_json[\"loss\"]).plot(title = \"Model Summary\")\n",
    "plt.ylabel(\"loss\")\n",
    "plt.xlabel(\"epochs\")\n",
    "pd.DataFrame(scalar_m1_h_json[\"loss\"]).plot(ax = ax)\n",
    "pd.DataFrame(scalar_m2_h_json[\"loss\"]).plot(ax = ax)\n",
    "\n",
    "plt.show()"
   ]
  },
  {
   "cell_type": "markdown",
   "metadata": {},
   "source": [
    "## Insurance Prediction Model\n",
    "- Pulling of Actual Data\n",
    "- Preparations of Data Set\n",
    "  - Divide data from test, train and eval(optional) set"
   ]
  },
  {
   "cell_type": "markdown",
   "metadata": {},
   "source": [
    "### Pulling of data\n",
    "> kaggle.com a dataset resources website"
   ]
  },
  {
   "cell_type": "markdown",
   "metadata": {},
   "source": [
    "#### Online"
   ]
  },
  {
   "cell_type": "code",
   "execution_count": null,
   "metadata": {},
   "outputs": [],
   "source": [
    "insurance_Online = pd.read_csv(\"https://raw.githubusercontent.com/stedy/Machine-Learning-with-R-datasets/master/insurance.csv\")\n",
    "insurance_Online"
   ]
  },
  {
   "cell_type": "markdown",
   "metadata": {},
   "source": [
    "#### Local Host"
   ]
  },
  {
   "cell_type": "code",
   "execution_count": 3,
   "metadata": {},
   "outputs": [
    {
     "data": {
      "text/html": [
       "<div>\n",
       "<style scoped>\n",
       "    .dataframe tbody tr th:only-of-type {\n",
       "        vertical-align: middle;\n",
       "    }\n",
       "\n",
       "    .dataframe tbody tr th {\n",
       "        vertical-align: top;\n",
       "    }\n",
       "\n",
       "    .dataframe thead th {\n",
       "        text-align: right;\n",
       "    }\n",
       "</style>\n",
       "<table border=\"1\" class=\"dataframe\">\n",
       "  <thead>\n",
       "    <tr style=\"text-align: right;\">\n",
       "      <th></th>\n",
       "      <th>age</th>\n",
       "      <th>sex</th>\n",
       "      <th>bmi</th>\n",
       "      <th>children</th>\n",
       "      <th>smoker</th>\n",
       "      <th>region</th>\n",
       "      <th>charges</th>\n",
       "    </tr>\n",
       "  </thead>\n",
       "  <tbody>\n",
       "    <tr>\n",
       "      <th>0</th>\n",
       "      <td>19</td>\n",
       "      <td>female</td>\n",
       "      <td>27.900</td>\n",
       "      <td>0</td>\n",
       "      <td>yes</td>\n",
       "      <td>southwest</td>\n",
       "      <td>16884.92400</td>\n",
       "    </tr>\n",
       "    <tr>\n",
       "      <th>1</th>\n",
       "      <td>18</td>\n",
       "      <td>male</td>\n",
       "      <td>33.770</td>\n",
       "      <td>1</td>\n",
       "      <td>no</td>\n",
       "      <td>southeast</td>\n",
       "      <td>1725.55230</td>\n",
       "    </tr>\n",
       "    <tr>\n",
       "      <th>2</th>\n",
       "      <td>28</td>\n",
       "      <td>male</td>\n",
       "      <td>33.000</td>\n",
       "      <td>3</td>\n",
       "      <td>no</td>\n",
       "      <td>southeast</td>\n",
       "      <td>4449.46200</td>\n",
       "    </tr>\n",
       "    <tr>\n",
       "      <th>3</th>\n",
       "      <td>33</td>\n",
       "      <td>male</td>\n",
       "      <td>22.705</td>\n",
       "      <td>0</td>\n",
       "      <td>no</td>\n",
       "      <td>northwest</td>\n",
       "      <td>21984.47061</td>\n",
       "    </tr>\n",
       "    <tr>\n",
       "      <th>4</th>\n",
       "      <td>32</td>\n",
       "      <td>male</td>\n",
       "      <td>28.880</td>\n",
       "      <td>0</td>\n",
       "      <td>no</td>\n",
       "      <td>northwest</td>\n",
       "      <td>3866.85520</td>\n",
       "    </tr>\n",
       "    <tr>\n",
       "      <th>...</th>\n",
       "      <td>...</td>\n",
       "      <td>...</td>\n",
       "      <td>...</td>\n",
       "      <td>...</td>\n",
       "      <td>...</td>\n",
       "      <td>...</td>\n",
       "      <td>...</td>\n",
       "    </tr>\n",
       "    <tr>\n",
       "      <th>1333</th>\n",
       "      <td>50</td>\n",
       "      <td>male</td>\n",
       "      <td>30.970</td>\n",
       "      <td>3</td>\n",
       "      <td>no</td>\n",
       "      <td>northwest</td>\n",
       "      <td>10600.54830</td>\n",
       "    </tr>\n",
       "    <tr>\n",
       "      <th>1334</th>\n",
       "      <td>18</td>\n",
       "      <td>female</td>\n",
       "      <td>31.920</td>\n",
       "      <td>0</td>\n",
       "      <td>no</td>\n",
       "      <td>northeast</td>\n",
       "      <td>2205.98080</td>\n",
       "    </tr>\n",
       "    <tr>\n",
       "      <th>1335</th>\n",
       "      <td>18</td>\n",
       "      <td>female</td>\n",
       "      <td>36.850</td>\n",
       "      <td>0</td>\n",
       "      <td>no</td>\n",
       "      <td>southeast</td>\n",
       "      <td>1629.83350</td>\n",
       "    </tr>\n",
       "    <tr>\n",
       "      <th>1336</th>\n",
       "      <td>21</td>\n",
       "      <td>female</td>\n",
       "      <td>25.800</td>\n",
       "      <td>0</td>\n",
       "      <td>no</td>\n",
       "      <td>southwest</td>\n",
       "      <td>2007.94500</td>\n",
       "    </tr>\n",
       "    <tr>\n",
       "      <th>1337</th>\n",
       "      <td>61</td>\n",
       "      <td>female</td>\n",
       "      <td>29.070</td>\n",
       "      <td>0</td>\n",
       "      <td>yes</td>\n",
       "      <td>northwest</td>\n",
       "      <td>29141.36030</td>\n",
       "    </tr>\n",
       "  </tbody>\n",
       "</table>\n",
       "<p>1338 rows × 7 columns</p>\n",
       "</div>"
      ],
      "text/plain": [
       "      age     sex     bmi  children smoker     region      charges\n",
       "0      19  female  27.900         0    yes  southwest  16884.92400\n",
       "1      18    male  33.770         1     no  southeast   1725.55230\n",
       "2      28    male  33.000         3     no  southeast   4449.46200\n",
       "3      33    male  22.705         0     no  northwest  21984.47061\n",
       "4      32    male  28.880         0     no  northwest   3866.85520\n",
       "...   ...     ...     ...       ...    ...        ...          ...\n",
       "1333   50    male  30.970         3     no  northwest  10600.54830\n",
       "1334   18  female  31.920         0     no  northeast   2205.98080\n",
       "1335   18  female  36.850         0     no  southeast   1629.83350\n",
       "1336   21  female  25.800         0     no  southwest   2007.94500\n",
       "1337   61  female  29.070         0    yes  northwest  29141.36030\n",
       "\n",
       "[1338 rows x 7 columns]"
      ]
     },
     "execution_count": 3,
     "metadata": {},
     "output_type": "execute_result"
    }
   ],
   "source": [
    "insurance_LF = pd.read_csv(\"./resources/csv/insurance.csv\")\n",
    "insurance_LF"
   ]
  },
  {
   "cell_type": "markdown",
   "metadata": {},
   "source": [
    "#### Optional Handling of data"
   ]
  },
  {
   "cell_type": "markdown",
   "metadata": {},
   "source": [
    "##### Changing Categorical Data to One-Hot Encoding"
   ]
  },
  {
   "cell_type": "code",
   "execution_count": 4,
   "metadata": {},
   "outputs": [
    {
     "data": {
      "text/html": [
       "<div>\n",
       "<style scoped>\n",
       "    .dataframe tbody tr th:only-of-type {\n",
       "        vertical-align: middle;\n",
       "    }\n",
       "\n",
       "    .dataframe tbody tr th {\n",
       "        vertical-align: top;\n",
       "    }\n",
       "\n",
       "    .dataframe thead th {\n",
       "        text-align: right;\n",
       "    }\n",
       "</style>\n",
       "<table border=\"1\" class=\"dataframe\">\n",
       "  <thead>\n",
       "    <tr style=\"text-align: right;\">\n",
       "      <th></th>\n",
       "      <th>age</th>\n",
       "      <th>bmi</th>\n",
       "      <th>children</th>\n",
       "      <th>charges</th>\n",
       "      <th>sex_female</th>\n",
       "      <th>sex_male</th>\n",
       "      <th>smoker_no</th>\n",
       "      <th>smoker_yes</th>\n",
       "      <th>region_northeast</th>\n",
       "      <th>region_northwest</th>\n",
       "      <th>region_southeast</th>\n",
       "      <th>region_southwest</th>\n",
       "    </tr>\n",
       "  </thead>\n",
       "  <tbody>\n",
       "    <tr>\n",
       "      <th>0</th>\n",
       "      <td>19</td>\n",
       "      <td>27.900</td>\n",
       "      <td>0</td>\n",
       "      <td>16884.92400</td>\n",
       "      <td>1</td>\n",
       "      <td>0</td>\n",
       "      <td>0</td>\n",
       "      <td>1</td>\n",
       "      <td>0</td>\n",
       "      <td>0</td>\n",
       "      <td>0</td>\n",
       "      <td>1</td>\n",
       "    </tr>\n",
       "    <tr>\n",
       "      <th>1</th>\n",
       "      <td>18</td>\n",
       "      <td>33.770</td>\n",
       "      <td>1</td>\n",
       "      <td>1725.55230</td>\n",
       "      <td>0</td>\n",
       "      <td>1</td>\n",
       "      <td>1</td>\n",
       "      <td>0</td>\n",
       "      <td>0</td>\n",
       "      <td>0</td>\n",
       "      <td>1</td>\n",
       "      <td>0</td>\n",
       "    </tr>\n",
       "    <tr>\n",
       "      <th>2</th>\n",
       "      <td>28</td>\n",
       "      <td>33.000</td>\n",
       "      <td>3</td>\n",
       "      <td>4449.46200</td>\n",
       "      <td>0</td>\n",
       "      <td>1</td>\n",
       "      <td>1</td>\n",
       "      <td>0</td>\n",
       "      <td>0</td>\n",
       "      <td>0</td>\n",
       "      <td>1</td>\n",
       "      <td>0</td>\n",
       "    </tr>\n",
       "    <tr>\n",
       "      <th>3</th>\n",
       "      <td>33</td>\n",
       "      <td>22.705</td>\n",
       "      <td>0</td>\n",
       "      <td>21984.47061</td>\n",
       "      <td>0</td>\n",
       "      <td>1</td>\n",
       "      <td>1</td>\n",
       "      <td>0</td>\n",
       "      <td>0</td>\n",
       "      <td>1</td>\n",
       "      <td>0</td>\n",
       "      <td>0</td>\n",
       "    </tr>\n",
       "    <tr>\n",
       "      <th>4</th>\n",
       "      <td>32</td>\n",
       "      <td>28.880</td>\n",
       "      <td>0</td>\n",
       "      <td>3866.85520</td>\n",
       "      <td>0</td>\n",
       "      <td>1</td>\n",
       "      <td>1</td>\n",
       "      <td>0</td>\n",
       "      <td>0</td>\n",
       "      <td>1</td>\n",
       "      <td>0</td>\n",
       "      <td>0</td>\n",
       "    </tr>\n",
       "    <tr>\n",
       "      <th>...</th>\n",
       "      <td>...</td>\n",
       "      <td>...</td>\n",
       "      <td>...</td>\n",
       "      <td>...</td>\n",
       "      <td>...</td>\n",
       "      <td>...</td>\n",
       "      <td>...</td>\n",
       "      <td>...</td>\n",
       "      <td>...</td>\n",
       "      <td>...</td>\n",
       "      <td>...</td>\n",
       "      <td>...</td>\n",
       "    </tr>\n",
       "    <tr>\n",
       "      <th>1333</th>\n",
       "      <td>50</td>\n",
       "      <td>30.970</td>\n",
       "      <td>3</td>\n",
       "      <td>10600.54830</td>\n",
       "      <td>0</td>\n",
       "      <td>1</td>\n",
       "      <td>1</td>\n",
       "      <td>0</td>\n",
       "      <td>0</td>\n",
       "      <td>1</td>\n",
       "      <td>0</td>\n",
       "      <td>0</td>\n",
       "    </tr>\n",
       "    <tr>\n",
       "      <th>1334</th>\n",
       "      <td>18</td>\n",
       "      <td>31.920</td>\n",
       "      <td>0</td>\n",
       "      <td>2205.98080</td>\n",
       "      <td>1</td>\n",
       "      <td>0</td>\n",
       "      <td>1</td>\n",
       "      <td>0</td>\n",
       "      <td>1</td>\n",
       "      <td>0</td>\n",
       "      <td>0</td>\n",
       "      <td>0</td>\n",
       "    </tr>\n",
       "    <tr>\n",
       "      <th>1335</th>\n",
       "      <td>18</td>\n",
       "      <td>36.850</td>\n",
       "      <td>0</td>\n",
       "      <td>1629.83350</td>\n",
       "      <td>1</td>\n",
       "      <td>0</td>\n",
       "      <td>1</td>\n",
       "      <td>0</td>\n",
       "      <td>0</td>\n",
       "      <td>0</td>\n",
       "      <td>1</td>\n",
       "      <td>0</td>\n",
       "    </tr>\n",
       "    <tr>\n",
       "      <th>1336</th>\n",
       "      <td>21</td>\n",
       "      <td>25.800</td>\n",
       "      <td>0</td>\n",
       "      <td>2007.94500</td>\n",
       "      <td>1</td>\n",
       "      <td>0</td>\n",
       "      <td>1</td>\n",
       "      <td>0</td>\n",
       "      <td>0</td>\n",
       "      <td>0</td>\n",
       "      <td>0</td>\n",
       "      <td>1</td>\n",
       "    </tr>\n",
       "    <tr>\n",
       "      <th>1337</th>\n",
       "      <td>61</td>\n",
       "      <td>29.070</td>\n",
       "      <td>0</td>\n",
       "      <td>29141.36030</td>\n",
       "      <td>1</td>\n",
       "      <td>0</td>\n",
       "      <td>0</td>\n",
       "      <td>1</td>\n",
       "      <td>0</td>\n",
       "      <td>1</td>\n",
       "      <td>0</td>\n",
       "      <td>0</td>\n",
       "    </tr>\n",
       "  </tbody>\n",
       "</table>\n",
       "<p>1338 rows × 12 columns</p>\n",
       "</div>"
      ],
      "text/plain": [
       "      age     bmi  children      charges  sex_female  sex_male  smoker_no  \\\n",
       "0      19  27.900         0  16884.92400           1         0          0   \n",
       "1      18  33.770         1   1725.55230           0         1          1   \n",
       "2      28  33.000         3   4449.46200           0         1          1   \n",
       "3      33  22.705         0  21984.47061           0         1          1   \n",
       "4      32  28.880         0   3866.85520           0         1          1   \n",
       "...   ...     ...       ...          ...         ...       ...        ...   \n",
       "1333   50  30.970         3  10600.54830           0         1          1   \n",
       "1334   18  31.920         0   2205.98080           1         0          1   \n",
       "1335   18  36.850         0   1629.83350           1         0          1   \n",
       "1336   21  25.800         0   2007.94500           1         0          1   \n",
       "1337   61  29.070         0  29141.36030           1         0          0   \n",
       "\n",
       "      smoker_yes  region_northeast  region_northwest  region_southeast  \\\n",
       "0              1                 0                 0                 0   \n",
       "1              0                 0                 0                 1   \n",
       "2              0                 0                 0                 1   \n",
       "3              0                 0                 1                 0   \n",
       "4              0                 0                 1                 0   \n",
       "...          ...               ...               ...               ...   \n",
       "1333           0                 0                 1                 0   \n",
       "1334           0                 1                 0                 0   \n",
       "1335           0                 0                 0                 1   \n",
       "1336           0                 0                 0                 0   \n",
       "1337           1                 0                 1                 0   \n",
       "\n",
       "      region_southwest  \n",
       "0                    1  \n",
       "1                    0  \n",
       "2                    0  \n",
       "3                    0  \n",
       "4                    0  \n",
       "...                ...  \n",
       "1333                 0  \n",
       "1334                 0  \n",
       "1335                 0  \n",
       "1336                 1  \n",
       "1337                 0  \n",
       "\n",
       "[1338 rows x 12 columns]"
      ]
     },
     "execution_count": 4,
     "metadata": {},
     "output_type": "execute_result"
    }
   ],
   "source": [
    "insurance_LF = pd.get_dummies(insurance_LF)\n",
    "insurance_LF"
   ]
  },
  {
   "cell_type": "markdown",
   "metadata": {},
   "source": [
    "##### Normalization"
   ]
  },
  {
   "cell_type": "code",
   "execution_count": null,
   "metadata": {},
   "outputs": [],
   "source": [
    "ct = mct(\n",
    "  (mms(), [\"age\", \"bmi\", \"children\"]),\n",
    "  (ohe(handle_unknown = \"ignore\"), [\"sex\", \"smoker\", \"region\"]),\n",
    ")\n",
    "ct"
   ]
  },
  {
   "cell_type": "markdown",
   "metadata": {},
   "source": [
    "### Preparing Data"
   ]
  },
  {
   "cell_type": "code",
   "execution_count": 10,
   "metadata": {},
   "outputs": [],
   "source": [
    "insurance_LF = pd.read_csv(\"./resources/csv/insurance.csv\")\n",
    "\n",
    "ct = mct(\n",
    "  (mms(), [\"age\", \"bmi\", \"children\"]),\n",
    "  (ohe(handle_unknown = \"ignore\"), [\"sex\", \"smoker\", \"region\"]),\n",
    ")\n",
    "\n",
    "x = insurance_LF.drop(\"charges\", axis = 1)\n",
    "y = insurance_LF[\"charges\"]\n",
    "\n",
    "x_train, x_test, y_train, y_test = tts(x, y, test_size = 0.2, random_state = 42)\n",
    "\n",
    "ct.fit(x_train)\n",
    "\n",
    "x_train_n = ct.transform(x_train)\n",
    "x_test_n = ct.transform(x_test)"
   ]
  },
  {
   "cell_type": "markdown",
   "metadata": {},
   "source": [
    "### Model 0"
   ]
  },
  {
   "cell_type": "markdown",
   "metadata": {},
   "source": [
    "#### Modeling"
   ]
  },
  {
   "cell_type": "code",
   "execution_count": 11,
   "metadata": {},
   "outputs": [
    {
     "name": "stdout",
     "output_type": "stream",
     "text": [
      "Epoch 1/100\n",
      "34/34 [==============================] - 1s 4ms/step - loss: 13342.7930 - mae: 13342.7930\n",
      "Epoch 2/100\n",
      "34/34 [==============================] - 0s 4ms/step - loss: 13323.5977 - mae: 13323.5977\n",
      "Epoch 3/100\n",
      "34/34 [==============================] - 0s 4ms/step - loss: 13278.3594 - mae: 13278.3594\n",
      "Epoch 4/100\n",
      "34/34 [==============================] - 0s 5ms/step - loss: 13201.6875 - mae: 13201.6875\n",
      "Epoch 5/100\n",
      "34/34 [==============================] - 0s 5ms/step - loss: 13092.1768 - mae: 13092.1768\n",
      "Epoch 6/100\n",
      "34/34 [==============================] - 0s 5ms/step - loss: 12950.0723 - mae: 12950.0723\n",
      "Epoch 7/100\n",
      "34/34 [==============================] - 0s 3ms/step - loss: 12775.4189 - mae: 12775.4189\n",
      "Epoch 8/100\n",
      "34/34 [==============================] - 0s 3ms/step - loss: 12568.8379 - mae: 12568.8379\n",
      "Epoch 9/100\n",
      "34/34 [==============================] - 0s 3ms/step - loss: 12330.2529 - mae: 12330.2529\n",
      "Epoch 10/100\n",
      "34/34 [==============================] - 0s 3ms/step - loss: 12061.9971 - mae: 12061.9971\n",
      "Epoch 11/100\n",
      "34/34 [==============================] - 0s 3ms/step - loss: 11769.7725 - mae: 11769.7725\n",
      "Epoch 12/100\n",
      "34/34 [==============================] - 0s 3ms/step - loss: 11457.9160 - mae: 11457.9160\n",
      "Epoch 13/100\n",
      "34/34 [==============================] - 0s 4ms/step - loss: 11145.2979 - mae: 11145.2979\n",
      "Epoch 14/100\n",
      "34/34 [==============================] - 0s 3ms/step - loss: 10843.4648 - mae: 10843.4648\n",
      "Epoch 15/100\n",
      "34/34 [==============================] - 0s 3ms/step - loss: 10552.8340 - mae: 10552.8340\n",
      "Epoch 16/100\n",
      "34/34 [==============================] - 0s 3ms/step - loss: 10265.8213 - mae: 10265.8213\n",
      "Epoch 17/100\n",
      "34/34 [==============================] - 0s 3ms/step - loss: 9988.3291 - mae: 9988.3291\n",
      "Epoch 18/100\n",
      "34/34 [==============================] - 0s 3ms/step - loss: 9724.2021 - mae: 9724.2021\n",
      "Epoch 19/100\n",
      "34/34 [==============================] - 0s 4ms/step - loss: 9474.6279 - mae: 9474.6279\n",
      "Epoch 20/100\n",
      "34/34 [==============================] - 0s 4ms/step - loss: 9250.8223 - mae: 9250.8223\n",
      "Epoch 21/100\n",
      "34/34 [==============================] - 0s 4ms/step - loss: 9040.7881 - mae: 9040.7881\n",
      "Epoch 22/100\n",
      "34/34 [==============================] - 0s 3ms/step - loss: 8852.0186 - mae: 8852.0186\n",
      "Epoch 23/100\n",
      "34/34 [==============================] - 0s 4ms/step - loss: 8688.0410 - mae: 8688.0410\n",
      "Epoch 24/100\n",
      "34/34 [==============================] - 0s 4ms/step - loss: 8535.4004 - mae: 8535.4004\n",
      "Epoch 25/100\n",
      "34/34 [==============================] - 0s 4ms/step - loss: 8403.6416 - mae: 8403.6416\n",
      "Epoch 26/100\n",
      "34/34 [==============================] - 0s 4ms/step - loss: 8289.5967 - mae: 8289.5967\n",
      "Epoch 27/100\n",
      "34/34 [==============================] - 0s 3ms/step - loss: 8191.3906 - mae: 8191.3906\n",
      "Epoch 28/100\n",
      "34/34 [==============================] - 0s 3ms/step - loss: 8109.8008 - mae: 8109.8008\n",
      "Epoch 29/100\n",
      "34/34 [==============================] - 0s 3ms/step - loss: 8037.1562 - mae: 8037.1562\n",
      "Epoch 30/100\n",
      "34/34 [==============================] - 0s 3ms/step - loss: 7975.4878 - mae: 7975.4878\n",
      "Epoch 31/100\n",
      "34/34 [==============================] - 0s 4ms/step - loss: 7923.8213 - mae: 7923.8213\n",
      "Epoch 32/100\n",
      "34/34 [==============================] - 0s 4ms/step - loss: 7878.6187 - mae: 7878.6187\n",
      "Epoch 33/100\n",
      "34/34 [==============================] - 0s 4ms/step - loss: 7836.6440 - mae: 7836.6440\n",
      "Epoch 34/100\n",
      "34/34 [==============================] - 0s 3ms/step - loss: 7799.5288 - mae: 7799.5288\n",
      "Epoch 35/100\n",
      "34/34 [==============================] - 0s 4ms/step - loss: 7763.7188 - mae: 7763.7188\n",
      "Epoch 36/100\n",
      "34/34 [==============================] - 0s 3ms/step - loss: 7730.2988 - mae: 7730.2988\n",
      "Epoch 37/100\n",
      "34/34 [==============================] - 0s 3ms/step - loss: 7697.0679 - mae: 7697.0679\n",
      "Epoch 38/100\n",
      "34/34 [==============================] - 0s 3ms/step - loss: 7664.9414 - mae: 7664.9414\n",
      "Epoch 39/100\n",
      "34/34 [==============================] - 0s 3ms/step - loss: 7633.4624 - mae: 7633.4624\n",
      "Epoch 40/100\n",
      "34/34 [==============================] - 0s 4ms/step - loss: 7602.2134 - mae: 7602.2139\n",
      "Epoch 41/100\n",
      "34/34 [==============================] - 0s 4ms/step - loss: 7571.8418 - mae: 7571.8418\n",
      "Epoch 42/100\n",
      "34/34 [==============================] - 0s 3ms/step - loss: 7540.8076 - mae: 7540.8076\n",
      "Epoch 43/100\n",
      "34/34 [==============================] - 0s 4ms/step - loss: 7509.3804 - mae: 7509.3804\n",
      "Epoch 44/100\n",
      "34/34 [==============================] - 0s 3ms/step - loss: 7476.4717 - mae: 7476.4717\n",
      "Epoch 45/100\n",
      "34/34 [==============================] - 0s 3ms/step - loss: 7445.5430 - mae: 7445.5430\n",
      "Epoch 46/100\n",
      "34/34 [==============================] - 0s 4ms/step - loss: 7412.4287 - mae: 7412.4287\n",
      "Epoch 47/100\n",
      "34/34 [==============================] - 0s 4ms/step - loss: 7380.4429 - mae: 7380.4429\n",
      "Epoch 48/100\n",
      "34/34 [==============================] - 0s 3ms/step - loss: 7347.8145 - mae: 7347.8145\n",
      "Epoch 49/100\n",
      "34/34 [==============================] - 0s 4ms/step - loss: 7314.8389 - mae: 7314.8389\n",
      "Epoch 50/100\n",
      "34/34 [==============================] - 0s 3ms/step - loss: 7280.5962 - mae: 7280.5962\n",
      "Epoch 51/100\n",
      "34/34 [==============================] - 0s 3ms/step - loss: 7246.6558 - mae: 7246.6558\n",
      "Epoch 52/100\n",
      "34/34 [==============================] - 0s 4ms/step - loss: 7211.6836 - mae: 7211.6836\n",
      "Epoch 53/100\n",
      "34/34 [==============================] - 0s 4ms/step - loss: 7176.8794 - mae: 7176.8794\n",
      "Epoch 54/100\n",
      "34/34 [==============================] - 0s 3ms/step - loss: 7140.7061 - mae: 7140.7061\n",
      "Epoch 55/100\n",
      "34/34 [==============================] - 0s 4ms/step - loss: 7104.3066 - mae: 7104.3066\n",
      "Epoch 56/100\n",
      "34/34 [==============================] - 0s 4ms/step - loss: 7067.1089 - mae: 7067.1089\n",
      "Epoch 57/100\n",
      "34/34 [==============================] - 0s 4ms/step - loss: 7028.6348 - mae: 7028.6348\n",
      "Epoch 58/100\n",
      "34/34 [==============================] - 0s 3ms/step - loss: 6990.6230 - mae: 6990.6230\n",
      "Epoch 59/100\n",
      "34/34 [==============================] - 0s 4ms/step - loss: 6950.2744 - mae: 6950.2744\n",
      "Epoch 60/100\n",
      "34/34 [==============================] - 0s 3ms/step - loss: 6911.1924 - mae: 6911.1924\n",
      "Epoch 61/100\n",
      "34/34 [==============================] - 0s 3ms/step - loss: 6869.9072 - mae: 6869.9072\n",
      "Epoch 62/100\n",
      "34/34 [==============================] - 0s 3ms/step - loss: 6828.3213 - mae: 6828.3213\n",
      "Epoch 63/100\n",
      "34/34 [==============================] - 0s 3ms/step - loss: 6785.3047 - mae: 6785.3047\n",
      "Epoch 64/100\n",
      "34/34 [==============================] - 0s 4ms/step - loss: 6742.0000 - mae: 6742.0000\n",
      "Epoch 65/100\n",
      "34/34 [==============================] - 0s 4ms/step - loss: 6697.1992 - mae: 6697.1992\n",
      "Epoch 66/100\n",
      "34/34 [==============================] - 0s 4ms/step - loss: 6651.6899 - mae: 6651.6899\n",
      "Epoch 67/100\n",
      "34/34 [==============================] - 0s 4ms/step - loss: 6605.0029 - mae: 6605.0029\n",
      "Epoch 68/100\n",
      "34/34 [==============================] - 0s 4ms/step - loss: 6558.5127 - mae: 6558.5127\n",
      "Epoch 69/100\n",
      "34/34 [==============================] - 0s 3ms/step - loss: 6509.9111 - mae: 6509.9111\n",
      "Epoch 70/100\n",
      "34/34 [==============================] - 0s 4ms/step - loss: 6461.0972 - mae: 6461.0972\n",
      "Epoch 71/100\n",
      "34/34 [==============================] - 0s 3ms/step - loss: 6409.8779 - mae: 6409.8779\n",
      "Epoch 72/100\n",
      "34/34 [==============================] - 0s 3ms/step - loss: 6357.3604 - mae: 6357.3604\n",
      "Epoch 73/100\n",
      "34/34 [==============================] - 0s 3ms/step - loss: 6305.1909 - mae: 6305.1909\n",
      "Epoch 74/100\n",
      "34/34 [==============================] - 0s 3ms/step - loss: 6250.8975 - mae: 6250.8975\n",
      "Epoch 75/100\n",
      "34/34 [==============================] - 0s 3ms/step - loss: 6195.3833 - mae: 6195.3833\n",
      "Epoch 76/100\n",
      "34/34 [==============================] - 0s 3ms/step - loss: 6138.1323 - mae: 6138.1323\n",
      "Epoch 77/100\n",
      "34/34 [==============================] - 0s 4ms/step - loss: 6081.1089 - mae: 6081.1089\n",
      "Epoch 78/100\n",
      "34/34 [==============================] - 0s 4ms/step - loss: 6019.9971 - mae: 6019.9971\n",
      "Epoch 79/100\n",
      "34/34 [==============================] - 0s 3ms/step - loss: 5960.6982 - mae: 5960.6982\n",
      "Epoch 80/100\n",
      "34/34 [==============================] - 0s 4ms/step - loss: 5898.0479 - mae: 5898.0479\n",
      "Epoch 81/100\n",
      "34/34 [==============================] - 0s 4ms/step - loss: 5835.3804 - mae: 5835.3804\n",
      "Epoch 82/100\n",
      "34/34 [==============================] - 0s 3ms/step - loss: 5771.0884 - mae: 5771.0884\n",
      "Epoch 83/100\n",
      "34/34 [==============================] - 0s 6ms/step - loss: 5706.8408 - mae: 5706.8408\n",
      "Epoch 84/100\n",
      "34/34 [==============================] - 0s 5ms/step - loss: 5639.8457 - mae: 5639.8457\n",
      "Epoch 85/100\n",
      "34/34 [==============================] - 0s 3ms/step - loss: 5572.8491 - mae: 5572.8491\n",
      "Epoch 86/100\n",
      "34/34 [==============================] - 0s 3ms/step - loss: 5504.4136 - mae: 5504.4136\n",
      "Epoch 87/100\n",
      "34/34 [==============================] - 0s 3ms/step - loss: 5436.8125 - mae: 5436.8125\n",
      "Epoch 88/100\n",
      "34/34 [==============================] - 0s 3ms/step - loss: 5369.2754 - mae: 5369.2754\n",
      "Epoch 89/100\n",
      "34/34 [==============================] - 0s 3ms/step - loss: 5301.4546 - mae: 5301.4546\n",
      "Epoch 90/100\n",
      "34/34 [==============================] - 0s 3ms/step - loss: 5231.8765 - mae: 5231.8765\n",
      "Epoch 91/100\n",
      "34/34 [==============================] - 0s 4ms/step - loss: 5161.4927 - mae: 5161.4927\n",
      "Epoch 92/100\n",
      "34/34 [==============================] - 0s 4ms/step - loss: 5092.4536 - mae: 5092.4536\n",
      "Epoch 93/100\n",
      "34/34 [==============================] - 0s 3ms/step - loss: 5022.2173 - mae: 5022.2173\n",
      "Epoch 94/100\n",
      "34/34 [==============================] - 0s 4ms/step - loss: 4953.5396 - mae: 4953.5396\n",
      "Epoch 95/100\n",
      "34/34 [==============================] - 0s 3ms/step - loss: 4882.7261 - mae: 4882.7261\n",
      "Epoch 96/100\n",
      "34/34 [==============================] - 0s 4ms/step - loss: 4813.0142 - mae: 4813.0142\n",
      "Epoch 97/100\n",
      "34/34 [==============================] - 0s 3ms/step - loss: 4743.3442 - mae: 4743.3442\n",
      "Epoch 98/100\n",
      "34/34 [==============================] - 0s 4ms/step - loss: 4673.8970 - mae: 4673.8970\n",
      "Epoch 99/100\n",
      "34/34 [==============================] - 0s 4ms/step - loss: 4606.3857 - mae: 4606.3857\n",
      "Epoch 100/100\n",
      "34/34 [==============================] - 0s 3ms/step - loss: 4538.9390 - mae: 4538.9390\n"
     ]
    }
   ],
   "source": [
    "insurance_m0 = tf.keras.Sequential(name = \"Insurance_Prediction_Model\")\n",
    "insurance_m0.add(tf.keras.layers.Dense(\n",
    "  units = 10,\n",
    "  name = \"hidden_layer\"\n",
    "))\n",
    "insurance_m0.add(tf.keras.layers.Dense(\n",
    "  units = 1,\n",
    "  name = \"ouput_layer\"\n",
    "))\n",
    "\n",
    "insurance_m0.compile(\n",
    "  loss = 'mae',\n",
    "  optimizer = tf.keras.optimizers.Adam(learning_rate = 0.01),\n",
    "  metrics = 'mae'\n",
    ")\n",
    "\n",
    "insurance_m0_h = insurance_m0.fit(x_train_n, y_train, epochs = 100)\n"
   ]
  },
  {
   "cell_type": "code",
   "execution_count": 12,
   "metadata": {},
   "outputs": [
    {
     "name": "stdout",
     "output_type": "stream",
     "text": [
      "9/9 [==============================] - 0s 3ms/step - loss: 4485.4795 - mae: 4485.4795\n"
     ]
    }
   ],
   "source": [
    "eval_insurance_m0 = insurance_m0.evaluate(x_test_n, y_test)"
   ]
  },
  {
   "cell_type": "code",
   "execution_count": 13,
   "metadata": {},
   "outputs": [],
   "source": [
    "y_test = tf.constant(y_test)"
   ]
  },
  {
   "cell_type": "code",
   "execution_count": 14,
   "metadata": {},
   "outputs": [
    {
     "name": "stdout",
     "output_type": "stream",
     "text": [
      "9/9 [==============================] - 0s 2ms/step\n"
     ]
    }
   ],
   "source": [
    "y_pred = nnr.prediction_td(insurance_m0, x_test_n)"
   ]
  },
  {
   "cell_type": "code",
   "execution_count": 15,
   "metadata": {},
   "outputs": [
    {
     "name": "stdout",
     "output_type": "stream",
     "text": [
      "Predicted:  9550.836 \n",
      " Test:  9872.701 \n",
      " Difference:  321.8650624999991\n"
     ]
    }
   ],
   "source": [
    "index = -1\n",
    "\n",
    "print(\"Predicted: \", y_pred[index].numpy(), \"\\n\",\n",
    "      \"Test: \", y_test[index].numpy(), \"\\n\",\n",
    "      \"Difference: \", y_test[index].numpy() - y_pred[index].numpy())"
   ]
  },
  {
   "cell_type": "code",
   "execution_count": 16,
   "metadata": {},
   "outputs": [
    {
     "data": {
      "image/png": "[encoded data removed]",
      "text/plain": [
       "<Figure size 432x288 with 1 Axes>"
      ]
     },
     "metadata": {
      "needs_background": "light"
     },
     "output_type": "display_data"
    }
   ],
   "source": [
    "nnr.pred_test_sPlt(y_test.numpy(), y_pred.numpy())"
   ]
  },
  {
   "cell_type": "code",
   "execution_count": 56,
   "metadata": {},
   "outputs": [
    {
     "data": {
      "image/png": "[encoded data removed]",
      "text/plain": [
       "<Figure size 432x288 with 1 Axes>"
      ]
     },
     "metadata": {
      "needs_background": "light"
     },
     "output_type": "display_data"
    }
   ],
   "source": [
    "nnr.dataFrame(insurance_m0_h)"
   ]
  },
  {
   "cell_type": "code",
   "execution_count": 19,
   "metadata": {},
   "outputs": [
    {
     "name": "stdout",
     "output_type": "stream",
     "text": [
      "Training Loss:  4576.813 \n",
      "Evaluation Loss:  4534.005 \n",
      "Difference:  42.808\n"
     ]
    }
   ],
   "source": [
    "nnr.train_eval_comparison_native(insurance_m0_h, eval_insurance_m0)"
   ]
  },
  {
   "cell_type": "code",
   "execution_count": 20,
   "metadata": {},
   "outputs": [
    {
     "data": {
      "text/html": [
       "<div>\n",
       "<style scoped>\n",
       "    .dataframe tbody tr th:only-of-type {\n",
       "        vertical-align: middle;\n",
       "    }\n",
       "\n",
       "    .dataframe tbody tr th {\n",
       "        vertical-align: top;\n",
       "    }\n",
       "\n",
       "    .dataframe thead th {\n",
       "        text-align: right;\n",
       "    }\n",
       "</style>\n",
       "<table border=\"1\" class=\"dataframe\">\n",
       "  <thead>\n",
       "    <tr style=\"text-align: right;\">\n",
       "      <th></th>\n",
       "      <th>Data</th>\n",
       "      <th>Loss</th>\n",
       "      <th>MAE</th>\n",
       "    </tr>\n",
       "  </thead>\n",
       "  <tbody>\n",
       "    <tr>\n",
       "      <th>0</th>\n",
       "      <td>Training Data</td>\n",
       "      <td>4576.813</td>\n",
       "      <td>4576.813</td>\n",
       "    </tr>\n",
       "    <tr>\n",
       "      <th>1</th>\n",
       "      <td>Evaluation Data</td>\n",
       "      <td>4534.005</td>\n",
       "      <td>4534.005</td>\n",
       "    </tr>\n",
       "    <tr>\n",
       "      <th>2</th>\n",
       "      <td>Difference</td>\n",
       "      <td>42.808</td>\n",
       "      <td>42.808</td>\n",
       "    </tr>\n",
       "  </tbody>\n",
       "</table>\n",
       "</div>"
      ],
      "text/plain": [
       "              Data      Loss       MAE\n",
       "0    Training Data  4576.813  4576.813\n",
       "1  Evaluation Data  4534.005  4534.005\n",
       "2       Difference    42.808    42.808"
      ]
     },
     "execution_count": 20,
     "metadata": {},
     "output_type": "execute_result"
    }
   ],
   "source": [
    "nnr.train_eval_comparison_panda_table(insurance_m0_h, eval_insurance_m0)"
   ]
  },
  {
   "cell_type": "code",
   "execution_count": 21,
   "metadata": {},
   "outputs": [
    {
     "name": "stdout",
     "output_type": "stream",
     "text": [
      "Model: \"Insurance_Prediction_Model\"\n",
      "_________________________________________________________________\n",
      " Layer (type)                Output Shape              Param #   \n",
      "=================================================================\n",
      " hidden_layer (Dense)        (None, 10)                120       \n",
      "                                                                 \n",
      " ouput_layer (Dense)         (None, 1)                 11        \n",
      "                                                                 \n",
      "=================================================================\n",
      "Total params: 131\n",
      "Trainable params: 131\n",
      "Non-trainable params: 0\n",
      "_________________________________________________________________\n"
     ]
    }
   ],
   "source": [
    "insurance_m0.summary()"
   ]
  },
  {
   "cell_type": "markdown",
   "metadata": {},
   "source": [
    "#### Saving/Loading of Models and History and Evaluation of Saved Models and History"
   ]
  },
  {
   "cell_type": "markdown",
   "metadata": {},
   "source": [
    "##### Saving Model and History"
   ]
  },
  {
   "cell_type": "code",
   "execution_count": 22,
   "metadata": {},
   "outputs": [
    {
     "data": {
      "image/png": "[encoded data removed]",
      "text/plain": [
       "<IPython.core.display.Image object>"
      ]
     },
     "execution_count": 22,
     "metadata": {},
     "output_type": "execute_result"
    }
   ],
   "source": [
    "nnr.save(\"./saved_files/NNRSC/Insurance_Model/m_0/\", \"insurance_m0\", insurance_m0_h, insurance_m0)"
   ]
  },
  {
   "cell_type": "markdown",
   "metadata": {},
   "source": [
    "##### Loading Model and History"
   ]
  },
  {
   "cell_type": "code",
   "execution_count": 50,
   "metadata": {},
   "outputs": [],
   "source": [
    "insurance_m0_h5 = tf.keras.models.load_model(\"./saved_files/NNRSC/Insurance_Model/m_0/insurance_m0.h5\")\n",
    "insurance_m0_h_json = nnr.loadHist(\"./saved_files/NNRSC/Insurance_Model/m_0/insurance_m0_h.json\")"
   ]
  },
  {
   "cell_type": "markdown",
   "metadata": {},
   "source": [
    "##### Evaluation of Saved Data"
   ]
  },
  {
   "cell_type": "code",
   "execution_count": 18,
   "metadata": {},
   "outputs": [
    {
     "name": "stdout",
     "output_type": "stream",
     "text": [
      "9/9 [==============================] - 0s 4ms/step - loss: 4534.0054 - mae: 4534.0054\n"
     ]
    }
   ],
   "source": [
    "eval_insurance_m0 = insurance_m0_h5.evaluate(x_test_n, y_test)"
   ]
  },
  {
   "cell_type": "code",
   "execution_count": 19,
   "metadata": {},
   "outputs": [
    {
     "name": "stdout",
     "output_type": "stream",
     "text": [
      "9/9 [==============================] - 0s 3ms/step\n"
     ]
    }
   ],
   "source": [
    "y_pred = insurance_m0_h5.predict(x_test_n)"
   ]
  },
  {
   "cell_type": "code",
   "execution_count": 26,
   "metadata": {},
   "outputs": [],
   "source": [
    "y_test = tf.constant(y_test)"
   ]
  },
  {
   "cell_type": "code",
   "execution_count": 27,
   "metadata": {},
   "outputs": [
    {
     "name": "stdout",
     "output_type": "stream",
     "text": [
      "Predicted:  [9161.192] \n",
      " Test:  tf.Tensor(9095.06825, shape=(), dtype=float64) \n",
      " Difference:  tf.Tensor([-66.12413281], shape=(1,), dtype=float64)\n"
     ]
    }
   ],
   "source": [
    "index = 0\n",
    "\n",
    "print(\"Predicted: \", y_pred[index], \"\\n\",\n",
    "      \"Test: \", y_test[index], \"\\n\",\n",
    "      \"Difference: \", y_test[index] - y_pred[index])"
   ]
  },
  {
   "cell_type": "code",
   "execution_count": 21,
   "metadata": {},
   "outputs": [
    {
     "data": {
      "image/png": "[encoded data removed]",
      "text/plain": [
       "<Figure size 432x288 with 1 Axes>"
      ]
     },
     "metadata": {
      "needs_background": "light"
     },
     "output_type": "display_data"
    }
   ],
   "source": [
    "nnr.pred_test_sPlt(y_test.numpy(), y_pred)"
   ]
  },
  {
   "cell_type": "code",
   "execution_count": 52,
   "metadata": {},
   "outputs": [
    {
     "data": {
      "image/png": "[encoded data removed]",
      "text/plain": [
       "<Figure size 432x288 with 1 Axes>"
      ]
     },
     "metadata": {
      "needs_background": "light"
     },
     "output_type": "display_data"
    }
   ],
   "source": [
    "nnr.dataFrame_lh(insurance_m0_h_json)"
   ]
  },
  {
   "cell_type": "code",
   "execution_count": 28,
   "metadata": {},
   "outputs": [
    {
     "name": "stdout",
     "output_type": "stream",
     "text": [
      "Training Loss:  4576.813 \n",
      "Evaluation Loss:  4534.005 \n",
      "Difference:  42.808\n"
     ]
    }
   ],
   "source": [
    "nnr.train_eval_comparison_native_lh(insurance_m0_h_json, eval_insurance_m0)"
   ]
  },
  {
   "cell_type": "code",
   "execution_count": 29,
   "metadata": {},
   "outputs": [
    {
     "data": {
      "text/html": [
       "<div>\n",
       "<style scoped>\n",
       "    .dataframe tbody tr th:only-of-type {\n",
       "        vertical-align: middle;\n",
       "    }\n",
       "\n",
       "    .dataframe tbody tr th {\n",
       "        vertical-align: top;\n",
       "    }\n",
       "\n",
       "    .dataframe thead th {\n",
       "        text-align: right;\n",
       "    }\n",
       "</style>\n",
       "<table border=\"1\" class=\"dataframe\">\n",
       "  <thead>\n",
       "    <tr style=\"text-align: right;\">\n",
       "      <th></th>\n",
       "      <th>Data</th>\n",
       "      <th>Loss</th>\n",
       "      <th>MAE</th>\n",
       "    </tr>\n",
       "  </thead>\n",
       "  <tbody>\n",
       "    <tr>\n",
       "      <th>0</th>\n",
       "      <td>Training Data</td>\n",
       "      <td>4576.813</td>\n",
       "      <td>4576.813</td>\n",
       "    </tr>\n",
       "    <tr>\n",
       "      <th>1</th>\n",
       "      <td>Evaluation Data</td>\n",
       "      <td>4534.005</td>\n",
       "      <td>4534.005</td>\n",
       "    </tr>\n",
       "    <tr>\n",
       "      <th>2</th>\n",
       "      <td>Difference</td>\n",
       "      <td>42.808</td>\n",
       "      <td>42.808</td>\n",
       "    </tr>\n",
       "  </tbody>\n",
       "</table>\n",
       "</div>"
      ],
      "text/plain": [
       "              Data      Loss       MAE\n",
       "0    Training Data  4576.813  4576.813\n",
       "1  Evaluation Data  4534.005  4534.005\n",
       "2       Difference    42.808    42.808"
      ]
     },
     "execution_count": 29,
     "metadata": {},
     "output_type": "execute_result"
    }
   ],
   "source": [
    "nnr.train_eval_comparison_panda_table_lh(insurance_m0_h_json, eval_insurance_m0)"
   ]
  },
  {
   "cell_type": "markdown",
   "metadata": {},
   "source": [
    "### Model 1\n",
    "- hidden layer units 10 -> 50\n",
    "\n",
    "(No Difference major with 50 and 100 units)"
   ]
  },
  {
   "cell_type": "markdown",
   "metadata": {},
   "source": [
    "#### Modeling"
   ]
  },
  {
   "cell_type": "code",
   "execution_count": 58,
   "metadata": {},
   "outputs": [
    {
     "name": "stdout",
     "output_type": "stream",
     "text": [
      "Epoch 1/100\n",
      "34/34 [==============================] - 1s 4ms/step - loss: 13329.9600 - mae: 13329.9600\n",
      "Epoch 2/100\n",
      "34/34 [==============================] - 0s 4ms/step - loss: 13236.8545 - mae: 13236.8545\n",
      "Epoch 3/100\n",
      "34/34 [==============================] - 0s 4ms/step - loss: 13010.1680 - mae: 13010.1680\n",
      "Epoch 4/100\n",
      "34/34 [==============================] - 0s 4ms/step - loss: 12625.7969 - mae: 12625.7969\n",
      "Epoch 5/100\n",
      "34/34 [==============================] - 0s 4ms/step - loss: 12080.3018 - mae: 12080.3018\n",
      "Epoch 6/100\n",
      "34/34 [==============================] - 0s 4ms/step - loss: 11401.9268 - mae: 11401.9268\n",
      "Epoch 7/100\n",
      "34/34 [==============================] - 0s 4ms/step - loss: 10705.8740 - mae: 10705.8740\n",
      "Epoch 8/100\n",
      "34/34 [==============================] - 0s 4ms/step - loss: 10048.5654 - mae: 10048.5654\n",
      "Epoch 9/100\n",
      "34/34 [==============================] - 0s 3ms/step - loss: 9432.3896 - mae: 9432.3896\n",
      "Epoch 10/100\n",
      "34/34 [==============================] - 0s 3ms/step - loss: 8941.4131 - mae: 8941.4131\n",
      "Epoch 11/100\n",
      "34/34 [==============================] - 0s 4ms/step - loss: 8549.4453 - mae: 8549.4453\n",
      "Epoch 12/100\n",
      "34/34 [==============================] - 0s 4ms/step - loss: 8266.5049 - mae: 8266.5049\n",
      "Epoch 13/100\n",
      "34/34 [==============================] - 0s 4ms/step - loss: 8064.3887 - mae: 8064.3887\n",
      "Epoch 14/100\n",
      "34/34 [==============================] - 0s 4ms/step - loss: 7925.4336 - mae: 7925.4336\n",
      "Epoch 15/100\n",
      "34/34 [==============================] - 0s 4ms/step - loss: 7822.9028 - mae: 7822.9028\n",
      "Epoch 16/100\n",
      "34/34 [==============================] - 0s 4ms/step - loss: 7742.7627 - mae: 7742.7627\n",
      "Epoch 17/100\n",
      "34/34 [==============================] - 0s 3ms/step - loss: 7667.8740 - mae: 7667.8740\n",
      "Epoch 18/100\n",
      "34/34 [==============================] - 0s 4ms/step - loss: 7598.7114 - mae: 7598.7114\n",
      "Epoch 19/100\n",
      "34/34 [==============================] - 0s 3ms/step - loss: 7525.6719 - mae: 7525.6719\n",
      "Epoch 20/100\n",
      "34/34 [==============================] - 0s 4ms/step - loss: 7453.1362 - mae: 7453.1362\n",
      "Epoch 21/100\n",
      "34/34 [==============================] - 0s 4ms/step - loss: 7382.8438 - mae: 7382.8438\n",
      "Epoch 22/100\n",
      "34/34 [==============================] - 0s 6ms/step - loss: 7305.8667 - mae: 7305.8667\n",
      "Epoch 23/100\n",
      "34/34 [==============================] - 0s 5ms/step - loss: 7229.9346 - mae: 7229.9346\n",
      "Epoch 24/100\n",
      "34/34 [==============================] - 0s 4ms/step - loss: 7150.4678 - mae: 7150.4678\n",
      "Epoch 25/100\n",
      "34/34 [==============================] - 0s 3ms/step - loss: 7067.0474 - mae: 7067.0474\n",
      "Epoch 26/100\n",
      "34/34 [==============================] - 0s 3ms/step - loss: 6980.4780 - mae: 6980.4780\n",
      "Epoch 27/100\n",
      "34/34 [==============================] - 0s 3ms/step - loss: 6890.7275 - mae: 6890.7275\n",
      "Epoch 28/100\n",
      "34/34 [==============================] - 0s 3ms/step - loss: 6797.3179 - mae: 6797.3179\n",
      "Epoch 29/100\n",
      "34/34 [==============================] - 0s 3ms/step - loss: 6699.3506 - mae: 6699.3506\n",
      "Epoch 30/100\n",
      "34/34 [==============================] - 0s 3ms/step - loss: 6596.6543 - mae: 6596.6543\n",
      "Epoch 31/100\n",
      "34/34 [==============================] - 0s 4ms/step - loss: 6486.5049 - mae: 6486.5049\n",
      "Epoch 32/100\n",
      "34/34 [==============================] - 0s 4ms/step - loss: 6373.4082 - mae: 6373.4082\n",
      "Epoch 33/100\n",
      "34/34 [==============================] - 0s 3ms/step - loss: 6253.0576 - mae: 6253.0576\n",
      "Epoch 34/100\n",
      "34/34 [==============================] - 0s 3ms/step - loss: 6127.3633 - mae: 6127.3633\n",
      "Epoch 35/100\n",
      "34/34 [==============================] - 0s 4ms/step - loss: 5995.6660 - mae: 5995.6660\n",
      "Epoch 36/100\n",
      "34/34 [==============================] - 0s 3ms/step - loss: 5858.1709 - mae: 5858.1709\n",
      "Epoch 37/100\n",
      "34/34 [==============================] - 0s 3ms/step - loss: 5717.8901 - mae: 5717.8901\n",
      "Epoch 38/100\n",
      "34/34 [==============================] - 0s 4ms/step - loss: 5569.9541 - mae: 5569.9541\n",
      "Epoch 39/100\n",
      "34/34 [==============================] - 0s 4ms/step - loss: 5423.3428 - mae: 5423.3428\n",
      "Epoch 40/100\n",
      "34/34 [==============================] - 0s 4ms/step - loss: 5276.7266 - mae: 5276.7266\n",
      "Epoch 41/100\n",
      "34/34 [==============================] - 0s 4ms/step - loss: 5124.6040 - mae: 5124.6040\n",
      "Epoch 42/100\n",
      "34/34 [==============================] - 0s 3ms/step - loss: 4973.5015 - mae: 4973.5015\n",
      "Epoch 43/100\n",
      "34/34 [==============================] - 0s 4ms/step - loss: 4822.7944 - mae: 4822.7944\n",
      "Epoch 44/100\n",
      "34/34 [==============================] - 0s 4ms/step - loss: 4676.5342 - mae: 4676.5342\n",
      "Epoch 45/100\n",
      "34/34 [==============================] - 0s 4ms/step - loss: 4534.5264 - mae: 4534.5264\n",
      "Epoch 46/100\n",
      "34/34 [==============================] - 0s 4ms/step - loss: 4409.3911 - mae: 4409.3911\n",
      "Epoch 47/100\n",
      "34/34 [==============================] - 0s 4ms/step - loss: 4296.6387 - mae: 4296.6387\n",
      "Epoch 48/100\n",
      "34/34 [==============================] - 0s 4ms/step - loss: 4191.2041 - mae: 4191.2041\n",
      "Epoch 49/100\n",
      "34/34 [==============================] - 0s 3ms/step - loss: 4097.4707 - mae: 4097.4707\n",
      "Epoch 50/100\n",
      "34/34 [==============================] - 0s 3ms/step - loss: 4011.9050 - mae: 4011.9050\n",
      "Epoch 51/100\n",
      "34/34 [==============================] - 0s 4ms/step - loss: 3940.1345 - mae: 3940.1345\n",
      "Epoch 52/100\n",
      "34/34 [==============================] - 0s 4ms/step - loss: 3883.0027 - mae: 3883.0027\n",
      "Epoch 53/100\n",
      "34/34 [==============================] - 0s 4ms/step - loss: 3834.3789 - mae: 3834.3789\n",
      "Epoch 54/100\n",
      "34/34 [==============================] - 0s 4ms/step - loss: 3793.6943 - mae: 3793.6943\n",
      "Epoch 55/100\n",
      "34/34 [==============================] - 0s 4ms/step - loss: 3761.9026 - mae: 3761.9026\n",
      "Epoch 56/100\n",
      "34/34 [==============================] - 0s 4ms/step - loss: 3738.4336 - mae: 3738.4336\n",
      "Epoch 57/100\n",
      "34/34 [==============================] - 0s 4ms/step - loss: 3722.0583 - mae: 3722.0583\n",
      "Epoch 58/100\n",
      "34/34 [==============================] - 0s 4ms/step - loss: 3708.8359 - mae: 3708.8359\n",
      "Epoch 59/100\n",
      "34/34 [==============================] - 0s 4ms/step - loss: 3698.5049 - mae: 3698.5049\n",
      "Epoch 60/100\n",
      "34/34 [==============================] - 0s 4ms/step - loss: 3692.8162 - mae: 3692.8162\n",
      "Epoch 61/100\n",
      "34/34 [==============================] - 0s 4ms/step - loss: 3686.0623 - mae: 3686.0623\n",
      "Epoch 62/100\n",
      "34/34 [==============================] - 0s 3ms/step - loss: 3680.0391 - mae: 3680.0391\n",
      "Epoch 63/100\n",
      "34/34 [==============================] - 0s 4ms/step - loss: 3678.2976 - mae: 3678.2976\n",
      "Epoch 64/100\n",
      "34/34 [==============================] - 0s 4ms/step - loss: 3676.2068 - mae: 3676.2068\n",
      "Epoch 65/100\n",
      "34/34 [==============================] - 0s 4ms/step - loss: 3674.2837 - mae: 3674.2837\n",
      "Epoch 66/100\n",
      "34/34 [==============================] - 0s 3ms/step - loss: 3671.3967 - mae: 3671.3967\n",
      "Epoch 67/100\n",
      "34/34 [==============================] - 0s 4ms/step - loss: 3666.1877 - mae: 3666.1877\n",
      "Epoch 68/100\n",
      "34/34 [==============================] - 0s 4ms/step - loss: 3663.2817 - mae: 3663.2817\n",
      "Epoch 69/100\n",
      "34/34 [==============================] - 0s 4ms/step - loss: 3661.1565 - mae: 3661.1565\n",
      "Epoch 70/100\n",
      "34/34 [==============================] - 0s 4ms/step - loss: 3659.2024 - mae: 3659.2024\n",
      "Epoch 71/100\n",
      "34/34 [==============================] - 0s 4ms/step - loss: 3658.2134 - mae: 3658.2134\n",
      "Epoch 72/100\n",
      "34/34 [==============================] - 0s 4ms/step - loss: 3654.5125 - mae: 3654.5125\n",
      "Epoch 73/100\n",
      "34/34 [==============================] - 0s 3ms/step - loss: 3654.9241 - mae: 3654.9241\n",
      "Epoch 74/100\n",
      "34/34 [==============================] - 0s 4ms/step - loss: 3650.7727 - mae: 3650.7727\n",
      "Epoch 75/100\n",
      "34/34 [==============================] - 0s 4ms/step - loss: 3649.8066 - mae: 3649.8066\n",
      "Epoch 76/100\n",
      "34/34 [==============================] - 0s 4ms/step - loss: 3648.4849 - mae: 3648.4849\n",
      "Epoch 77/100\n",
      "34/34 [==============================] - 0s 4ms/step - loss: 3645.6421 - mae: 3645.6421\n",
      "Epoch 78/100\n",
      "34/34 [==============================] - 0s 3ms/step - loss: 3643.6475 - mae: 3643.6475\n",
      "Epoch 79/100\n",
      "34/34 [==============================] - 0s 4ms/step - loss: 3641.9714 - mae: 3641.9714\n",
      "Epoch 80/100\n",
      "34/34 [==============================] - 0s 4ms/step - loss: 3640.3669 - mae: 3640.3669\n",
      "Epoch 81/100\n",
      "34/34 [==============================] - 0s 4ms/step - loss: 3639.1631 - mae: 3639.1631\n",
      "Epoch 82/100\n",
      "34/34 [==============================] - 0s 3ms/step - loss: 3635.6147 - mae: 3635.6147\n",
      "Epoch 83/100\n",
      "34/34 [==============================] - 0s 4ms/step - loss: 3635.2969 - mae: 3635.2969\n",
      "Epoch 84/100\n",
      "34/34 [==============================] - 0s 4ms/step - loss: 3632.8154 - mae: 3632.8154\n",
      "Epoch 85/100\n",
      "34/34 [==============================] - 0s 4ms/step - loss: 3630.8804 - mae: 3630.8804\n",
      "Epoch 86/100\n",
      "34/34 [==============================] - 0s 3ms/step - loss: 3630.5171 - mae: 3630.5171\n",
      "Epoch 87/100\n",
      "34/34 [==============================] - 0s 4ms/step - loss: 3626.8030 - mae: 3626.8030\n",
      "Epoch 88/100\n",
      "34/34 [==============================] - 0s 4ms/step - loss: 3628.6755 - mae: 3628.6755\n",
      "Epoch 89/100\n",
      "34/34 [==============================] - 0s 4ms/step - loss: 3622.3145 - mae: 3622.3145\n",
      "Epoch 90/100\n",
      "34/34 [==============================] - 0s 4ms/step - loss: 3621.2856 - mae: 3621.2856\n",
      "Epoch 91/100\n",
      "34/34 [==============================] - 0s 4ms/step - loss: 3619.1182 - mae: 3619.1182\n",
      "Epoch 92/100\n",
      "34/34 [==============================] - 0s 4ms/step - loss: 3616.0728 - mae: 3616.0728\n",
      "Epoch 93/100\n",
      "34/34 [==============================] - 0s 4ms/step - loss: 3615.3210 - mae: 3615.3210\n",
      "Epoch 94/100\n",
      "34/34 [==============================] - 0s 4ms/step - loss: 3611.7996 - mae: 3611.7996\n",
      "Epoch 95/100\n",
      "34/34 [==============================] - 0s 4ms/step - loss: 3610.4963 - mae: 3610.4963\n",
      "Epoch 96/100\n",
      "34/34 [==============================] - 0s 4ms/step - loss: 3609.0312 - mae: 3609.0312\n",
      "Epoch 97/100\n",
      "34/34 [==============================] - 0s 4ms/step - loss: 3604.6697 - mae: 3604.6697\n",
      "Epoch 98/100\n",
      "34/34 [==============================] - 0s 4ms/step - loss: 3602.2908 - mae: 3602.2908\n",
      "Epoch 99/100\n",
      "34/34 [==============================] - 0s 3ms/step - loss: 3600.4712 - mae: 3600.4712\n",
      "Epoch 100/100\n",
      "34/34 [==============================] - 0s 4ms/step - loss: 3598.5176 - mae: 3598.5176\n"
     ]
    }
   ],
   "source": [
    "insurance_m1 = tf.keras.Sequential(name = \"Insurance_Prediction_Model\")\n",
    "insurance_m1.add(tf.keras.layers.Dense(\n",
    "  units = 50,\n",
    "  name = \"hidden_layer\"\n",
    "))\n",
    "insurance_m1.add(tf.keras.layers.Dense(\n",
    "  units = 1,\n",
    "  name = \"ouput_layer\"\n",
    "))\n",
    "\n",
    "insurance_m1.compile(\n",
    "  loss = 'mae',\n",
    "  optimizer = tf.keras.optimizers.Adam(learning_rate = 0.01),\n",
    "  metrics = 'mae'\n",
    ")\n",
    "\n",
    "insurance_m1_h = insurance_m1.fit(x_train_n, y_train, epochs = 100)\n"
   ]
  },
  {
   "cell_type": "code",
   "execution_count": 59,
   "metadata": {},
   "outputs": [],
   "source": [
    "y_test = tf.constant(y_test)"
   ]
  },
  {
   "cell_type": "code",
   "execution_count": 67,
   "metadata": {},
   "outputs": [
    {
     "name": "stdout",
     "output_type": "stream",
     "text": [
      "9/9 [==============================] - 0s 4ms/step - loss: 3381.8792 - mae: 3381.8792\n"
     ]
    }
   ],
   "source": [
    "eval_insurance_m1 = insurance_m1.evaluate(x_test_n, y_test)"
   ]
  },
  {
   "cell_type": "code",
   "execution_count": 61,
   "metadata": {},
   "outputs": [
    {
     "name": "stdout",
     "output_type": "stream",
     "text": [
      "9/9 [==============================] - 0s 3ms/step\n"
     ]
    }
   ],
   "source": [
    "y_pred = nnr.prediction_td(insurance_m1, x_test_n)"
   ]
  },
  {
   "cell_type": "code",
   "execution_count": 62,
   "metadata": {},
   "outputs": [
    {
     "name": "stdout",
     "output_type": "stream",
     "text": [
      "Predicted:  9357.246 \n",
      " Test:  9095.06825 \n",
      " Difference:  -262.17784374999974\n"
     ]
    }
   ],
   "source": [
    "index = 0\n",
    "\n",
    "print(\"Predicted: \", y_pred[index].numpy(), \"\\n\",\n",
    "      \"Test: \", y_test[index].numpy(), \"\\n\",\n",
    "      \"Difference: \", y_test[index].numpy() - y_pred[index].numpy())"
   ]
  },
  {
   "cell_type": "code",
   "execution_count": 63,
   "metadata": {},
   "outputs": [
    {
     "data": {
      "image/png": "[encoded data removed]",
      "text/plain": [
       "<Figure size 432x288 with 1 Axes>"
      ]
     },
     "metadata": {
      "needs_background": "light"
     },
     "output_type": "display_data"
    }
   ],
   "source": [
    "nnr.pred_test_sPlt(y_test.numpy(), y_pred.numpy())"
   ]
  },
  {
   "cell_type": "code",
   "execution_count": 65,
   "metadata": {},
   "outputs": [
    {
     "data": {
      "image/png": "[encoded data removed]",
      "text/plain": [
       "<Figure size 432x288 with 1 Axes>"
      ]
     },
     "metadata": {
      "needs_background": "light"
     },
     "output_type": "display_data"
    }
   ],
   "source": [
    "nnr.dataFrame(insurance_m1_h)"
   ]
  },
  {
   "cell_type": "code",
   "execution_count": 68,
   "metadata": {},
   "outputs": [
    {
     "name": "stdout",
     "output_type": "stream",
     "text": [
      "Training Loss:  3598.518 \n",
      "Evaluation Loss:  3381.879 \n",
      "Difference:  216.638\n"
     ]
    }
   ],
   "source": [
    "nnr.train_eval_comparison_native(insurance_m1_h, eval_insurance_m1)"
   ]
  },
  {
   "cell_type": "code",
   "execution_count": 69,
   "metadata": {},
   "outputs": [
    {
     "data": {
      "text/html": [
       "<div>\n",
       "<style scoped>\n",
       "    .dataframe tbody tr th:only-of-type {\n",
       "        vertical-align: middle;\n",
       "    }\n",
       "\n",
       "    .dataframe tbody tr th {\n",
       "        vertical-align: top;\n",
       "    }\n",
       "\n",
       "    .dataframe thead th {\n",
       "        text-align: right;\n",
       "    }\n",
       "</style>\n",
       "<table border=\"1\" class=\"dataframe\">\n",
       "  <thead>\n",
       "    <tr style=\"text-align: right;\">\n",
       "      <th></th>\n",
       "      <th>Data</th>\n",
       "      <th>Loss</th>\n",
       "      <th>MAE</th>\n",
       "    </tr>\n",
       "  </thead>\n",
       "  <tbody>\n",
       "    <tr>\n",
       "      <th>0</th>\n",
       "      <td>Training Data</td>\n",
       "      <td>3598.518</td>\n",
       "      <td>3598.518</td>\n",
       "    </tr>\n",
       "    <tr>\n",
       "      <th>1</th>\n",
       "      <td>Evaluation Data</td>\n",
       "      <td>3381.879</td>\n",
       "      <td>3381.879</td>\n",
       "    </tr>\n",
       "    <tr>\n",
       "      <th>2</th>\n",
       "      <td>Difference</td>\n",
       "      <td>216.638</td>\n",
       "      <td>216.638</td>\n",
       "    </tr>\n",
       "  </tbody>\n",
       "</table>\n",
       "</div>"
      ],
      "text/plain": [
       "              Data      Loss       MAE\n",
       "0    Training Data  3598.518  3598.518\n",
       "1  Evaluation Data  3381.879  3381.879\n",
       "2       Difference   216.638   216.638"
      ]
     },
     "execution_count": 69,
     "metadata": {},
     "output_type": "execute_result"
    }
   ],
   "source": [
    "nnr.train_eval_comparison_panda_table(insurance_m1_h, eval_insurance_m1)"
   ]
  },
  {
   "cell_type": "markdown",
   "metadata": {},
   "source": [
    "#### Saving/Loading of Models and History and Evaluation of Saved Models and History"
   ]
  },
  {
   "cell_type": "markdown",
   "metadata": {},
   "source": [
    "##### Saving Model and History"
   ]
  },
  {
   "cell_type": "code",
   "execution_count": 29,
   "metadata": {},
   "outputs": [
    {
     "data": {
      "image/png": "[encoded data removed]",
      "text/plain": [
       "<IPython.core.display.Image object>"
      ]
     },
     "execution_count": 29,
     "metadata": {},
     "output_type": "execute_result"
    }
   ],
   "source": [
    "nnr.save(\"./saved_files/NNRSC/Insurance_Model/m_1/\", \"insurance_m1\", insurance_m1_h, insurance_m1)"
   ]
  },
  {
   "cell_type": "markdown",
   "metadata": {},
   "source": [
    "##### Loading Model and History"
   ]
  },
  {
   "cell_type": "code",
   "execution_count": 53,
   "metadata": {},
   "outputs": [],
   "source": [
    "insurance_m1_h5 = tf.keras.models.load_model(\"./saved_files/NNRSC/Insurance_Model/m_1/insurance_m1.h5\")\n",
    "insurance_m1_h_json = nnr.loadHist(\"./saved_files/NNRSC/Insurance_Model/m_1/insurance_m1_h.json\")"
   ]
  },
  {
   "cell_type": "markdown",
   "metadata": {},
   "source": [
    "##### Evaluation of Saved Data"
   ]
  },
  {
   "cell_type": "code",
   "execution_count": 40,
   "metadata": {},
   "outputs": [
    {
     "name": "stdout",
     "output_type": "stream",
     "text": [
      "9/9 [==============================] - 0s 3ms/step - loss: 3390.2676 - mae: 3390.2676\n"
     ]
    }
   ],
   "source": [
    "eval_insurance_m1 = insurance_m1_h5.evaluate(x_test_n, y_test)"
   ]
  },
  {
   "cell_type": "code",
   "execution_count": 32,
   "metadata": {},
   "outputs": [
    {
     "name": "stdout",
     "output_type": "stream",
     "text": [
      "9/9 [==============================] - 0s 4ms/step\n"
     ]
    }
   ],
   "source": [
    "y_pred = insurance_m1_h5.predict(x_test_n)"
   ]
  },
  {
   "cell_type": "code",
   "execution_count": 33,
   "metadata": {},
   "outputs": [],
   "source": [
    "y_test = tf.constant(y_test)"
   ]
  },
  {
   "cell_type": "code",
   "execution_count": 37,
   "metadata": {},
   "outputs": [
    {
     "name": "stdout",
     "output_type": "stream",
     "text": [
      "Predicted:  [9183.946] \n",
      " Test:  tf.Tensor(9095.06825, shape=(), dtype=float64) \n",
      " Difference:  tf.Tensor([-88.87803906], shape=(1,), dtype=float64)\n"
     ]
    }
   ],
   "source": [
    "index = 0\n",
    "\n",
    "print(\"Predicted: \", y_pred[index], \"\\n\",\n",
    "      \"Test: \", y_test[index], \"\\n\",\n",
    "      \"Difference: \", y_test[index] - y_pred[index])"
   ]
  },
  {
   "cell_type": "code",
   "execution_count": 38,
   "metadata": {},
   "outputs": [
    {
     "data": {
      "image/png": "[encoded data removed]",
      "text/plain": [
       "<Figure size 432x288 with 1 Axes>"
      ]
     },
     "metadata": {
      "needs_background": "light"
     },
     "output_type": "display_data"
    }
   ],
   "source": [
    "nnr.pred_test_sPlt(y_test.numpy(), y_pred)"
   ]
  },
  {
   "cell_type": "code",
   "execution_count": 54,
   "metadata": {},
   "outputs": [
    {
     "data": {
      "image/png": "[encoded data removed]",
      "text/plain": [
       "<Figure size 432x288 with 1 Axes>"
      ]
     },
     "metadata": {
      "needs_background": "light"
     },
     "output_type": "display_data"
    }
   ],
   "source": [
    "nnr.dataFrame_lh(insurance_m1_h_json)"
   ]
  },
  {
   "cell_type": "code",
   "execution_count": 41,
   "metadata": {},
   "outputs": [
    {
     "name": "stdout",
     "output_type": "stream",
     "text": [
      "Training Loss:  3605.519 \n",
      "Evaluation Loss:  3390.268 \n",
      "Difference:  215.251\n"
     ]
    }
   ],
   "source": [
    "nnr.train_eval_comparison_native_lh(insurance_m1_h_json, eval_insurance_m1)"
   ]
  },
  {
   "cell_type": "code",
   "execution_count": 42,
   "metadata": {},
   "outputs": [
    {
     "data": {
      "text/html": [
       "<div>\n",
       "<style scoped>\n",
       "    .dataframe tbody tr th:only-of-type {\n",
       "        vertical-align: middle;\n",
       "    }\n",
       "\n",
       "    .dataframe tbody tr th {\n",
       "        vertical-align: top;\n",
       "    }\n",
       "\n",
       "    .dataframe thead th {\n",
       "        text-align: right;\n",
       "    }\n",
       "</style>\n",
       "<table border=\"1\" class=\"dataframe\">\n",
       "  <thead>\n",
       "    <tr style=\"text-align: right;\">\n",
       "      <th></th>\n",
       "      <th>Data</th>\n",
       "      <th>Loss</th>\n",
       "      <th>MAE</th>\n",
       "    </tr>\n",
       "  </thead>\n",
       "  <tbody>\n",
       "    <tr>\n",
       "      <th>0</th>\n",
       "      <td>Training Data</td>\n",
       "      <td>3605.519</td>\n",
       "      <td>3605.519</td>\n",
       "    </tr>\n",
       "    <tr>\n",
       "      <th>1</th>\n",
       "      <td>Evaluation Data</td>\n",
       "      <td>3390.268</td>\n",
       "      <td>3390.268</td>\n",
       "    </tr>\n",
       "    <tr>\n",
       "      <th>2</th>\n",
       "      <td>Difference</td>\n",
       "      <td>215.251</td>\n",
       "      <td>215.251</td>\n",
       "    </tr>\n",
       "  </tbody>\n",
       "</table>\n",
       "</div>"
      ],
      "text/plain": [
       "              Data      Loss       MAE\n",
       "0    Training Data  3605.519  3605.519\n",
       "1  Evaluation Data  3390.268  3390.268\n",
       "2       Difference   215.251   215.251"
      ]
     },
     "execution_count": 42,
     "metadata": {},
     "output_type": "execute_result"
    }
   ],
   "source": [
    "nnr.train_eval_comparison_panda_table_lh(insurance_m1_h_json, eval_insurance_m1)"
   ]
  },
  {
   "cell_type": "markdown",
   "metadata": {},
   "source": [
    "### Model 2\n",
    "- Add another layer with 150 units and relu as activator\n",
    "- increase epochs with 300"
   ]
  },
  {
   "cell_type": "markdown",
   "metadata": {},
   "source": [
    "#### Modeling"
   ]
  },
  {
   "cell_type": "code",
   "execution_count": 70,
   "metadata": {},
   "outputs": [
    {
     "name": "stdout",
     "output_type": "stream",
     "text": [
      "Epoch 1/300\n",
      "34/34 [==============================] - 2s 6ms/step - loss: 12528.0635 - mae: 12528.0635\n",
      "Epoch 2/300\n",
      "34/34 [==============================] - 0s 5ms/step - loss: 7979.4497 - mae: 7979.4497\n",
      "Epoch 3/300\n",
      "34/34 [==============================] - 0s 4ms/step - loss: 6800.0630 - mae: 6800.0630\n",
      "Epoch 4/300\n",
      "34/34 [==============================] - 0s 5ms/step - loss: 4855.7837 - mae: 4855.7837\n",
      "Epoch 5/300\n",
      "34/34 [==============================] - 0s 4ms/step - loss: 3604.0237 - mae: 3604.0237\n",
      "Epoch 6/300\n",
      "34/34 [==============================] - 0s 4ms/step - loss: 3412.3071 - mae: 3412.3071\n",
      "Epoch 7/300\n",
      "34/34 [==============================] - 0s 4ms/step - loss: 3302.5188 - mae: 3302.5188\n",
      "Epoch 8/300\n",
      "34/34 [==============================] - 0s 3ms/step - loss: 3271.1091 - mae: 3271.1091\n",
      "Epoch 9/300\n",
      "34/34 [==============================] - 0s 4ms/step - loss: 3258.5217 - mae: 3258.5217\n",
      "Epoch 10/300\n",
      "34/34 [==============================] - 0s 3ms/step - loss: 3219.5710 - mae: 3219.5710\n",
      "Epoch 11/300\n",
      "34/34 [==============================] - 0s 3ms/step - loss: 3231.3535 - mae: 3231.3535\n",
      "Epoch 12/300\n",
      "34/34 [==============================] - 0s 4ms/step - loss: 3296.8955 - mae: 3296.8955\n",
      "Epoch 13/300\n",
      "34/34 [==============================] - 0s 4ms/step - loss: 3217.2961 - mae: 3217.2961\n",
      "Epoch 14/300\n",
      "34/34 [==============================] - 0s 4ms/step - loss: 3208.8779 - mae: 3208.8779\n",
      "Epoch 15/300\n",
      "34/34 [==============================] - 0s 4ms/step - loss: 3161.7275 - mae: 3161.7275\n",
      "Epoch 16/300\n",
      "34/34 [==============================] - 0s 4ms/step - loss: 3152.4707 - mae: 3152.4707\n",
      "Epoch 17/300\n",
      "34/34 [==============================] - 0s 4ms/step - loss: 3136.6709 - mae: 3136.6709\n",
      "Epoch 18/300\n",
      "34/34 [==============================] - 0s 6ms/step - loss: 3132.2437 - mae: 3132.2437\n",
      "Epoch 19/300\n",
      "34/34 [==============================] - 0s 4ms/step - loss: 3094.5396 - mae: 3094.5396\n",
      "Epoch 20/300\n",
      "34/34 [==============================] - 0s 3ms/step - loss: 3067.4233 - mae: 3067.4233\n",
      "Epoch 21/300\n",
      "34/34 [==============================] - 0s 3ms/step - loss: 3041.3137 - mae: 3041.3137\n",
      "Epoch 22/300\n",
      "34/34 [==============================] - 0s 3ms/step - loss: 3002.0427 - mae: 3002.0427\n",
      "Epoch 23/300\n",
      "34/34 [==============================] - 0s 3ms/step - loss: 2979.1445 - mae: 2979.1445\n",
      "Epoch 24/300\n",
      "34/34 [==============================] - 0s 3ms/step - loss: 2957.8853 - mae: 2957.8853\n",
      "Epoch 25/300\n",
      "34/34 [==============================] - 0s 3ms/step - loss: 2925.2036 - mae: 2925.2036\n",
      "Epoch 26/300\n",
      "34/34 [==============================] - 0s 3ms/step - loss: 2857.1545 - mae: 2857.1545\n",
      "Epoch 27/300\n",
      "34/34 [==============================] - 0s 3ms/step - loss: 2811.1863 - mae: 2811.1863\n",
      "Epoch 28/300\n",
      "34/34 [==============================] - 0s 3ms/step - loss: 2764.9805 - mae: 2764.9805\n",
      "Epoch 29/300\n",
      "34/34 [==============================] - 0s 3ms/step - loss: 2730.7593 - mae: 2730.7593\n",
      "Epoch 30/300\n",
      "34/34 [==============================] - 0s 3ms/step - loss: 2691.1711 - mae: 2691.1711\n",
      "Epoch 31/300\n",
      "34/34 [==============================] - 0s 4ms/step - loss: 2664.8069 - mae: 2664.8069\n",
      "Epoch 32/300\n",
      "34/34 [==============================] - 0s 4ms/step - loss: 2577.9932 - mae: 2577.9932\n",
      "Epoch 33/300\n",
      "34/34 [==============================] - 0s 4ms/step - loss: 2529.3730 - mae: 2529.3730\n",
      "Epoch 34/300\n",
      "34/34 [==============================] - 0s 4ms/step - loss: 2467.7976 - mae: 2467.7976\n",
      "Epoch 35/300\n",
      "34/34 [==============================] - 0s 4ms/step - loss: 2446.2944 - mae: 2446.2944\n",
      "Epoch 36/300\n",
      "34/34 [==============================] - 0s 4ms/step - loss: 2430.9954 - mae: 2430.9954\n",
      "Epoch 37/300\n",
      "34/34 [==============================] - 0s 4ms/step - loss: 2384.1089 - mae: 2384.1089\n",
      "Epoch 38/300\n",
      "34/34 [==============================] - 0s 4ms/step - loss: 2344.4185 - mae: 2344.4185\n",
      "Epoch 39/300\n",
      "34/34 [==============================] - 0s 4ms/step - loss: 2310.6199 - mae: 2310.6199\n",
      "Epoch 40/300\n",
      "34/34 [==============================] - 0s 4ms/step - loss: 2271.8938 - mae: 2271.8938\n",
      "Epoch 41/300\n",
      "34/34 [==============================] - 0s 4ms/step - loss: 2213.9634 - mae: 2213.9634\n",
      "Epoch 42/300\n",
      "34/34 [==============================] - 0s 4ms/step - loss: 2215.1501 - mae: 2215.1501\n",
      "Epoch 43/300\n",
      "34/34 [==============================] - 0s 4ms/step - loss: 2169.5134 - mae: 2169.5134\n",
      "Epoch 44/300\n",
      "34/34 [==============================] - 0s 4ms/step - loss: 2233.0110 - mae: 2233.0110\n",
      "Epoch 45/300\n",
      "34/34 [==============================] - 0s 4ms/step - loss: 2155.4424 - mae: 2155.4424\n",
      "Epoch 46/300\n",
      "34/34 [==============================] - 0s 4ms/step - loss: 2131.7874 - mae: 2131.7874\n",
      "Epoch 47/300\n",
      "34/34 [==============================] - 0s 4ms/step - loss: 2093.8794 - mae: 2093.8794\n",
      "Epoch 48/300\n",
      "34/34 [==============================] - 0s 4ms/step - loss: 2084.8062 - mae: 2084.8062\n",
      "Epoch 49/300\n",
      "34/34 [==============================] - 0s 4ms/step - loss: 2082.7756 - mae: 2082.7756\n",
      "Epoch 50/300\n",
      "34/34 [==============================] - 0s 4ms/step - loss: 2086.4465 - mae: 2086.4465\n",
      "Epoch 51/300\n",
      "34/34 [==============================] - 0s 4ms/step - loss: 2086.0393 - mae: 2086.0393\n",
      "Epoch 52/300\n",
      "34/34 [==============================] - 0s 4ms/step - loss: 2053.7539 - mae: 2053.7539\n",
      "Epoch 53/300\n",
      "34/34 [==============================] - 0s 4ms/step - loss: 2046.9979 - mae: 2046.9979\n",
      "Epoch 54/300\n",
      "34/34 [==============================] - 0s 4ms/step - loss: 2034.6503 - mae: 2034.6503\n",
      "Epoch 55/300\n",
      "34/34 [==============================] - 0s 4ms/step - loss: 2032.6890 - mae: 2032.6890\n",
      "Epoch 56/300\n",
      "34/34 [==============================] - 0s 4ms/step - loss: 2044.5266 - mae: 2044.5266\n",
      "Epoch 57/300\n",
      "34/34 [==============================] - 0s 4ms/step - loss: 2037.5930 - mae: 2037.5930\n",
      "Epoch 58/300\n",
      "34/34 [==============================] - 0s 4ms/step - loss: 2077.6758 - mae: 2077.6758\n",
      "Epoch 59/300\n",
      "34/34 [==============================] - 0s 5ms/step - loss: 2079.9973 - mae: 2079.9973\n",
      "Epoch 60/300\n",
      "34/34 [==============================] - 0s 5ms/step - loss: 2041.8372 - mae: 2041.8372\n",
      "Epoch 61/300\n",
      "34/34 [==============================] - 0s 4ms/step - loss: 2024.8306 - mae: 2024.8306\n",
      "Epoch 62/300\n",
      "34/34 [==============================] - 0s 5ms/step - loss: 2031.1385 - mae: 2031.1385\n",
      "Epoch 63/300\n",
      "34/34 [==============================] - 0s 4ms/step - loss: 2012.9159 - mae: 2012.9159\n",
      "Epoch 64/300\n",
      "34/34 [==============================] - 0s 4ms/step - loss: 2054.0137 - mae: 2054.0137\n",
      "Epoch 65/300\n",
      "34/34 [==============================] - 0s 5ms/step - loss: 2015.4119 - mae: 2015.4119\n",
      "Epoch 66/300\n",
      "34/34 [==============================] - 0s 4ms/step - loss: 2015.5601 - mae: 2015.5601\n",
      "Epoch 67/300\n",
      "34/34 [==============================] - 0s 4ms/step - loss: 2061.2397 - mae: 2061.2397\n",
      "Epoch 68/300\n",
      "34/34 [==============================] - 0s 4ms/step - loss: 2020.5680 - mae: 2020.5680\n",
      "Epoch 69/300\n",
      "34/34 [==============================] - 0s 4ms/step - loss: 2030.6912 - mae: 2030.6912\n",
      "Epoch 70/300\n",
      "34/34 [==============================] - 0s 4ms/step - loss: 2018.9962 - mae: 2018.9962\n",
      "Epoch 71/300\n",
      "34/34 [==============================] - 0s 5ms/step - loss: 2027.7014 - mae: 2027.7014\n",
      "Epoch 72/300\n",
      "34/34 [==============================] - 0s 4ms/step - loss: 2037.8359 - mae: 2037.8359\n",
      "Epoch 73/300\n",
      "34/34 [==============================] - 0s 4ms/step - loss: 2010.4524 - mae: 2010.4524\n",
      "Epoch 74/300\n",
      "34/34 [==============================] - 0s 4ms/step - loss: 1994.7738 - mae: 1994.7738\n",
      "Epoch 75/300\n",
      "34/34 [==============================] - 0s 4ms/step - loss: 2018.7542 - mae: 2018.7542\n",
      "Epoch 76/300\n",
      "34/34 [==============================] - 0s 4ms/step - loss: 2054.8171 - mae: 2054.8171\n",
      "Epoch 77/300\n",
      "34/34 [==============================] - 0s 4ms/step - loss: 2027.9248 - mae: 2027.9248\n",
      "Epoch 78/300\n",
      "34/34 [==============================] - 0s 4ms/step - loss: 2006.5472 - mae: 2006.5472\n",
      "Epoch 79/300\n",
      "34/34 [==============================] - 0s 4ms/step - loss: 2028.8484 - mae: 2028.8484\n",
      "Epoch 80/300\n",
      "34/34 [==============================] - 0s 4ms/step - loss: 2028.6718 - mae: 2028.6718\n",
      "Epoch 81/300\n",
      "34/34 [==============================] - 0s 4ms/step - loss: 2021.1843 - mae: 2021.1843\n",
      "Epoch 82/300\n",
      "34/34 [==============================] - 0s 5ms/step - loss: 2002.2068 - mae: 2002.2068\n",
      "Epoch 83/300\n",
      "34/34 [==============================] - 0s 4ms/step - loss: 1986.5120 - mae: 1986.5120\n",
      "Epoch 84/300\n",
      "34/34 [==============================] - 0s 4ms/step - loss: 2027.3026 - mae: 2027.3026\n",
      "Epoch 85/300\n",
      "34/34 [==============================] - 0s 5ms/step - loss: 2000.2505 - mae: 2000.2505\n",
      "Epoch 86/300\n",
      "34/34 [==============================] - 0s 4ms/step - loss: 1995.0509 - mae: 1995.0509\n",
      "Epoch 87/300\n",
      "34/34 [==============================] - 0s 4ms/step - loss: 2011.0327 - mae: 2011.0327\n",
      "Epoch 88/300\n",
      "34/34 [==============================] - 0s 4ms/step - loss: 2003.0483 - mae: 2003.0483\n",
      "Epoch 89/300\n",
      "34/34 [==============================] - 0s 4ms/step - loss: 1989.0117 - mae: 1989.0117\n",
      "Epoch 90/300\n",
      "34/34 [==============================] - 0s 4ms/step - loss: 1992.8456 - mae: 1992.8456\n",
      "Epoch 91/300\n",
      "34/34 [==============================] - 0s 4ms/step - loss: 2002.1353 - mae: 2002.1353\n",
      "Epoch 92/300\n",
      "34/34 [==============================] - 0s 4ms/step - loss: 2000.1002 - mae: 2000.1002\n",
      "Epoch 93/300\n",
      "34/34 [==============================] - 0s 5ms/step - loss: 1996.8448 - mae: 1996.8448\n",
      "Epoch 94/300\n",
      "34/34 [==============================] - 0s 5ms/step - loss: 2021.1779 - mae: 2021.1779\n",
      "Epoch 95/300\n",
      "34/34 [==============================] - 0s 4ms/step - loss: 2014.3425 - mae: 2014.3425\n",
      "Epoch 96/300\n",
      "34/34 [==============================] - 0s 4ms/step - loss: 2027.6902 - mae: 2027.6902\n",
      "Epoch 97/300\n",
      "34/34 [==============================] - 0s 4ms/step - loss: 2025.4563 - mae: 2025.4563\n",
      "Epoch 98/300\n",
      "34/34 [==============================] - 0s 4ms/step - loss: 1989.2769 - mae: 1989.2769\n",
      "Epoch 99/300\n",
      "34/34 [==============================] - 0s 5ms/step - loss: 1986.6187 - mae: 1986.6187\n",
      "Epoch 100/300\n",
      "34/34 [==============================] - 0s 4ms/step - loss: 2017.4841 - mae: 2017.4841\n",
      "Epoch 101/300\n",
      "34/34 [==============================] - 0s 4ms/step - loss: 1989.1426 - mae: 1989.1426\n",
      "Epoch 102/300\n",
      "34/34 [==============================] - 0s 6ms/step - loss: 1990.8682 - mae: 1990.8682\n",
      "Epoch 103/300\n",
      "34/34 [==============================] - 0s 5ms/step - loss: 2003.9537 - mae: 2003.9537\n",
      "Epoch 104/300\n",
      "34/34 [==============================] - 0s 5ms/step - loss: 1980.7269 - mae: 1980.7269\n",
      "Epoch 105/300\n",
      "34/34 [==============================] - 0s 5ms/step - loss: 2046.2692 - mae: 2046.2692\n",
      "Epoch 106/300\n",
      "34/34 [==============================] - 0s 3ms/step - loss: 2003.4430 - mae: 2003.4430\n",
      "Epoch 107/300\n",
      "34/34 [==============================] - 0s 2ms/step - loss: 1995.8461 - mae: 1995.8461\n",
      "Epoch 108/300\n",
      "34/34 [==============================] - 0s 3ms/step - loss: 1988.9402 - mae: 1988.9402\n",
      "Epoch 109/300\n",
      "34/34 [==============================] - 0s 2ms/step - loss: 1989.0634 - mae: 1989.0634\n",
      "Epoch 110/300\n",
      "34/34 [==============================] - 0s 2ms/step - loss: 1991.2056 - mae: 1991.2056\n",
      "Epoch 111/300\n",
      "34/34 [==============================] - 0s 3ms/step - loss: 2002.9292 - mae: 2002.9292\n",
      "Epoch 112/300\n",
      "34/34 [==============================] - 0s 3ms/step - loss: 1989.1248 - mae: 1989.1248\n",
      "Epoch 113/300\n",
      "34/34 [==============================] - 0s 3ms/step - loss: 1993.4890 - mae: 1993.4890\n",
      "Epoch 114/300\n",
      "34/34 [==============================] - 0s 3ms/step - loss: 2005.2188 - mae: 2005.2188\n",
      "Epoch 115/300\n",
      "34/34 [==============================] - 0s 3ms/step - loss: 1985.0972 - mae: 1985.0972\n",
      "Epoch 116/300\n",
      "34/34 [==============================] - 0s 3ms/step - loss: 2006.9755 - mae: 2006.9755\n",
      "Epoch 117/300\n",
      "34/34 [==============================] - 0s 3ms/step - loss: 2003.4650 - mae: 2003.4650\n",
      "Epoch 118/300\n",
      "34/34 [==============================] - 0s 3ms/step - loss: 1978.1301 - mae: 1978.1301\n",
      "Epoch 119/300\n",
      "34/34 [==============================] - 0s 3ms/step - loss: 2009.0098 - mae: 2009.0098\n",
      "Epoch 120/300\n",
      "34/34 [==============================] - 0s 3ms/step - loss: 1979.0836 - mae: 1979.0836\n",
      "Epoch 121/300\n",
      "34/34 [==============================] - 0s 2ms/step - loss: 1993.4054 - mae: 1993.4054\n",
      "Epoch 122/300\n",
      "34/34 [==============================] - 0s 2ms/step - loss: 1998.0286 - mae: 1998.0286\n",
      "Epoch 123/300\n",
      "34/34 [==============================] - 0s 3ms/step - loss: 1994.6390 - mae: 1994.6390\n",
      "Epoch 124/300\n",
      "34/34 [==============================] - 0s 3ms/step - loss: 2030.0018 - mae: 2030.0018\n",
      "Epoch 125/300\n",
      "34/34 [==============================] - 0s 3ms/step - loss: 1964.2759 - mae: 1964.2759\n",
      "Epoch 126/300\n",
      "34/34 [==============================] - 0s 3ms/step - loss: 2014.0649 - mae: 2014.0649\n",
      "Epoch 127/300\n",
      "34/34 [==============================] - 0s 3ms/step - loss: 2000.5074 - mae: 2000.5074\n",
      "Epoch 128/300\n",
      "34/34 [==============================] - 0s 3ms/step - loss: 2033.9470 - mae: 2033.9470\n",
      "Epoch 129/300\n",
      "34/34 [==============================] - 0s 2ms/step - loss: 1981.6224 - mae: 1981.6224\n",
      "Epoch 130/300\n",
      "34/34 [==============================] - 0s 2ms/step - loss: 2011.1979 - mae: 2011.1979\n",
      "Epoch 131/300\n",
      "34/34 [==============================] - 0s 2ms/step - loss: 2015.1682 - mae: 2015.1682\n",
      "Epoch 132/300\n",
      "34/34 [==============================] - 0s 3ms/step - loss: 2000.1017 - mae: 2000.1017\n",
      "Epoch 133/300\n",
      "34/34 [==============================] - 0s 2ms/step - loss: 2006.0358 - mae: 2006.0358\n",
      "Epoch 134/300\n",
      "34/34 [==============================] - 0s 2ms/step - loss: 1994.4972 - mae: 1994.4972\n",
      "Epoch 135/300\n",
      "34/34 [==============================] - 0s 2ms/step - loss: 1973.0229 - mae: 1973.0229\n",
      "Epoch 136/300\n",
      "34/34 [==============================] - 0s 2ms/step - loss: 2003.7867 - mae: 2003.7867\n",
      "Epoch 137/300\n",
      "34/34 [==============================] - 0s 2ms/step - loss: 1974.5294 - mae: 1974.5294\n",
      "Epoch 138/300\n",
      "34/34 [==============================] - 0s 3ms/step - loss: 1989.1593 - mae: 1989.1593\n",
      "Epoch 139/300\n",
      "34/34 [==============================] - 0s 3ms/step - loss: 1987.0131 - mae: 1987.0131\n",
      "Epoch 140/300\n",
      "34/34 [==============================] - 0s 3ms/step - loss: 1993.4427 - mae: 1993.4427\n",
      "Epoch 141/300\n",
      "34/34 [==============================] - 0s 3ms/step - loss: 1977.3783 - mae: 1977.3783\n",
      "Epoch 142/300\n",
      "34/34 [==============================] - 0s 3ms/step - loss: 1970.2628 - mae: 1970.2628\n",
      "Epoch 143/300\n",
      "34/34 [==============================] - 0s 3ms/step - loss: 1989.6339 - mae: 1989.6339\n",
      "Epoch 144/300\n",
      "34/34 [==============================] - 0s 3ms/step - loss: 1982.1296 - mae: 1982.1296\n",
      "Epoch 145/300\n",
      "34/34 [==============================] - 0s 3ms/step - loss: 1967.5969 - mae: 1967.5969\n",
      "Epoch 146/300\n",
      "34/34 [==============================] - 0s 3ms/step - loss: 1975.7960 - mae: 1975.7960\n",
      "Epoch 147/300\n",
      "34/34 [==============================] - 0s 3ms/step - loss: 1977.8000 - mae: 1977.8000\n",
      "Epoch 148/300\n",
      "34/34 [==============================] - 0s 3ms/step - loss: 1984.4100 - mae: 1984.4100\n",
      "Epoch 149/300\n",
      "34/34 [==============================] - 0s 3ms/step - loss: 1980.6056 - mae: 1980.6056\n",
      "Epoch 150/300\n",
      "34/34 [==============================] - 0s 3ms/step - loss: 1989.0537 - mae: 1989.0537\n",
      "Epoch 151/300\n",
      "34/34 [==============================] - 0s 3ms/step - loss: 1980.3004 - mae: 1980.3004\n",
      "Epoch 152/300\n",
      "34/34 [==============================] - 0s 3ms/step - loss: 1973.5739 - mae: 1973.5739\n",
      "Epoch 153/300\n",
      "34/34 [==============================] - 0s 5ms/step - loss: 1996.2393 - mae: 1996.2393\n",
      "Epoch 154/300\n",
      "34/34 [==============================] - 0s 3ms/step - loss: 1974.4049 - mae: 1974.4049\n",
      "Epoch 155/300\n",
      "34/34 [==============================] - 0s 4ms/step - loss: 1966.8411 - mae: 1966.8411\n",
      "Epoch 156/300\n",
      "34/34 [==============================] - 0s 3ms/step - loss: 1983.2360 - mae: 1983.2360\n",
      "Epoch 157/300\n",
      "34/34 [==============================] - 0s 3ms/step - loss: 2035.3717 - mae: 2035.3717\n",
      "Epoch 158/300\n",
      "34/34 [==============================] - 0s 3ms/step - loss: 1976.6345 - mae: 1976.6345\n",
      "Epoch 159/300\n",
      "34/34 [==============================] - 0s 3ms/step - loss: 2022.9594 - mae: 2022.9594\n",
      "Epoch 160/300\n",
      "34/34 [==============================] - 0s 3ms/step - loss: 1984.3571 - mae: 1984.3571\n",
      "Epoch 161/300\n",
      "34/34 [==============================] - 0s 3ms/step - loss: 1975.4297 - mae: 1975.4297\n",
      "Epoch 162/300\n",
      "34/34 [==============================] - 0s 4ms/step - loss: 1976.8492 - mae: 1976.8492\n",
      "Epoch 163/300\n",
      "34/34 [==============================] - 0s 3ms/step - loss: 1979.6836 - mae: 1979.6836\n",
      "Epoch 164/300\n",
      "34/34 [==============================] - 0s 3ms/step - loss: 1991.5612 - mae: 1991.5612\n",
      "Epoch 165/300\n",
      "34/34 [==============================] - 0s 3ms/step - loss: 1994.0294 - mae: 1994.0294\n",
      "Epoch 166/300\n",
      "34/34 [==============================] - 0s 3ms/step - loss: 1954.6874 - mae: 1954.6874\n",
      "Epoch 167/300\n",
      "34/34 [==============================] - 0s 3ms/step - loss: 1969.7007 - mae: 1969.7007\n",
      "Epoch 168/300\n",
      "34/34 [==============================] - 0s 3ms/step - loss: 1984.3385 - mae: 1984.3385\n",
      "Epoch 169/300\n",
      "34/34 [==============================] - 0s 3ms/step - loss: 1972.5173 - mae: 1972.5173\n",
      "Epoch 170/300\n",
      "34/34 [==============================] - 0s 3ms/step - loss: 1983.8599 - mae: 1983.8599\n",
      "Epoch 171/300\n",
      "34/34 [==============================] - 0s 3ms/step - loss: 1996.5853 - mae: 1996.5853\n",
      "Epoch 172/300\n",
      "34/34 [==============================] - 0s 2ms/step - loss: 1981.1296 - mae: 1981.1296\n",
      "Epoch 173/300\n",
      "34/34 [==============================] - 0s 2ms/step - loss: 1988.2372 - mae: 1988.2372\n",
      "Epoch 174/300\n",
      "34/34 [==============================] - 0s 2ms/step - loss: 1986.5509 - mae: 1986.5509\n",
      "Epoch 175/300\n",
      "34/34 [==============================] - 0s 2ms/step - loss: 2005.0568 - mae: 2005.0568\n",
      "Epoch 176/300\n",
      "34/34 [==============================] - 0s 3ms/step - loss: 1953.1594 - mae: 1953.1594\n",
      "Epoch 177/300\n",
      "34/34 [==============================] - 0s 3ms/step - loss: 2013.4972 - mae: 2013.4972\n",
      "Epoch 178/300\n",
      "34/34 [==============================] - 0s 3ms/step - loss: 2005.9984 - mae: 2005.9984\n",
      "Epoch 179/300\n",
      "34/34 [==============================] - 0s 3ms/step - loss: 1982.3292 - mae: 1982.3292\n",
      "Epoch 180/300\n",
      "34/34 [==============================] - 0s 3ms/step - loss: 1973.8385 - mae: 1973.8385\n",
      "Epoch 181/300\n",
      "34/34 [==============================] - 0s 4ms/step - loss: 1974.3246 - mae: 1974.3246\n",
      "Epoch 182/300\n",
      "34/34 [==============================] - 0s 4ms/step - loss: 1992.2942 - mae: 1992.2942\n",
      "Epoch 183/300\n",
      "34/34 [==============================] - 0s 4ms/step - loss: 1982.8768 - mae: 1982.8768\n",
      "Epoch 184/300\n",
      "34/34 [==============================] - 0s 3ms/step - loss: 1975.5005 - mae: 1975.5005\n",
      "Epoch 185/300\n",
      "34/34 [==============================] - 0s 4ms/step - loss: 1998.9336 - mae: 1998.9336\n",
      "Epoch 186/300\n",
      "34/34 [==============================] - 0s 3ms/step - loss: 1971.4497 - mae: 1971.4497\n",
      "Epoch 187/300\n",
      "34/34 [==============================] - 0s 2ms/step - loss: 2010.8007 - mae: 2010.8007\n",
      "Epoch 188/300\n",
      "34/34 [==============================] - 0s 3ms/step - loss: 1968.6014 - mae: 1968.6014\n",
      "Epoch 189/300\n",
      "34/34 [==============================] - 0s 3ms/step - loss: 1962.5266 - mae: 1962.5266\n",
      "Epoch 190/300\n",
      "34/34 [==============================] - 0s 3ms/step - loss: 2014.1521 - mae: 2014.1521\n",
      "Epoch 191/300\n",
      "34/34 [==============================] - 0s 3ms/step - loss: 1992.2899 - mae: 1992.2899\n",
      "Epoch 192/300\n",
      "34/34 [==============================] - 0s 3ms/step - loss: 1978.8694 - mae: 1978.8694\n",
      "Epoch 193/300\n",
      "34/34 [==============================] - 0s 3ms/step - loss: 1975.4318 - mae: 1975.4318\n",
      "Epoch 194/300\n",
      "34/34 [==============================] - 0s 3ms/step - loss: 1951.2509 - mae: 1951.2509\n",
      "Epoch 195/300\n",
      "34/34 [==============================] - 0s 3ms/step - loss: 1980.2643 - mae: 1980.2643\n",
      "Epoch 196/300\n",
      "34/34 [==============================] - 0s 2ms/step - loss: 2002.3252 - mae: 2002.3252\n",
      "Epoch 197/300\n",
      "34/34 [==============================] - 0s 2ms/step - loss: 2019.1348 - mae: 2019.1348\n",
      "Epoch 198/300\n",
      "34/34 [==============================] - 0s 2ms/step - loss: 1989.7344 - mae: 1989.7344\n",
      "Epoch 199/300\n",
      "34/34 [==============================] - 0s 2ms/step - loss: 2005.6255 - mae: 2005.6255\n",
      "Epoch 200/300\n",
      "34/34 [==============================] - 0s 2ms/step - loss: 1977.0371 - mae: 1977.0371\n",
      "Epoch 201/300\n",
      "34/34 [==============================] - 0s 2ms/step - loss: 2006.9198 - mae: 2006.9198\n",
      "Epoch 202/300\n",
      "34/34 [==============================] - 0s 2ms/step - loss: 1957.1263 - mae: 1957.1263\n",
      "Epoch 203/300\n",
      "34/34 [==============================] - 0s 3ms/step - loss: 1960.1838 - mae: 1960.1838\n",
      "Epoch 204/300\n",
      "34/34 [==============================] - 0s 4ms/step - loss: 1946.0959 - mae: 1946.0959\n",
      "Epoch 205/300\n",
      "34/34 [==============================] - 0s 4ms/step - loss: 1967.7288 - mae: 1967.7288\n",
      "Epoch 206/300\n",
      "34/34 [==============================] - 0s 4ms/step - loss: 1959.9808 - mae: 1959.9808\n",
      "Epoch 207/300\n",
      "34/34 [==============================] - 0s 3ms/step - loss: 1973.1150 - mae: 1973.1150\n",
      "Epoch 208/300\n",
      "34/34 [==============================] - 0s 3ms/step - loss: 1962.1619 - mae: 1962.1619\n",
      "Epoch 209/300\n",
      "34/34 [==============================] - 0s 3ms/step - loss: 1950.3778 - mae: 1950.3778\n",
      "Epoch 210/300\n",
      "34/34 [==============================] - 0s 3ms/step - loss: 1957.0791 - mae: 1957.0791\n",
      "Epoch 211/300\n",
      "34/34 [==============================] - 0s 3ms/step - loss: 1945.9036 - mae: 1945.9036\n",
      "Epoch 212/300\n",
      "34/34 [==============================] - 0s 3ms/step - loss: 1962.8589 - mae: 1962.8589\n",
      "Epoch 213/300\n",
      "34/34 [==============================] - 0s 2ms/step - loss: 1985.4175 - mae: 1985.4175\n",
      "Epoch 214/300\n",
      "34/34 [==============================] - 0s 2ms/step - loss: 1963.2731 - mae: 1963.2731\n",
      "Epoch 215/300\n",
      "34/34 [==============================] - 0s 2ms/step - loss: 1958.8800 - mae: 1958.8800\n",
      "Epoch 216/300\n",
      "34/34 [==============================] - 0s 2ms/step - loss: 1966.3809 - mae: 1966.3809\n",
      "Epoch 217/300\n",
      "34/34 [==============================] - 0s 2ms/step - loss: 1959.4838 - mae: 1959.4838\n",
      "Epoch 218/300\n",
      "34/34 [==============================] - 0s 2ms/step - loss: 1962.7518 - mae: 1962.7518\n",
      "Epoch 219/300\n",
      "34/34 [==============================] - 0s 3ms/step - loss: 1994.7932 - mae: 1994.7932\n",
      "Epoch 220/300\n",
      "34/34 [==============================] - 0s 4ms/step - loss: 1954.9930 - mae: 1954.9930\n",
      "Epoch 221/300\n",
      "34/34 [==============================] - 0s 3ms/step - loss: 1986.6000 - mae: 1986.6000\n",
      "Epoch 222/300\n",
      "34/34 [==============================] - 0s 3ms/step - loss: 1970.7133 - mae: 1970.7133\n",
      "Epoch 223/300\n",
      "34/34 [==============================] - 0s 3ms/step - loss: 1951.5232 - mae: 1951.5232\n",
      "Epoch 224/300\n",
      "34/34 [==============================] - 0s 3ms/step - loss: 1959.3027 - mae: 1959.3027\n",
      "Epoch 225/300\n",
      "34/34 [==============================] - 0s 3ms/step - loss: 1980.7487 - mae: 1980.7487\n",
      "Epoch 226/300\n",
      "34/34 [==============================] - 0s 4ms/step - loss: 2014.0746 - mae: 2014.0746\n",
      "Epoch 227/300\n",
      "34/34 [==============================] - 0s 3ms/step - loss: 1971.0154 - mae: 1971.0154\n",
      "Epoch 228/300\n",
      "34/34 [==============================] - 0s 3ms/step - loss: 1958.6729 - mae: 1958.6729\n",
      "Epoch 229/300\n",
      "34/34 [==============================] - 0s 3ms/step - loss: 1948.6747 - mae: 1948.6747\n",
      "Epoch 230/300\n",
      "34/34 [==============================] - 0s 2ms/step - loss: 1954.1058 - mae: 1954.1058\n",
      "Epoch 231/300\n",
      "34/34 [==============================] - 0s 3ms/step - loss: 1943.1367 - mae: 1943.1367\n",
      "Epoch 232/300\n",
      "34/34 [==============================] - 0s 3ms/step - loss: 1967.9493 - mae: 1967.9493\n",
      "Epoch 233/300\n",
      "34/34 [==============================] - 0s 2ms/step - loss: 1972.9640 - mae: 1972.9640\n",
      "Epoch 234/300\n",
      "34/34 [==============================] - 0s 2ms/step - loss: 1984.9731 - mae: 1984.9731\n",
      "Epoch 235/300\n",
      "34/34 [==============================] - 0s 2ms/step - loss: 1978.3776 - mae: 1978.3776\n",
      "Epoch 236/300\n",
      "34/34 [==============================] - 0s 2ms/step - loss: 1971.4633 - mae: 1971.4633\n",
      "Epoch 237/300\n",
      "34/34 [==============================] - 0s 2ms/step - loss: 1990.2378 - mae: 1990.2378\n",
      "Epoch 238/300\n",
      "34/34 [==============================] - 0s 2ms/step - loss: 1964.6344 - mae: 1964.6344\n",
      "Epoch 239/300\n",
      "34/34 [==============================] - 0s 2ms/step - loss: 1945.5929 - mae: 1945.5929\n",
      "Epoch 240/300\n",
      "34/34 [==============================] - 0s 2ms/step - loss: 1952.3575 - mae: 1952.3575\n",
      "Epoch 241/300\n",
      "34/34 [==============================] - 0s 2ms/step - loss: 1997.0253 - mae: 1997.0253\n",
      "Epoch 242/300\n",
      "34/34 [==============================] - 0s 2ms/step - loss: 1970.3215 - mae: 1970.3215\n",
      "Epoch 243/300\n",
      "34/34 [==============================] - 0s 2ms/step - loss: 1954.9644 - mae: 1954.9644\n",
      "Epoch 244/300\n",
      "34/34 [==============================] - 0s 3ms/step - loss: 1991.8995 - mae: 1991.8995\n",
      "Epoch 245/300\n",
      "34/34 [==============================] - 0s 3ms/step - loss: 1956.4803 - mae: 1956.4803\n",
      "Epoch 246/300\n",
      "34/34 [==============================] - 0s 4ms/step - loss: 1948.8403 - mae: 1948.8403\n",
      "Epoch 247/300\n",
      "34/34 [==============================] - 0s 3ms/step - loss: 1953.3147 - mae: 1953.3147\n",
      "Epoch 248/300\n",
      "34/34 [==============================] - 0s 3ms/step - loss: 1974.9635 - mae: 1974.9635\n",
      "Epoch 249/300\n",
      "34/34 [==============================] - 0s 3ms/step - loss: 1949.2876 - mae: 1949.2876\n",
      "Epoch 250/300\n",
      "34/34 [==============================] - 0s 3ms/step - loss: 1962.1976 - mae: 1962.1976\n",
      "Epoch 251/300\n",
      "34/34 [==============================] - 0s 3ms/step - loss: 1967.4659 - mae: 1967.4659\n",
      "Epoch 252/300\n",
      "34/34 [==============================] - 0s 3ms/step - loss: 1969.6644 - mae: 1969.6644\n",
      "Epoch 253/300\n",
      "34/34 [==============================] - 0s 3ms/step - loss: 1963.5402 - mae: 1963.5402\n",
      "Epoch 254/300\n",
      "34/34 [==============================] - 0s 2ms/step - loss: 1944.6027 - mae: 1944.6027\n",
      "Epoch 255/300\n",
      "34/34 [==============================] - 0s 2ms/step - loss: 1944.1666 - mae: 1944.1666\n",
      "Epoch 256/300\n",
      "34/34 [==============================] - 0s 2ms/step - loss: 1963.7677 - mae: 1963.7677\n",
      "Epoch 257/300\n",
      "34/34 [==============================] - 0s 2ms/step - loss: 1958.5254 - mae: 1958.5254\n",
      "Epoch 258/300\n",
      "34/34 [==============================] - 0s 2ms/step - loss: 1956.5142 - mae: 1956.5142\n",
      "Epoch 259/300\n",
      "34/34 [==============================] - 0s 2ms/step - loss: 1947.3986 - mae: 1947.3986\n",
      "Epoch 260/300\n",
      "34/34 [==============================] - 0s 2ms/step - loss: 1949.5938 - mae: 1949.5938\n",
      "Epoch 261/300\n",
      "34/34 [==============================] - 0s 2ms/step - loss: 1930.6141 - mae: 1930.6141\n",
      "Epoch 262/300\n",
      "34/34 [==============================] - 0s 2ms/step - loss: 1936.2977 - mae: 1936.2977\n",
      "Epoch 263/300\n",
      "34/34 [==============================] - 0s 2ms/step - loss: 1940.1605 - mae: 1940.1605\n",
      "Epoch 264/300\n",
      "34/34 [==============================] - 0s 3ms/step - loss: 1923.9335 - mae: 1923.9335\n",
      "Epoch 265/300\n",
      "34/34 [==============================] - 0s 3ms/step - loss: 1918.5032 - mae: 1918.5032\n",
      "Epoch 266/300\n",
      "34/34 [==============================] - 0s 3ms/step - loss: 1974.3781 - mae: 1974.3781\n",
      "Epoch 267/300\n",
      "34/34 [==============================] - 0s 3ms/step - loss: 1928.0811 - mae: 1928.0811\n",
      "Epoch 268/300\n",
      "34/34 [==============================] - 0s 3ms/step - loss: 1932.1533 - mae: 1932.1533\n",
      "Epoch 269/300\n",
      "34/34 [==============================] - 0s 3ms/step - loss: 1952.6755 - mae: 1952.6755\n",
      "Epoch 270/300\n",
      "34/34 [==============================] - 0s 3ms/step - loss: 1959.1216 - mae: 1959.1216\n",
      "Epoch 271/300\n",
      "34/34 [==============================] - 0s 3ms/step - loss: 1947.3879 - mae: 1947.3879\n",
      "Epoch 272/300\n",
      "34/34 [==============================] - 0s 3ms/step - loss: 1950.5315 - mae: 1950.5315\n",
      "Epoch 273/300\n",
      "34/34 [==============================] - 0s 3ms/step - loss: 1974.8684 - mae: 1974.8684\n",
      "Epoch 274/300\n",
      "34/34 [==============================] - 0s 3ms/step - loss: 1937.1006 - mae: 1937.1006\n",
      "Epoch 275/300\n",
      "34/34 [==============================] - 0s 3ms/step - loss: 1952.2402 - mae: 1952.2402\n",
      "Epoch 276/300\n",
      "34/34 [==============================] - 0s 3ms/step - loss: 1980.5283 - mae: 1980.5283\n",
      "Epoch 277/300\n",
      "34/34 [==============================] - 0s 3ms/step - loss: 1941.1617 - mae: 1941.1617\n",
      "Epoch 278/300\n",
      "34/34 [==============================] - 0s 3ms/step - loss: 1964.5332 - mae: 1964.5332\n",
      "Epoch 279/300\n",
      "34/34 [==============================] - 0s 3ms/step - loss: 1944.2460 - mae: 1944.2460\n",
      "Epoch 280/300\n",
      "34/34 [==============================] - 0s 3ms/step - loss: 1971.1385 - mae: 1971.1385\n",
      "Epoch 281/300\n",
      "34/34 [==============================] - 0s 3ms/step - loss: 1958.6292 - mae: 1958.6292\n",
      "Epoch 282/300\n",
      "34/34 [==============================] - 0s 3ms/step - loss: 1945.6206 - mae: 1945.6206\n",
      "Epoch 283/300\n",
      "34/34 [==============================] - 0s 3ms/step - loss: 1987.3853 - mae: 1987.3853\n",
      "Epoch 284/300\n",
      "34/34 [==============================] - 0s 3ms/step - loss: 1948.0122 - mae: 1948.0122\n",
      "Epoch 285/300\n",
      "34/34 [==============================] - 0s 3ms/step - loss: 1932.0732 - mae: 1932.0732\n",
      "Epoch 286/300\n",
      "34/34 [==============================] - 0s 3ms/step - loss: 1958.9376 - mae: 1958.9376\n",
      "Epoch 287/300\n",
      "34/34 [==============================] - 0s 3ms/step - loss: 1968.9149 - mae: 1968.9149\n",
      "Epoch 288/300\n",
      "34/34 [==============================] - 0s 3ms/step - loss: 1976.9872 - mae: 1976.9872\n",
      "Epoch 289/300\n",
      "34/34 [==============================] - 0s 3ms/step - loss: 1926.5165 - mae: 1926.5165\n",
      "Epoch 290/300\n",
      "34/34 [==============================] - 0s 3ms/step - loss: 1962.0657 - mae: 1962.0657\n",
      "Epoch 291/300\n",
      "34/34 [==============================] - 0s 3ms/step - loss: 1929.8009 - mae: 1929.8009\n",
      "Epoch 292/300\n",
      "34/34 [==============================] - 0s 3ms/step - loss: 1963.2107 - mae: 1963.2107\n",
      "Epoch 293/300\n",
      "34/34 [==============================] - 0s 3ms/step - loss: 1941.5942 - mae: 1941.5942\n",
      "Epoch 294/300\n",
      "34/34 [==============================] - 0s 4ms/step - loss: 1969.8124 - mae: 1969.8124\n",
      "Epoch 295/300\n",
      "34/34 [==============================] - 0s 3ms/step - loss: 1963.7867 - mae: 1963.7867\n",
      "Epoch 296/300\n",
      "34/34 [==============================] - 0s 2ms/step - loss: 1987.4668 - mae: 1987.4668\n",
      "Epoch 297/300\n",
      "34/34 [==============================] - 0s 2ms/step - loss: 1960.1652 - mae: 1960.1652\n",
      "Epoch 298/300\n",
      "34/34 [==============================] - 0s 2ms/step - loss: 1951.4730 - mae: 1951.4730\n",
      "Epoch 299/300\n",
      "34/34 [==============================] - 0s 2ms/step - loss: 1934.9208 - mae: 1934.9208\n",
      "Epoch 300/300\n",
      "34/34 [==============================] - 0s 2ms/step - loss: 1933.7891 - mae: 1933.7891\n"
     ]
    }
   ],
   "source": [
    "insurance_m2 = tf.keras.Sequential(name = \"Insurance_Prediction_Model\")\n",
    "insurance_m2.add(tf.keras.layers.Dense(\n",
    "  units = 150,\n",
    "  name = \"hidden_layer_1\",\n",
    "  activation = 'relu'\n",
    "))\n",
    "insurance_m2.add(tf.keras.layers.Dense(\n",
    "  units = 100,\n",
    "  name = \"hidden_layer_2\"\n",
    "))\n",
    "insurance_m2.add(tf.keras.layers.Dense(\n",
    "  units = 1,\n",
    "  name = \"ouput_layer\"\n",
    "))\n",
    "\n",
    "insurance_m2.compile(\n",
    "  loss = 'mae',\n",
    "  optimizer = tf.keras.optimizers.Adam(learning_rate = 0.01),\n",
    "  metrics = 'mae'\n",
    ")\n",
    "\n",
    "insurance_m2_h = insurance_m2.fit(x_train_n, y_train, epochs = 300)"
   ]
  },
  {
   "cell_type": "code",
   "execution_count": 71,
   "metadata": {},
   "outputs": [
    {
     "name": "stdout",
     "output_type": "stream",
     "text": [
      "9/9 [==============================] - 0s 2ms/step - loss: 1766.1194 - mae: 1766.1194\n"
     ]
    }
   ],
   "source": [
    "eval_insurance_m2 = insurance_m2.evaluate(x_test_n, y_test)"
   ]
  },
  {
   "cell_type": "code",
   "execution_count": 73,
   "metadata": {},
   "outputs": [
    {
     "name": "stdout",
     "output_type": "stream",
     "text": [
      "9/9 [==============================] - 0s 2ms/step\n"
     ]
    }
   ],
   "source": [
    "y_pred = insurance_m2.predict(x_test_n)"
   ]
  },
  {
   "cell_type": "code",
   "execution_count": 76,
   "metadata": {},
   "outputs": [
    {
     "name": "stdout",
     "output_type": "stream",
     "text": [
      "Predicted:  [9120.027] \n",
      " Test:  9095.06825 \n",
      " Difference:  [-24.958984]\n"
     ]
    }
   ],
   "source": [
    "index = 0\n",
    "\n",
    "print(\"Predicted: \", y_pred[index], \"\\n\",\n",
    "      \"Test: \", y_test[index].numpy(), \"\\n\",\n",
    "      \"Difference: \", y_test[index].numpy() - y_pred[index])"
   ]
  },
  {
   "cell_type": "code",
   "execution_count": 77,
   "metadata": {},
   "outputs": [
    {
     "data": {
      "image/png": "[encoded data removed]",
      "text/plain": [
       "<Figure size 432x288 with 1 Axes>"
      ]
     },
     "metadata": {
      "needs_background": "light"
     },
     "output_type": "display_data"
    }
   ],
   "source": [
    "nnr.pred_test_sPlt(y_test.numpy(), y_pred)"
   ]
  },
  {
   "cell_type": "code",
   "execution_count": 78,
   "metadata": {},
   "outputs": [
    {
     "data": {
      "image/png": "[encoded data removed]",
      "text/plain": [
       "<Figure size 432x288 with 1 Axes>"
      ]
     },
     "metadata": {
      "needs_background": "light"
     },
     "output_type": "display_data"
    }
   ],
   "source": [
    "nnr.dataFrame(insurance_m2_h)"
   ]
  },
  {
   "cell_type": "code",
   "execution_count": 81,
   "metadata": {},
   "outputs": [
    {
     "name": "stdout",
     "output_type": "stream",
     "text": [
      "Training Loss:  1933.789 \n",
      "Evaluation Loss:  1766.119 \n",
      "Difference:  167.67\n"
     ]
    }
   ],
   "source": [
    "nnr.train_eval_comparison_native(insurance_m2_h, eval_insurance_m2)"
   ]
  },
  {
   "cell_type": "code",
   "execution_count": 82,
   "metadata": {},
   "outputs": [
    {
     "data": {
      "text/html": [
       "<div>\n",
       "<style scoped>\n",
       "    .dataframe tbody tr th:only-of-type {\n",
       "        vertical-align: middle;\n",
       "    }\n",
       "\n",
       "    .dataframe tbody tr th {\n",
       "        vertical-align: top;\n",
       "    }\n",
       "\n",
       "    .dataframe thead th {\n",
       "        text-align: right;\n",
       "    }\n",
       "</style>\n",
       "<table border=\"1\" class=\"dataframe\">\n",
       "  <thead>\n",
       "    <tr style=\"text-align: right;\">\n",
       "      <th></th>\n",
       "      <th>Data</th>\n",
       "      <th>Loss</th>\n",
       "      <th>MAE</th>\n",
       "    </tr>\n",
       "  </thead>\n",
       "  <tbody>\n",
       "    <tr>\n",
       "      <th>0</th>\n",
       "      <td>Training Data</td>\n",
       "      <td>1933.789</td>\n",
       "      <td>1933.789</td>\n",
       "    </tr>\n",
       "    <tr>\n",
       "      <th>1</th>\n",
       "      <td>Evaluation Data</td>\n",
       "      <td>1766.119</td>\n",
       "      <td>1766.119</td>\n",
       "    </tr>\n",
       "    <tr>\n",
       "      <th>2</th>\n",
       "      <td>Difference</td>\n",
       "      <td>167.670</td>\n",
       "      <td>167.670</td>\n",
       "    </tr>\n",
       "  </tbody>\n",
       "</table>\n",
       "</div>"
      ],
      "text/plain": [
       "              Data      Loss       MAE\n",
       "0    Training Data  1933.789  1933.789\n",
       "1  Evaluation Data  1766.119  1766.119\n",
       "2       Difference   167.670   167.670"
      ]
     },
     "execution_count": 82,
     "metadata": {},
     "output_type": "execute_result"
    }
   ],
   "source": [
    "nnr.train_eval_comparison_panda_table(insurance_m2_h, eval_insurance_m2)"
   ]
  },
  {
   "cell_type": "markdown",
   "metadata": {},
   "source": [
    "#### Saving/Loading of Models and History and Evaluation of Saved Models and History"
   ]
  },
  {
   "cell_type": "markdown",
   "metadata": {},
   "source": [
    "##### Saving Model and History"
   ]
  },
  {
   "cell_type": "code",
   "execution_count": 83,
   "metadata": {},
   "outputs": [
    {
     "data": {
      "image/png": "[encoded data removed]",
      "text/plain": [
       "<IPython.core.display.Image object>"
      ]
     },
     "execution_count": 83,
     "metadata": {},
     "output_type": "execute_result"
    }
   ],
   "source": [
    "nnr.save(\"./saved_files/NNRSC/Insurance_Model/m_2/\", \"insurance_m2\", insurance_m2_h, insurance_m2)"
   ]
  },
  {
   "cell_type": "markdown",
   "metadata": {},
   "source": [
    "##### Loading Model and History"
   ]
  },
  {
   "cell_type": "code",
   "execution_count": 91,
   "metadata": {},
   "outputs": [],
   "source": [
    "insurance_m2_h5 = tf.keras.models.load_model(\"./saved_files/NNRSC/Insurance_Model/m_2/insurance_m2.h5\")\n",
    "insurance_m2_h_json = nnr.loadHist(\"./saved_files/NNRSC/Insurance_Model/m_2/insurance_m2_h.json\")"
   ]
  },
  {
   "cell_type": "markdown",
   "metadata": {},
   "source": [
    "##### Evaluation of Saved Data"
   ]
  },
  {
   "cell_type": "code",
   "execution_count": 86,
   "metadata": {},
   "outputs": [
    {
     "name": "stdout",
     "output_type": "stream",
     "text": [
      "9/9 [==============================] - 0s 3ms/step - loss: 1766.1194 - mae: 1766.1194\n"
     ]
    }
   ],
   "source": [
    "eval_insurance_m2 = insurance_m2_h5.evaluate(x_test_n, y_test)"
   ]
  },
  {
   "cell_type": "code",
   "execution_count": 87,
   "metadata": {},
   "outputs": [
    {
     "name": "stdout",
     "output_type": "stream",
     "text": [
      "9/9 [==============================] - 0s 2ms/step\n"
     ]
    }
   ],
   "source": [
    "y_pred = insurance_m2_h5.predict(x_test_n)"
   ]
  },
  {
   "cell_type": "code",
   "execution_count": 88,
   "metadata": {},
   "outputs": [
    {
     "name": "stdout",
     "output_type": "stream",
     "text": [
      "Predicted:  [9120.027] \n",
      " Test:  9095.06825 \n",
      " Difference:  [-24.958984]\n"
     ]
    }
   ],
   "source": [
    "index = 0\n",
    "\n",
    "print(\"Predicted: \", y_pred[index], \"\\n\",\n",
    "      \"Test: \", y_test[index].numpy(), \"\\n\",\n",
    "      \"Difference: \", y_test[index].numpy() - y_pred[index])"
   ]
  },
  {
   "cell_type": "code",
   "execution_count": 89,
   "metadata": {},
   "outputs": [
    {
     "data": {
      "image/png": "[encoded data removed]",
      "text/plain": [
       "<Figure size 432x288 with 1 Axes>"
      ]
     },
     "metadata": {
      "needs_background": "light"
     },
     "output_type": "display_data"
    }
   ],
   "source": [
    "nnr.pred_test_sPlt(y_test.numpy(), y_pred)"
   ]
  },
  {
   "cell_type": "code",
   "execution_count": 93,
   "metadata": {},
   "outputs": [
    {
     "data": {
      "image/png": "[encoded data removed]",
      "text/plain": [
       "<Figure size 432x288 with 1 Axes>"
      ]
     },
     "metadata": {
      "needs_background": "light"
     },
     "output_type": "display_data"
    }
   ],
   "source": [
    "nnr.dataFrame_lh(insurance_m2_h_json)"
   ]
  },
  {
   "cell_type": "code",
   "execution_count": 94,
   "metadata": {},
   "outputs": [
    {
     "name": "stdout",
     "output_type": "stream",
     "text": [
      "Training Loss:  1933.789 \n",
      "Evaluation Loss:  1766.119 \n",
      "Difference:  167.67\n"
     ]
    }
   ],
   "source": [
    "nnr.train_eval_comparison_native_lh(insurance_m2_h_json, eval_insurance_m2)"
   ]
  },
  {
   "cell_type": "code",
   "execution_count": 95,
   "metadata": {},
   "outputs": [
    {
     "data": {
      "text/html": [
       "<div>\n",
       "<style scoped>\n",
       "    .dataframe tbody tr th:only-of-type {\n",
       "        vertical-align: middle;\n",
       "    }\n",
       "\n",
       "    .dataframe tbody tr th {\n",
       "        vertical-align: top;\n",
       "    }\n",
       "\n",
       "    .dataframe thead th {\n",
       "        text-align: right;\n",
       "    }\n",
       "</style>\n",
       "<table border=\"1\" class=\"dataframe\">\n",
       "  <thead>\n",
       "    <tr style=\"text-align: right;\">\n",
       "      <th></th>\n",
       "      <th>Data</th>\n",
       "      <th>Loss</th>\n",
       "      <th>MAE</th>\n",
       "    </tr>\n",
       "  </thead>\n",
       "  <tbody>\n",
       "    <tr>\n",
       "      <th>0</th>\n",
       "      <td>Training Data</td>\n",
       "      <td>1933.789</td>\n",
       "      <td>1933.789</td>\n",
       "    </tr>\n",
       "    <tr>\n",
       "      <th>1</th>\n",
       "      <td>Evaluation Data</td>\n",
       "      <td>1766.119</td>\n",
       "      <td>1766.119</td>\n",
       "    </tr>\n",
       "    <tr>\n",
       "      <th>2</th>\n",
       "      <td>Difference</td>\n",
       "      <td>167.670</td>\n",
       "      <td>167.670</td>\n",
       "    </tr>\n",
       "  </tbody>\n",
       "</table>\n",
       "</div>"
      ],
      "text/plain": [
       "              Data      Loss       MAE\n",
       "0    Training Data  1933.789  1933.789\n",
       "1  Evaluation Data  1766.119  1766.119\n",
       "2       Difference   167.670   167.670"
      ]
     },
     "execution_count": 95,
     "metadata": {},
     "output_type": "execute_result"
    }
   ],
   "source": [
    "nnr.train_eval_comparison_panda_table_lh(insurance_m2_h_json, eval_insurance_m2)"
   ]
  },
  {
   "cell_type": "markdown",
   "metadata": {},
   "source": [
    "### Model 3\n",
    "- Increase 150 -> 250 units"
   ]
  },
  {
   "cell_type": "markdown",
   "metadata": {},
   "source": [
    "#### Modeling"
   ]
  },
  {
   "cell_type": "code",
   "execution_count": 126,
   "metadata": {},
   "outputs": [
    {
     "name": "stdout",
     "output_type": "stream",
     "text": [
      "Epoch 1/300\n",
      "34/34 [==============================] - 2s 5ms/step - loss: 9753.9014 - mae: 9753.9014\n",
      "Epoch 2/300\n",
      "34/34 [==============================] - 0s 5ms/step - loss: 4806.4199 - mae: 4806.4199\n",
      "Epoch 3/300\n",
      "34/34 [==============================] - 0s 5ms/step - loss: 3511.3386 - mae: 3511.3386\n",
      "Epoch 4/300\n",
      "34/34 [==============================] - 0s 5ms/step - loss: 3249.7253 - mae: 3249.7253\n",
      "Epoch 5/300\n",
      "34/34 [==============================] - 0s 5ms/step - loss: 3287.0872 - mae: 3287.0872\n",
      "Epoch 6/300\n",
      "34/34 [==============================] - 0s 5ms/step - loss: 3189.7581 - mae: 3189.7581\n",
      "Epoch 7/300\n",
      "34/34 [==============================] - 0s 5ms/step - loss: 3154.0547 - mae: 3154.0547\n",
      "Epoch 8/300\n",
      "34/34 [==============================] - 0s 5ms/step - loss: 2947.7520 - mae: 2947.7520\n",
      "Epoch 9/300\n",
      "34/34 [==============================] - 0s 5ms/step - loss: 2718.4121 - mae: 2718.4121\n",
      "Epoch 10/300\n",
      "34/34 [==============================] - 0s 5ms/step - loss: 2832.9478 - mae: 2832.9478\n",
      "Epoch 11/300\n",
      "34/34 [==============================] - 0s 5ms/step - loss: 2542.9580 - mae: 2542.9580\n",
      "Epoch 12/300\n",
      "34/34 [==============================] - 0s 5ms/step - loss: 2413.6814 - mae: 2413.6814\n",
      "Epoch 13/300\n",
      "34/34 [==============================] - 0s 6ms/step - loss: 2302.2192 - mae: 2302.2192\n",
      "Epoch 14/300\n",
      "34/34 [==============================] - 0s 5ms/step - loss: 2242.3833 - mae: 2242.3833\n",
      "Epoch 15/300\n",
      "34/34 [==============================] - 0s 5ms/step - loss: 2137.7473 - mae: 2137.7473\n",
      "Epoch 16/300\n",
      "34/34 [==============================] - 0s 6ms/step - loss: 2216.6860 - mae: 2216.6860\n",
      "Epoch 17/300\n",
      "34/34 [==============================] - 0s 5ms/step - loss: 2223.3904 - mae: 2223.3904\n",
      "Epoch 18/300\n",
      "34/34 [==============================] - 0s 6ms/step - loss: 2160.9539 - mae: 2160.9539\n",
      "Epoch 19/300\n",
      "34/34 [==============================] - 0s 5ms/step - loss: 2245.6106 - mae: 2245.6106\n",
      "Epoch 20/300\n",
      "34/34 [==============================] - 0s 5ms/step - loss: 2223.3958 - mae: 2223.3958\n",
      "Epoch 21/300\n",
      "34/34 [==============================] - 0s 5ms/step - loss: 2181.0640 - mae: 2181.0640\n",
      "Epoch 22/300\n",
      "34/34 [==============================] - 0s 6ms/step - loss: 2120.1067 - mae: 2120.1067\n",
      "Epoch 23/300\n",
      "34/34 [==============================] - 0s 5ms/step - loss: 2142.8921 - mae: 2142.8921\n",
      "Epoch 24/300\n",
      "34/34 [==============================] - 0s 5ms/step - loss: 2184.5679 - mae: 2184.5679\n",
      "Epoch 25/300\n",
      "34/34 [==============================] - 0s 5ms/step - loss: 2124.4226 - mae: 2124.4226\n",
      "Epoch 26/300\n",
      "34/34 [==============================] - 0s 5ms/step - loss: 2106.0430 - mae: 2106.0430\n",
      "Epoch 27/300\n",
      "34/34 [==============================] - 0s 5ms/step - loss: 2082.9446 - mae: 2082.9446\n",
      "Epoch 28/300\n",
      "34/34 [==============================] - 0s 5ms/step - loss: 2131.8062 - mae: 2131.8062\n",
      "Epoch 29/300\n",
      "34/34 [==============================] - 0s 5ms/step - loss: 2099.6460 - mae: 2099.6460\n",
      "Epoch 30/300\n",
      "34/34 [==============================] - 0s 5ms/step - loss: 2157.1750 - mae: 2157.1750\n",
      "Epoch 31/300\n",
      "34/34 [==============================] - 0s 5ms/step - loss: 2222.9312 - mae: 2222.9312\n",
      "Epoch 32/300\n",
      "34/34 [==============================] - 0s 5ms/step - loss: 2103.0117 - mae: 2103.0117\n",
      "Epoch 33/300\n",
      "34/34 [==============================] - 0s 5ms/step - loss: 2048.6326 - mae: 2048.6326\n",
      "Epoch 34/300\n",
      "34/34 [==============================] - 0s 5ms/step - loss: 2147.8047 - mae: 2147.8047\n",
      "Epoch 35/300\n",
      "34/34 [==============================] - 0s 5ms/step - loss: 2263.7883 - mae: 2263.7883\n",
      "Epoch 36/300\n",
      "34/34 [==============================] - 0s 5ms/step - loss: 2126.4207 - mae: 2126.4207\n",
      "Epoch 37/300\n",
      "34/34 [==============================] - 0s 5ms/step - loss: 2093.6917 - mae: 2093.6917\n",
      "Epoch 38/300\n",
      "34/34 [==============================] - 0s 5ms/step - loss: 2106.0576 - mae: 2106.0576\n",
      "Epoch 39/300\n",
      "34/34 [==============================] - 0s 5ms/step - loss: 2062.2166 - mae: 2062.2166\n",
      "Epoch 40/300\n",
      "34/34 [==============================] - 0s 5ms/step - loss: 2132.5730 - mae: 2132.5730\n",
      "Epoch 41/300\n",
      "34/34 [==============================] - 0s 5ms/step - loss: 2253.1277 - mae: 2253.1277\n",
      "Epoch 42/300\n",
      "34/34 [==============================] - 0s 5ms/step - loss: 2104.3723 - mae: 2104.3723\n",
      "Epoch 43/300\n",
      "34/34 [==============================] - 0s 5ms/step - loss: 2103.9578 - mae: 2103.9578\n",
      "Epoch 44/300\n",
      "34/34 [==============================] - 0s 5ms/step - loss: 2111.5510 - mae: 2111.5510\n",
      "Epoch 45/300\n",
      "34/34 [==============================] - 0s 5ms/step - loss: 2111.7080 - mae: 2111.7080\n",
      "Epoch 46/300\n",
      "34/34 [==============================] - 0s 5ms/step - loss: 2032.2694 - mae: 2032.2694\n",
      "Epoch 47/300\n",
      "34/34 [==============================] - 0s 5ms/step - loss: 2077.1328 - mae: 2077.1328\n",
      "Epoch 48/300\n",
      "34/34 [==============================] - 0s 5ms/step - loss: 2153.1689 - mae: 2153.1689\n",
      "Epoch 49/300\n",
      "34/34 [==============================] - 0s 5ms/step - loss: 2087.4988 - mae: 2087.4988\n",
      "Epoch 50/300\n",
      "34/34 [==============================] - 0s 5ms/step - loss: 2103.7510 - mae: 2103.7510\n",
      "Epoch 51/300\n",
      "34/34 [==============================] - 0s 8ms/step - loss: 2140.1169 - mae: 2140.1169\n",
      "Epoch 52/300\n",
      "34/34 [==============================] - 0s 6ms/step - loss: 2114.9355 - mae: 2114.9355\n",
      "Epoch 53/300\n",
      "34/34 [==============================] - 0s 4ms/step - loss: 2158.4387 - mae: 2158.4387\n",
      "Epoch 54/300\n",
      "34/34 [==============================] - 0s 4ms/step - loss: 2074.3801 - mae: 2074.3801\n",
      "Epoch 55/300\n",
      "34/34 [==============================] - 0s 4ms/step - loss: 2169.2578 - mae: 2169.2578\n",
      "Epoch 56/300\n",
      "34/34 [==============================] - 0s 5ms/step - loss: 2177.3569 - mae: 2177.3569\n",
      "Epoch 57/300\n",
      "34/34 [==============================] - 0s 5ms/step - loss: 2032.5764 - mae: 2032.5764\n",
      "Epoch 58/300\n",
      "34/34 [==============================] - 0s 5ms/step - loss: 2135.6750 - mae: 2135.6750\n",
      "Epoch 59/300\n",
      "34/34 [==============================] - 0s 6ms/step - loss: 2068.2258 - mae: 2068.2261\n",
      "Epoch 60/300\n",
      "34/34 [==============================] - 0s 5ms/step - loss: 2089.8870 - mae: 2089.8870\n",
      "Epoch 61/300\n",
      "34/34 [==============================] - 0s 4ms/step - loss: 2066.3525 - mae: 2066.3525\n",
      "Epoch 62/300\n",
      "34/34 [==============================] - 0s 3ms/step - loss: 2124.6677 - mae: 2124.6677\n",
      "Epoch 63/300\n",
      "34/34 [==============================] - 0s 3ms/step - loss: 2124.6655 - mae: 2124.6655\n",
      "Epoch 64/300\n",
      "34/34 [==============================] - 0s 3ms/step - loss: 2059.7666 - mae: 2059.7666\n",
      "Epoch 65/300\n",
      "34/34 [==============================] - 0s 2ms/step - loss: 2008.8612 - mae: 2008.8612\n",
      "Epoch 66/300\n",
      "34/34 [==============================] - 0s 3ms/step - loss: 2070.0132 - mae: 2070.0132\n",
      "Epoch 67/300\n",
      "34/34 [==============================] - 0s 2ms/step - loss: 2041.9226 - mae: 2041.9226\n",
      "Epoch 68/300\n",
      "34/34 [==============================] - 0s 2ms/step - loss: 2041.7296 - mae: 2041.7296\n",
      "Epoch 69/300\n",
      "34/34 [==============================] - 0s 2ms/step - loss: 2022.7201 - mae: 2022.7201\n",
      "Epoch 70/300\n",
      "34/34 [==============================] - 0s 3ms/step - loss: 2036.1764 - mae: 2036.1764\n",
      "Epoch 71/300\n",
      "34/34 [==============================] - 0s 3ms/step - loss: 2057.9604 - mae: 2057.9604\n",
      "Epoch 72/300\n",
      "34/34 [==============================] - 0s 3ms/step - loss: 1976.2465 - mae: 1976.2465\n",
      "Epoch 73/300\n",
      "34/34 [==============================] - 0s 3ms/step - loss: 2150.9233 - mae: 2150.9233\n",
      "Epoch 74/300\n",
      "34/34 [==============================] - 0s 4ms/step - loss: 2052.9233 - mae: 2052.9233\n",
      "Epoch 75/300\n",
      "34/34 [==============================] - 0s 3ms/step - loss: 1949.6780 - mae: 1949.6780\n",
      "Epoch 76/300\n",
      "34/34 [==============================] - 0s 3ms/step - loss: 2006.4579 - mae: 2006.4579\n",
      "Epoch 77/300\n",
      "34/34 [==============================] - 0s 3ms/step - loss: 1980.6582 - mae: 1980.6582\n",
      "Epoch 78/300\n",
      "34/34 [==============================] - 0s 3ms/step - loss: 1972.9657 - mae: 1972.9657\n",
      "Epoch 79/300\n",
      "34/34 [==============================] - 0s 3ms/step - loss: 2030.0759 - mae: 2030.0759\n",
      "Epoch 80/300\n",
      "34/34 [==============================] - 0s 4ms/step - loss: 1987.9021 - mae: 1987.9021\n",
      "Epoch 81/300\n",
      "34/34 [==============================] - 0s 4ms/step - loss: 1927.4738 - mae: 1927.4738\n",
      "Epoch 82/300\n",
      "34/34 [==============================] - 0s 4ms/step - loss: 1948.9653 - mae: 1948.9653\n",
      "Epoch 83/300\n",
      "34/34 [==============================] - 0s 4ms/step - loss: 1955.7463 - mae: 1955.7463\n",
      "Epoch 84/300\n",
      "34/34 [==============================] - 0s 4ms/step - loss: 1898.1738 - mae: 1898.1738\n",
      "Epoch 85/300\n",
      "34/34 [==============================] - 0s 4ms/step - loss: 1898.1505 - mae: 1898.1505\n",
      "Epoch 86/300\n",
      "34/34 [==============================] - 0s 3ms/step - loss: 1990.4893 - mae: 1990.4893\n",
      "Epoch 87/300\n",
      "34/34 [==============================] - 0s 3ms/step - loss: 2089.6287 - mae: 2089.6287\n",
      "Epoch 88/300\n",
      "34/34 [==============================] - 0s 4ms/step - loss: 2051.6511 - mae: 2051.6511\n",
      "Epoch 89/300\n",
      "34/34 [==============================] - 0s 4ms/step - loss: 2009.4133 - mae: 2009.4133\n",
      "Epoch 90/300\n",
      "34/34 [==============================] - 0s 4ms/step - loss: 2038.0450 - mae: 2038.0450\n",
      "Epoch 91/300\n",
      "34/34 [==============================] - 0s 4ms/step - loss: 1994.1376 - mae: 1994.1376\n",
      "Epoch 92/300\n",
      "34/34 [==============================] - 0s 3ms/step - loss: 1976.0961 - mae: 1976.0961\n",
      "Epoch 93/300\n",
      "34/34 [==============================] - 0s 3ms/step - loss: 1871.7917 - mae: 1871.7917\n",
      "Epoch 94/300\n",
      "34/34 [==============================] - 0s 4ms/step - loss: 1969.5834 - mae: 1969.5834\n",
      "Epoch 95/300\n",
      "34/34 [==============================] - 0s 3ms/step - loss: 1898.1376 - mae: 1898.1376\n",
      "Epoch 96/300\n",
      "34/34 [==============================] - 0s 4ms/step - loss: 1883.7081 - mae: 1883.7081\n",
      "Epoch 97/300\n",
      "34/34 [==============================] - 0s 3ms/step - loss: 1909.4753 - mae: 1909.4753\n",
      "Epoch 98/300\n",
      "34/34 [==============================] - 0s 4ms/step - loss: 1878.0040 - mae: 1878.0040\n",
      "Epoch 99/300\n",
      "34/34 [==============================] - 0s 5ms/step - loss: 1885.2263 - mae: 1885.2263\n",
      "Epoch 100/300\n",
      "34/34 [==============================] - 0s 5ms/step - loss: 1862.9828 - mae: 1862.9828\n",
      "Epoch 101/300\n",
      "34/34 [==============================] - 0s 5ms/step - loss: 1906.2778 - mae: 1906.2778\n",
      "Epoch 102/300\n",
      "34/34 [==============================] - 0s 5ms/step - loss: 2000.4803 - mae: 2000.4803\n",
      "Epoch 103/300\n",
      "34/34 [==============================] - 0s 5ms/step - loss: 1860.0590 - mae: 1860.0590\n",
      "Epoch 104/300\n",
      "34/34 [==============================] - 0s 5ms/step - loss: 1841.5416 - mae: 1841.5416\n",
      "Epoch 105/300\n",
      "34/34 [==============================] - 0s 5ms/step - loss: 1868.4152 - mae: 1868.4152\n",
      "Epoch 106/300\n",
      "34/34 [==============================] - 0s 5ms/step - loss: 1877.4062 - mae: 1877.4062\n",
      "Epoch 107/300\n",
      "34/34 [==============================] - 0s 5ms/step - loss: 1813.9547 - mae: 1813.9547\n",
      "Epoch 108/300\n",
      "34/34 [==============================] - 0s 5ms/step - loss: 1831.2620 - mae: 1831.2620\n",
      "Epoch 109/300\n",
      "34/34 [==============================] - 0s 5ms/step - loss: 1841.1771 - mae: 1841.1771\n",
      "Epoch 110/300\n",
      "34/34 [==============================] - 0s 5ms/step - loss: 1853.3501 - mae: 1853.3501\n",
      "Epoch 111/300\n",
      "34/34 [==============================] - 0s 5ms/step - loss: 1881.6337 - mae: 1881.6337\n",
      "Epoch 112/300\n",
      "34/34 [==============================] - 0s 5ms/step - loss: 1856.8837 - mae: 1856.8837\n",
      "Epoch 113/300\n",
      "34/34 [==============================] - 0s 5ms/step - loss: 1881.6934 - mae: 1881.6934\n",
      "Epoch 114/300\n",
      "34/34 [==============================] - 0s 5ms/step - loss: 1813.6731 - mae: 1813.6731\n",
      "Epoch 115/300\n",
      "34/34 [==============================] - 0s 5ms/step - loss: 1856.1085 - mae: 1856.1085\n",
      "Epoch 116/300\n",
      "34/34 [==============================] - 0s 5ms/step - loss: 1897.4170 - mae: 1897.4170\n",
      "Epoch 117/300\n",
      "34/34 [==============================] - 0s 5ms/step - loss: 1956.3341 - mae: 1956.3341\n",
      "Epoch 118/300\n",
      "34/34 [==============================] - 0s 5ms/step - loss: 1815.8429 - mae: 1815.8429\n",
      "Epoch 119/300\n",
      "34/34 [==============================] - 0s 5ms/step - loss: 1897.1112 - mae: 1897.1112\n",
      "Epoch 120/300\n",
      "34/34 [==============================] - 0s 5ms/step - loss: 1821.6682 - mae: 1821.6682\n",
      "Epoch 121/300\n",
      "34/34 [==============================] - 0s 5ms/step - loss: 1870.7061 - mae: 1870.7061\n",
      "Epoch 122/300\n",
      "34/34 [==============================] - 0s 5ms/step - loss: 1936.5684 - mae: 1936.5684\n",
      "Epoch 123/300\n",
      "34/34 [==============================] - 0s 5ms/step - loss: 1866.8318 - mae: 1866.8318\n",
      "Epoch 124/300\n",
      "34/34 [==============================] - 0s 5ms/step - loss: 1888.9443 - mae: 1888.9443\n",
      "Epoch 125/300\n",
      "34/34 [==============================] - 0s 5ms/step - loss: 1877.8612 - mae: 1877.8612\n",
      "Epoch 126/300\n",
      "34/34 [==============================] - 0s 5ms/step - loss: 1822.4552 - mae: 1822.4552\n",
      "Epoch 127/300\n",
      "34/34 [==============================] - 0s 5ms/step - loss: 1828.8915 - mae: 1828.8915\n",
      "Epoch 128/300\n",
      "34/34 [==============================] - 0s 5ms/step - loss: 1839.9303 - mae: 1839.9303\n",
      "Epoch 129/300\n",
      "34/34 [==============================] - 0s 5ms/step - loss: 1808.8516 - mae: 1808.8516\n",
      "Epoch 130/300\n",
      "34/34 [==============================] - 0s 5ms/step - loss: 1821.2841 - mae: 1821.2841\n",
      "Epoch 131/300\n",
      "34/34 [==============================] - 0s 5ms/step - loss: 1823.5049 - mae: 1823.5049\n",
      "Epoch 132/300\n",
      "34/34 [==============================] - 0s 5ms/step - loss: 1785.9163 - mae: 1785.9163\n",
      "Epoch 133/300\n",
      "34/34 [==============================] - 0s 5ms/step - loss: 1828.9897 - mae: 1828.9897\n",
      "Epoch 134/300\n",
      "34/34 [==============================] - 0s 5ms/step - loss: 1802.5415 - mae: 1802.5415\n",
      "Epoch 135/300\n",
      "34/34 [==============================] - 0s 5ms/step - loss: 1784.9113 - mae: 1784.9113\n",
      "Epoch 136/300\n",
      "34/34 [==============================] - 0s 5ms/step - loss: 1750.8167 - mae: 1750.8167\n",
      "Epoch 137/300\n",
      "34/34 [==============================] - 0s 5ms/step - loss: 1819.8567 - mae: 1819.8567\n",
      "Epoch 138/300\n",
      "34/34 [==============================] - 0s 5ms/step - loss: 1878.1237 - mae: 1878.1237\n",
      "Epoch 139/300\n",
      "34/34 [==============================] - 0s 5ms/step - loss: 1994.9080 - mae: 1994.9080\n",
      "Epoch 140/300\n",
      "34/34 [==============================] - 0s 5ms/step - loss: 1871.1025 - mae: 1871.1025\n",
      "Epoch 141/300\n",
      "34/34 [==============================] - 0s 5ms/step - loss: 1794.2318 - mae: 1794.2318\n",
      "Epoch 142/300\n",
      "34/34 [==============================] - 0s 5ms/step - loss: 1814.5544 - mae: 1814.5544\n",
      "Epoch 143/300\n",
      "34/34 [==============================] - 0s 5ms/step - loss: 1793.7571 - mae: 1793.7571\n",
      "Epoch 144/300\n",
      "34/34 [==============================] - 0s 5ms/step - loss: 1907.2382 - mae: 1907.2382\n",
      "Epoch 145/300\n",
      "34/34 [==============================] - 0s 5ms/step - loss: 1870.7302 - mae: 1870.7302\n",
      "Epoch 146/300\n",
      "34/34 [==============================] - 0s 5ms/step - loss: 1744.7758 - mae: 1744.7758\n",
      "Epoch 147/300\n",
      "34/34 [==============================] - 0s 5ms/step - loss: 1891.5399 - mae: 1891.5399\n",
      "Epoch 148/300\n",
      "34/34 [==============================] - 0s 5ms/step - loss: 1782.0216 - mae: 1782.0216\n",
      "Epoch 149/300\n",
      "34/34 [==============================] - 0s 5ms/step - loss: 1884.9685 - mae: 1884.9685\n",
      "Epoch 150/300\n",
      "34/34 [==============================] - 0s 5ms/step - loss: 2050.2571 - mae: 2050.2571\n",
      "Epoch 151/300\n",
      "34/34 [==============================] - 0s 6ms/step - loss: 1848.6586 - mae: 1848.6586\n",
      "Epoch 152/300\n",
      "34/34 [==============================] - 0s 6ms/step - loss: 1737.3618 - mae: 1737.3618\n",
      "Epoch 153/300\n",
      "34/34 [==============================] - 0s 6ms/step - loss: 1763.6495 - mae: 1763.6495\n",
      "Epoch 154/300\n",
      "34/34 [==============================] - 0s 5ms/step - loss: 1780.8385 - mae: 1780.8385\n",
      "Epoch 155/300\n",
      "34/34 [==============================] - 0s 4ms/step - loss: 1809.3523 - mae: 1809.3523\n",
      "Epoch 156/300\n",
      "34/34 [==============================] - 0s 4ms/step - loss: 1856.8818 - mae: 1856.8818\n",
      "Epoch 157/300\n",
      "34/34 [==============================] - 0s 4ms/step - loss: 1812.7717 - mae: 1812.7717\n",
      "Epoch 158/300\n",
      "34/34 [==============================] - 0s 4ms/step - loss: 1788.0100 - mae: 1788.0100\n",
      "Epoch 159/300\n",
      "34/34 [==============================] - 0s 5ms/step - loss: 1810.5242 - mae: 1810.5242\n",
      "Epoch 160/300\n",
      "34/34 [==============================] - 0s 5ms/step - loss: 1911.0657 - mae: 1911.0657\n",
      "Epoch 161/300\n",
      "34/34 [==============================] - 0s 5ms/step - loss: 1805.8265 - mae: 1805.8265\n",
      "Epoch 162/300\n",
      "34/34 [==============================] - 0s 4ms/step - loss: 1913.0431 - mae: 1913.0431\n",
      "Epoch 163/300\n",
      "34/34 [==============================] - 0s 5ms/step - loss: 1709.2524 - mae: 1709.2524\n",
      "Epoch 164/300\n",
      "34/34 [==============================] - 0s 5ms/step - loss: 1691.7417 - mae: 1691.7417\n",
      "Epoch 165/300\n",
      "34/34 [==============================] - 0s 5ms/step - loss: 1819.9261 - mae: 1819.9261\n",
      "Epoch 166/300\n",
      "34/34 [==============================] - 0s 5ms/step - loss: 1960.2832 - mae: 1960.2832\n",
      "Epoch 167/300\n",
      "34/34 [==============================] - 0s 5ms/step - loss: 1802.6105 - mae: 1802.6105\n",
      "Epoch 168/300\n",
      "34/34 [==============================] - 0s 5ms/step - loss: 1785.8833 - mae: 1785.8833\n",
      "Epoch 169/300\n",
      "34/34 [==============================] - 0s 4ms/step - loss: 1755.2183 - mae: 1755.2183\n",
      "Epoch 170/300\n",
      "34/34 [==============================] - 0s 5ms/step - loss: 1895.8094 - mae: 1895.8094\n",
      "Epoch 171/300\n",
      "34/34 [==============================] - 0s 5ms/step - loss: 1826.0195 - mae: 1826.0195\n",
      "Epoch 172/300\n",
      "34/34 [==============================] - 0s 5ms/step - loss: 1805.2214 - mae: 1805.2214\n",
      "Epoch 173/300\n",
      "34/34 [==============================] - 0s 5ms/step - loss: 1810.9475 - mae: 1810.9475\n",
      "Epoch 174/300\n",
      "34/34 [==============================] - 0s 5ms/step - loss: 1747.1925 - mae: 1747.1925\n",
      "Epoch 175/300\n",
      "34/34 [==============================] - 0s 5ms/step - loss: 1732.0055 - mae: 1732.0055\n",
      "Epoch 176/300\n",
      "34/34 [==============================] - 0s 5ms/step - loss: 1740.5698 - mae: 1740.5698\n",
      "Epoch 177/300\n",
      "34/34 [==============================] - 0s 5ms/step - loss: 1745.6888 - mae: 1745.6888\n",
      "Epoch 178/300\n",
      "34/34 [==============================] - 0s 5ms/step - loss: 1768.6495 - mae: 1768.6495\n",
      "Epoch 179/300\n",
      "34/34 [==============================] - 0s 5ms/step - loss: 1813.2136 - mae: 1813.2136\n",
      "Epoch 180/300\n",
      "34/34 [==============================] - 0s 4ms/step - loss: 1819.7004 - mae: 1819.7004\n",
      "Epoch 181/300\n",
      "34/34 [==============================] - 0s 5ms/step - loss: 1764.2935 - mae: 1764.2935\n",
      "Epoch 182/300\n",
      "34/34 [==============================] - 0s 5ms/step - loss: 1932.2010 - mae: 1932.2010\n",
      "Epoch 183/300\n",
      "34/34 [==============================] - 0s 5ms/step - loss: 1766.8811 - mae: 1766.8811\n",
      "Epoch 184/300\n",
      "34/34 [==============================] - 0s 5ms/step - loss: 1713.7861 - mae: 1713.7861\n",
      "Epoch 185/300\n",
      "34/34 [==============================] - 0s 5ms/step - loss: 1734.5986 - mae: 1734.5986\n",
      "Epoch 186/300\n",
      "34/34 [==============================] - 0s 5ms/step - loss: 1787.9041 - mae: 1787.9041\n",
      "Epoch 187/300\n",
      "34/34 [==============================] - 0s 5ms/step - loss: 1710.1431 - mae: 1710.1431\n",
      "Epoch 188/300\n",
      "34/34 [==============================] - 0s 5ms/step - loss: 1688.1283 - mae: 1688.1283\n",
      "Epoch 189/300\n",
      "34/34 [==============================] - 0s 5ms/step - loss: 1770.0122 - mae: 1770.0122\n",
      "Epoch 190/300\n",
      "34/34 [==============================] - 0s 5ms/step - loss: 1733.4208 - mae: 1733.4208\n",
      "Epoch 191/300\n",
      "34/34 [==============================] - 0s 5ms/step - loss: 1758.0730 - mae: 1758.0730\n",
      "Epoch 192/300\n",
      "34/34 [==============================] - 0s 5ms/step - loss: 1854.1531 - mae: 1854.1531\n",
      "Epoch 193/300\n",
      "34/34 [==============================] - 0s 5ms/step - loss: 1753.5079 - mae: 1753.5079\n",
      "Epoch 194/300\n",
      "34/34 [==============================] - 0s 5ms/step - loss: 1781.7106 - mae: 1781.7106\n",
      "Epoch 195/300\n",
      "34/34 [==============================] - 0s 5ms/step - loss: 1867.8894 - mae: 1867.8894\n",
      "Epoch 196/300\n",
      "34/34 [==============================] - 0s 5ms/step - loss: 1743.5677 - mae: 1743.5677\n",
      "Epoch 197/300\n",
      "34/34 [==============================] - 0s 5ms/step - loss: 1886.5845 - mae: 1886.5845\n",
      "Epoch 198/300\n",
      "34/34 [==============================] - 0s 5ms/step - loss: 1721.8802 - mae: 1721.8802\n",
      "Epoch 199/300\n",
      "34/34 [==============================] - 0s 4ms/step - loss: 1849.1754 - mae: 1849.1754\n",
      "Epoch 200/300\n",
      "34/34 [==============================] - 0s 5ms/step - loss: 1779.1344 - mae: 1779.1344\n",
      "Epoch 201/300\n",
      "34/34 [==============================] - 0s 5ms/step - loss: 1771.9880 - mae: 1771.9880\n",
      "Epoch 202/300\n",
      "34/34 [==============================] - 0s 5ms/step - loss: 1837.8864 - mae: 1837.8864\n",
      "Epoch 203/300\n",
      "34/34 [==============================] - 0s 5ms/step - loss: 1735.3411 - mae: 1735.3411\n",
      "Epoch 204/300\n",
      "34/34 [==============================] - 0s 5ms/step - loss: 1755.4695 - mae: 1755.4695\n",
      "Epoch 205/300\n",
      "34/34 [==============================] - 0s 5ms/step - loss: 1804.5825 - mae: 1804.5825\n",
      "Epoch 206/300\n",
      "34/34 [==============================] - 0s 5ms/step - loss: 1813.9336 - mae: 1813.9336\n",
      "Epoch 207/300\n",
      "34/34 [==============================] - 0s 5ms/step - loss: 1790.2512 - mae: 1790.2512\n",
      "Epoch 208/300\n",
      "34/34 [==============================] - 0s 5ms/step - loss: 1855.3438 - mae: 1855.3438\n",
      "Epoch 209/300\n",
      "34/34 [==============================] - 0s 5ms/step - loss: 1733.0034 - mae: 1733.0034\n",
      "Epoch 210/300\n",
      "34/34 [==============================] - 0s 5ms/step - loss: 1698.8546 - mae: 1698.8546\n",
      "Epoch 211/300\n",
      "34/34 [==============================] - 0s 5ms/step - loss: 1731.5372 - mae: 1731.5372\n",
      "Epoch 212/300\n",
      "34/34 [==============================] - 0s 5ms/step - loss: 1720.7361 - mae: 1720.7361\n",
      "Epoch 213/300\n",
      "34/34 [==============================] - 0s 6ms/step - loss: 1697.9825 - mae: 1697.9825\n",
      "Epoch 214/300\n",
      "34/34 [==============================] - 0s 6ms/step - loss: 1775.0232 - mae: 1775.0232\n",
      "Epoch 215/300\n",
      "34/34 [==============================] - 0s 4ms/step - loss: 1807.1564 - mae: 1807.1564\n",
      "Epoch 216/300\n",
      "34/34 [==============================] - 0s 4ms/step - loss: 1684.9950 - mae: 1684.9950\n",
      "Epoch 217/300\n",
      "34/34 [==============================] - 0s 3ms/step - loss: 1733.4940 - mae: 1733.4940\n",
      "Epoch 218/300\n",
      "34/34 [==============================] - 0s 3ms/step - loss: 1734.7341 - mae: 1734.7341\n",
      "Epoch 219/300\n",
      "34/34 [==============================] - 0s 4ms/step - loss: 1746.0039 - mae: 1746.0039\n",
      "Epoch 220/300\n",
      "34/34 [==============================] - 0s 3ms/step - loss: 1697.0707 - mae: 1697.0707\n",
      "Epoch 221/300\n",
      "34/34 [==============================] - 0s 3ms/step - loss: 1737.6410 - mae: 1737.6410\n",
      "Epoch 222/300\n",
      "34/34 [==============================] - 0s 3ms/step - loss: 1765.5909 - mae: 1765.5909\n",
      "Epoch 223/300\n",
      "34/34 [==============================] - 0s 3ms/step - loss: 1733.5210 - mae: 1733.5210\n",
      "Epoch 224/300\n",
      "34/34 [==============================] - 0s 3ms/step - loss: 1841.3595 - mae: 1841.3595\n",
      "Epoch 225/300\n",
      "34/34 [==============================] - 0s 4ms/step - loss: 1782.7013 - mae: 1782.7013\n",
      "Epoch 226/300\n",
      "34/34 [==============================] - 0s 5ms/step - loss: 1787.2789 - mae: 1787.2789\n",
      "Epoch 227/300\n",
      "34/34 [==============================] - 0s 5ms/step - loss: 1683.8071 - mae: 1683.8071\n",
      "Epoch 228/300\n",
      "34/34 [==============================] - 0s 5ms/step - loss: 1706.2141 - mae: 1706.2141\n",
      "Epoch 229/300\n",
      "34/34 [==============================] - 0s 5ms/step - loss: 1718.8306 - mae: 1718.8306\n",
      "Epoch 230/300\n",
      "34/34 [==============================] - 0s 5ms/step - loss: 1711.0835 - mae: 1711.0835\n",
      "Epoch 231/300\n",
      "34/34 [==============================] - 0s 5ms/step - loss: 1685.2916 - mae: 1685.2916\n",
      "Epoch 232/300\n",
      "34/34 [==============================] - 0s 5ms/step - loss: 1747.0133 - mae: 1747.0133\n",
      "Epoch 233/300\n",
      "34/34 [==============================] - 0s 5ms/step - loss: 1713.7078 - mae: 1713.7078\n",
      "Epoch 234/300\n",
      "34/34 [==============================] - 0s 5ms/step - loss: 1771.7294 - mae: 1771.7294\n",
      "Epoch 235/300\n",
      "34/34 [==============================] - 0s 5ms/step - loss: 1732.9567 - mae: 1732.9567\n",
      "Epoch 236/300\n",
      "34/34 [==============================] - 0s 5ms/step - loss: 1668.0587 - mae: 1668.0587\n",
      "Epoch 237/300\n",
      "34/34 [==============================] - 0s 5ms/step - loss: 1730.5824 - mae: 1730.5824\n",
      "Epoch 238/300\n",
      "34/34 [==============================] - 0s 5ms/step - loss: 1678.7957 - mae: 1678.7957\n",
      "Epoch 239/300\n",
      "34/34 [==============================] - 0s 5ms/step - loss: 1703.8713 - mae: 1703.8713\n",
      "Epoch 240/300\n",
      "34/34 [==============================] - 0s 5ms/step - loss: 1816.1155 - mae: 1816.1155\n",
      "Epoch 241/300\n",
      "34/34 [==============================] - 0s 5ms/step - loss: 1778.5941 - mae: 1778.5941\n",
      "Epoch 242/300\n",
      "34/34 [==============================] - 0s 5ms/step - loss: 1860.1432 - mae: 1860.1432\n",
      "Epoch 243/300\n",
      "34/34 [==============================] - 0s 5ms/step - loss: 1750.0546 - mae: 1750.0546\n",
      "Epoch 244/300\n",
      "34/34 [==============================] - 0s 5ms/step - loss: 1742.5620 - mae: 1742.5620\n",
      "Epoch 245/300\n",
      "34/34 [==============================] - 0s 5ms/step - loss: 1767.6183 - mae: 1767.6183\n",
      "Epoch 246/300\n",
      "34/34 [==============================] - 0s 5ms/step - loss: 1749.5961 - mae: 1749.5961\n",
      "Epoch 247/300\n",
      "34/34 [==============================] - 0s 5ms/step - loss: 1747.4753 - mae: 1747.4753\n",
      "Epoch 248/300\n",
      "34/34 [==============================] - 0s 5ms/step - loss: 1812.5927 - mae: 1812.5927\n",
      "Epoch 249/300\n",
      "34/34 [==============================] - 0s 5ms/step - loss: 1738.0366 - mae: 1738.0366\n",
      "Epoch 250/300\n",
      "34/34 [==============================] - 0s 5ms/step - loss: 1707.5981 - mae: 1707.5981\n",
      "Epoch 251/300\n",
      "34/34 [==============================] - 0s 5ms/step - loss: 1673.7487 - mae: 1673.7487\n",
      "Epoch 252/300\n",
      "34/34 [==============================] - 0s 5ms/step - loss: 1698.3116 - mae: 1698.3116\n",
      "Epoch 253/300\n",
      "34/34 [==============================] - 0s 5ms/step - loss: 1695.0448 - mae: 1695.0448\n",
      "Epoch 254/300\n",
      "34/34 [==============================] - 0s 5ms/step - loss: 1645.3821 - mae: 1645.3821\n",
      "Epoch 255/300\n",
      "34/34 [==============================] - 0s 5ms/step - loss: 1730.4642 - mae: 1730.4642\n",
      "Epoch 256/300\n",
      "34/34 [==============================] - 0s 5ms/step - loss: 1729.0919 - mae: 1729.0919\n",
      "Epoch 257/300\n",
      "34/34 [==============================] - 0s 5ms/step - loss: 1708.6980 - mae: 1708.6980\n",
      "Epoch 258/300\n",
      "34/34 [==============================] - 0s 5ms/step - loss: 1689.2739 - mae: 1689.2739\n",
      "Epoch 259/300\n",
      "34/34 [==============================] - 0s 5ms/step - loss: 1669.9427 - mae: 1669.9427\n",
      "Epoch 260/300\n",
      "34/34 [==============================] - 0s 5ms/step - loss: 1698.6921 - mae: 1698.6921\n",
      "Epoch 261/300\n",
      "34/34 [==============================] - 0s 5ms/step - loss: 1743.3115 - mae: 1743.3115\n",
      "Epoch 262/300\n",
      "34/34 [==============================] - 0s 5ms/step - loss: 1679.0933 - mae: 1679.0933\n",
      "Epoch 263/300\n",
      "34/34 [==============================] - 0s 5ms/step - loss: 1723.8102 - mae: 1723.8102\n",
      "Epoch 264/300\n",
      "34/34 [==============================] - 0s 5ms/step - loss: 1627.5360 - mae: 1627.5360\n",
      "Epoch 265/300\n",
      "34/34 [==============================] - 0s 5ms/step - loss: 1668.1578 - mae: 1668.1578\n",
      "Epoch 266/300\n",
      "34/34 [==============================] - 0s 5ms/step - loss: 1861.9655 - mae: 1861.9655\n",
      "Epoch 267/300\n",
      "34/34 [==============================] - 0s 5ms/step - loss: 1765.9156 - mae: 1765.9156\n",
      "Epoch 268/300\n",
      "34/34 [==============================] - 0s 5ms/step - loss: 1774.1887 - mae: 1774.1887\n",
      "Epoch 269/300\n",
      "34/34 [==============================] - 0s 5ms/step - loss: 1739.0641 - mae: 1739.0641\n",
      "Epoch 270/300\n",
      "34/34 [==============================] - 0s 5ms/step - loss: 1683.5343 - mae: 1683.5343\n",
      "Epoch 271/300\n",
      "34/34 [==============================] - 0s 5ms/step - loss: 1655.5969 - mae: 1655.5969\n",
      "Epoch 272/300\n",
      "34/34 [==============================] - 0s 7ms/step - loss: 1629.7051 - mae: 1629.7051\n",
      "Epoch 273/300\n",
      "34/34 [==============================] - 0s 6ms/step - loss: 1721.3798 - mae: 1721.3798\n",
      "Epoch 274/300\n",
      "34/34 [==============================] - 0s 5ms/step - loss: 1765.5674 - mae: 1765.5674\n",
      "Epoch 275/300\n",
      "34/34 [==============================] - 0s 5ms/step - loss: 1679.7576 - mae: 1679.7576\n",
      "Epoch 276/300\n",
      "34/34 [==============================] - 0s 4ms/step - loss: 1720.6328 - mae: 1720.6328\n",
      "Epoch 277/300\n",
      "34/34 [==============================] - 0s 4ms/step - loss: 1702.2531 - mae: 1702.2531\n",
      "Epoch 278/300\n",
      "34/34 [==============================] - 0s 4ms/step - loss: 1657.8483 - mae: 1657.8483\n",
      "Epoch 279/300\n",
      "34/34 [==============================] - 0s 4ms/step - loss: 1618.8850 - mae: 1618.8850\n",
      "Epoch 280/300\n",
      "34/34 [==============================] - 0s 4ms/step - loss: 1734.9789 - mae: 1734.9789\n",
      "Epoch 281/300\n",
      "34/34 [==============================] - 0s 5ms/step - loss: 1739.4728 - mae: 1739.4728\n",
      "Epoch 282/300\n",
      "34/34 [==============================] - 0s 5ms/step - loss: 1659.0573 - mae: 1659.0573\n",
      "Epoch 283/300\n",
      "34/34 [==============================] - 0s 5ms/step - loss: 1699.6405 - mae: 1699.6405\n",
      "Epoch 284/300\n",
      "34/34 [==============================] - 0s 5ms/step - loss: 1771.6984 - mae: 1771.6984\n",
      "Epoch 285/300\n",
      "34/34 [==============================] - 0s 5ms/step - loss: 1729.4243 - mae: 1729.4243\n",
      "Epoch 286/300\n",
      "34/34 [==============================] - 0s 5ms/step - loss: 1688.4672 - mae: 1688.4672\n",
      "Epoch 287/300\n",
      "34/34 [==============================] - 0s 5ms/step - loss: 1720.7935 - mae: 1720.7935\n",
      "Epoch 288/300\n",
      "34/34 [==============================] - 0s 5ms/step - loss: 1721.9321 - mae: 1721.9321\n",
      "Epoch 289/300\n",
      "34/34 [==============================] - 0s 5ms/step - loss: 1667.4778 - mae: 1667.4778\n",
      "Epoch 290/300\n",
      "34/34 [==============================] - 0s 5ms/step - loss: 1717.1287 - mae: 1717.1287\n",
      "Epoch 291/300\n",
      "34/34 [==============================] - 0s 5ms/step - loss: 1648.7410 - mae: 1648.7410\n",
      "Epoch 292/300\n",
      "34/34 [==============================] - 0s 5ms/step - loss: 1749.1101 - mae: 1749.1101\n",
      "Epoch 293/300\n",
      "34/34 [==============================] - 0s 9ms/step - loss: 1747.8737 - mae: 1747.8737\n",
      "Epoch 294/300\n",
      "34/34 [==============================] - 0s 5ms/step - loss: 1682.8234 - mae: 1682.8234\n",
      "Epoch 295/300\n",
      "34/34 [==============================] - 0s 4ms/step - loss: 1657.1549 - mae: 1657.1549\n",
      "Epoch 296/300\n",
      "34/34 [==============================] - 0s 4ms/step - loss: 1648.2734 - mae: 1648.2734\n",
      "Epoch 297/300\n",
      "34/34 [==============================] - 0s 4ms/step - loss: 1668.0200 - mae: 1668.0200\n",
      "Epoch 298/300\n",
      "34/34 [==============================] - 0s 4ms/step - loss: 1771.5096 - mae: 1771.5096\n",
      "Epoch 299/300\n",
      "34/34 [==============================] - 0s 5ms/step - loss: 1698.1597 - mae: 1698.1597\n",
      "Epoch 300/300\n",
      "34/34 [==============================] - 0s 4ms/step - loss: 1685.6823 - mae: 1685.6823\n"
     ]
    }
   ],
   "source": [
    "insurance_m3 = tf.keras.Sequential(name = \"Insurance_Prediction_Model\")\n",
    "insurance_m3.add(tf.keras.layers.Dense(\n",
    "  units = 250,\n",
    "  name = \"hidden_layer_1\",\n",
    "  activation = 'relu'\n",
    "))\n",
    "insurance_m3.add(tf.keras.layers.Dense(\n",
    "  units = 150,\n",
    "  name = \"hidden_layer_2\",\n",
    "))\n",
    "insurance_m3.add(tf.keras.layers.Dense(\n",
    "  units = 100,\n",
    "  name = \"hidden_layer_3\"\n",
    "))\n",
    "insurance_m3.add(tf.keras.layers.Dense(\n",
    "  units = 1,\n",
    "  name = \"ouput_layer\",\n",
    "  activation = \"relu\"\n",
    "))\n",
    "\n",
    "insurance_m3.compile(\n",
    "  loss = 'mae',\n",
    "  optimizer = tf.keras.optimizers.Adam(learning_rate = 0.01),\n",
    "  metrics = 'mae'\n",
    ")\n",
    "\n",
    "insurance_m3_h = insurance_m3.fit(x_train_n, y_train, epochs = 300)"
   ]
  },
  {
   "cell_type": "code",
   "execution_count": 128,
   "metadata": {},
   "outputs": [
    {
     "name": "stdout",
     "output_type": "stream",
     "text": [
      "9/9 [==============================] - 0s 3ms/step - loss: 1815.7798 - mae: 1815.7798\n"
     ]
    }
   ],
   "source": [
    "eval_insurance_m3 = insurance_m3.evaluate(x_test_n, y_test)"
   ]
  },
  {
   "cell_type": "code",
   "execution_count": 129,
   "metadata": {},
   "outputs": [
    {
     "name": "stdout",
     "output_type": "stream",
     "text": [
      "9/9 [==============================] - 2s 4ms/step\n"
     ]
    }
   ],
   "source": [
    "y_pred = insurance_m3.predict(x_test_n)"
   ]
  },
  {
   "cell_type": "code",
   "execution_count": 130,
   "metadata": {},
   "outputs": [
    {
     "name": "stdout",
     "output_type": "stream",
     "text": [
      "Predicted:  [8950.332] \n",
      " Test:  9095.06825 \n",
      " Difference:  [144.73633]\n"
     ]
    }
   ],
   "source": [
    "index = 0\n",
    "\n",
    "print(\"Predicted: \", y_pred[index], \"\\n\",\n",
    "      \"Test: \", y_test[index].numpy(), \"\\n\",\n",
    "      \"Difference: \", y_test[index].numpy() - y_pred[index])"
   ]
  },
  {
   "cell_type": "code",
   "execution_count": 131,
   "metadata": {},
   "outputs": [
    {
     "data": {
      "image/png": "[encoded data removed]",
      "text/plain": [
       "<Figure size 432x288 with 1 Axes>"
      ]
     },
     "metadata": {
      "needs_background": "light"
     },
     "output_type": "display_data"
    }
   ],
   "source": [
    "nnr.pred_test_sPlt(y_test.numpy(), y_pred)"
   ]
  },
  {
   "cell_type": "code",
   "execution_count": 127,
   "metadata": {},
   "outputs": [
    {
     "data": {
      "image/png": "[encoded data removed]",
      "text/plain": [
       "<Figure size 432x288 with 1 Axes>"
      ]
     },
     "metadata": {
      "needs_background": "light"
     },
     "output_type": "display_data"
    }
   ],
   "source": [
    "nnr.dataFrame(insurance_m3_h)"
   ]
  },
  {
   "cell_type": "code",
   "execution_count": 133,
   "metadata": {},
   "outputs": [
    {
     "name": "stdout",
     "output_type": "stream",
     "text": [
      "Training Loss:  1685.682 \n",
      "Evaluation Loss:  1815.78 \n",
      "Difference:  130.098\n"
     ]
    }
   ],
   "source": [
    "nnr.train_eval_comparison_native(insurance_m3_h, eval_insurance_m3)"
   ]
  },
  {
   "cell_type": "code",
   "execution_count": 134,
   "metadata": {},
   "outputs": [
    {
     "data": {
      "text/html": [
       "<div>\n",
       "<style scoped>\n",
       "    .dataframe tbody tr th:only-of-type {\n",
       "        vertical-align: middle;\n",
       "    }\n",
       "\n",
       "    .dataframe tbody tr th {\n",
       "        vertical-align: top;\n",
       "    }\n",
       "\n",
       "    .dataframe thead th {\n",
       "        text-align: right;\n",
       "    }\n",
       "</style>\n",
       "<table border=\"1\" class=\"dataframe\">\n",
       "  <thead>\n",
       "    <tr style=\"text-align: right;\">\n",
       "      <th></th>\n",
       "      <th>Data</th>\n",
       "      <th>Loss</th>\n",
       "      <th>MAE</th>\n",
       "    </tr>\n",
       "  </thead>\n",
       "  <tbody>\n",
       "    <tr>\n",
       "      <th>0</th>\n",
       "      <td>Training Data</td>\n",
       "      <td>1685.682</td>\n",
       "      <td>1685.682</td>\n",
       "    </tr>\n",
       "    <tr>\n",
       "      <th>1</th>\n",
       "      <td>Evaluation Data</td>\n",
       "      <td>1815.780</td>\n",
       "      <td>1815.780</td>\n",
       "    </tr>\n",
       "    <tr>\n",
       "      <th>2</th>\n",
       "      <td>Difference</td>\n",
       "      <td>-130.098</td>\n",
       "      <td>-130.098</td>\n",
       "    </tr>\n",
       "  </tbody>\n",
       "</table>\n",
       "</div>"
      ],
      "text/plain": [
       "              Data      Loss       MAE\n",
       "0    Training Data  1685.682  1685.682\n",
       "1  Evaluation Data  1815.780  1815.780\n",
       "2       Difference  -130.098  -130.098"
      ]
     },
     "execution_count": 134,
     "metadata": {},
     "output_type": "execute_result"
    }
   ],
   "source": [
    "nnr.train_eval_comparison_panda_table(insurance_m3_h, eval_insurance_m3)"
   ]
  },
  {
   "cell_type": "markdown",
   "metadata": {},
   "source": [
    "#### Saving/Loading of Models and History and Evaluation of Saved Models and History"
   ]
  },
  {
   "cell_type": "markdown",
   "metadata": {},
   "source": [
    "##### Saving Model and History"
   ]
  },
  {
   "cell_type": "code",
   "execution_count": 135,
   "metadata": {},
   "outputs": [
    {
     "data": {
      "image/png": "[encoded data removed]",
      "text/plain": [
       "<IPython.core.display.Image object>"
      ]
     },
     "execution_count": 135,
     "metadata": {},
     "output_type": "execute_result"
    }
   ],
   "source": [
    "nnr.save(\"./saved_files/NNRSC/Insurance_Model/m_3/\", \"insurance_m3\", insurance_m3_h, insurance_m3)"
   ]
  },
  {
   "cell_type": "markdown",
   "metadata": {},
   "source": [
    "##### Loading Model and History"
   ]
  },
  {
   "cell_type": "code",
   "execution_count": 136,
   "metadata": {},
   "outputs": [],
   "source": [
    "insurance_m3_h5 = tf.keras.models.load_model(\"./saved_files/NNRSC/Insurance_Model/m_3/insurance_m3.h5\")\n",
    "insurance_m3_h_json = nnr.loadHist(\"./saved_files/NNRSC/Insurance_Model/m_3/insurance_m3_h.json\")"
   ]
  },
  {
   "cell_type": "markdown",
   "metadata": {},
   "source": [
    "##### Evaluation of Saved Data"
   ]
  },
  {
   "cell_type": "code",
   "execution_count": 139,
   "metadata": {},
   "outputs": [
    {
     "name": "stdout",
     "output_type": "stream",
     "text": [
      "9/9 [==============================] - 0s 5ms/step - loss: 1815.7798 - mae: 1815.7798\n"
     ]
    }
   ],
   "source": [
    "eval_insurance_m3 = insurance_m3_h5.evaluate(x_test_n, y_test)"
   ]
  },
  {
   "cell_type": "code",
   "execution_count": 141,
   "metadata": {},
   "outputs": [
    {
     "name": "stdout",
     "output_type": "stream",
     "text": [
      "9/9 [==============================] - 0s 4ms/step\n"
     ]
    }
   ],
   "source": [
    "y_pred = insurance_m3_h5.predict(x_test_n)"
   ]
  },
  {
   "cell_type": "code",
   "execution_count": 142,
   "metadata": {},
   "outputs": [
    {
     "name": "stdout",
     "output_type": "stream",
     "text": [
      "Predicted:  [8950.332] \n",
      " Test:  9095.06825 \n",
      " Difference:  [144.73633]\n"
     ]
    }
   ],
   "source": [
    "index = 0\n",
    "\n",
    "print(\"Predicted: \", y_pred[index], \"\\n\",\n",
    "      \"Test: \", y_test[index].numpy(), \"\\n\",\n",
    "      \"Difference: \", y_test[index].numpy() - y_pred[index])"
   ]
  },
  {
   "cell_type": "code",
   "execution_count": 144,
   "metadata": {},
   "outputs": [
    {
     "data": {
      "image/png": "[encoded data removed]",
      "text/plain": [
       "<Figure size 432x288 with 1 Axes>"
      ]
     },
     "metadata": {
      "needs_background": "light"
     },
     "output_type": "display_data"
    }
   ],
   "source": [
    "nnr.pred_test_sPlt(y_test.numpy(), y_pred)"
   ]
  },
  {
   "cell_type": "code",
   "execution_count": 145,
   "metadata": {},
   "outputs": [
    {
     "data": {
      "image/png": "[encoded data removed]",
      "text/plain": [
       "<Figure size 432x288 with 1 Axes>"
      ]
     },
     "metadata": {
      "needs_background": "light"
     },
     "output_type": "display_data"
    }
   ],
   "source": [
    "nnr.dataFrame_lh(insurance_m3_h_json)"
   ]
  },
  {
   "cell_type": "code",
   "execution_count": 146,
   "metadata": {},
   "outputs": [
    {
     "name": "stdout",
     "output_type": "stream",
     "text": [
      "Training Loss:  1685.682 \n",
      "Evaluation Loss:  1815.78 \n",
      "Difference:  130.098\n"
     ]
    }
   ],
   "source": [
    "nnr.train_eval_comparison_native_lh(insurance_m3_h_json, eval_insurance_m3)"
   ]
  },
  {
   "cell_type": "code",
   "execution_count": 147,
   "metadata": {},
   "outputs": [
    {
     "data": {
      "text/html": [
       "<div>\n",
       "<style scoped>\n",
       "    .dataframe tbody tr th:only-of-type {\n",
       "        vertical-align: middle;\n",
       "    }\n",
       "\n",
       "    .dataframe tbody tr th {\n",
       "        vertical-align: top;\n",
       "    }\n",
       "\n",
       "    .dataframe thead th {\n",
       "        text-align: right;\n",
       "    }\n",
       "</style>\n",
       "<table border=\"1\" class=\"dataframe\">\n",
       "  <thead>\n",
       "    <tr style=\"text-align: right;\">\n",
       "      <th></th>\n",
       "      <th>Data</th>\n",
       "      <th>Loss</th>\n",
       "      <th>MAE</th>\n",
       "    </tr>\n",
       "  </thead>\n",
       "  <tbody>\n",
       "    <tr>\n",
       "      <th>0</th>\n",
       "      <td>Training Data</td>\n",
       "      <td>1685.682</td>\n",
       "      <td>1685.682</td>\n",
       "    </tr>\n",
       "    <tr>\n",
       "      <th>1</th>\n",
       "      <td>Evaluation Data</td>\n",
       "      <td>1815.780</td>\n",
       "      <td>1815.780</td>\n",
       "    </tr>\n",
       "    <tr>\n",
       "      <th>2</th>\n",
       "      <td>Difference</td>\n",
       "      <td>-130.098</td>\n",
       "      <td>-130.098</td>\n",
       "    </tr>\n",
       "  </tbody>\n",
       "</table>\n",
       "</div>"
      ],
      "text/plain": [
       "              Data      Loss       MAE\n",
       "0    Training Data  1685.682  1685.682\n",
       "1  Evaluation Data  1815.780  1815.780\n",
       "2       Difference  -130.098  -130.098"
      ]
     },
     "execution_count": 147,
     "metadata": {},
     "output_type": "execute_result"
    }
   ],
   "source": [
    "nnr.train_eval_comparison_panda_table_lh(insurance_m3_h_json, eval_insurance_m3)"
   ]
  },
  {
   "cell_type": "markdown",
   "metadata": {},
   "source": [
    "### Model 4"
   ]
  },
  {
   "cell_type": "markdown",
   "metadata": {},
   "source": [
    "#### Modeling"
   ]
  },
  {
   "cell_type": "code",
   "execution_count": 156,
   "metadata": {},
   "outputs": [
    {
     "name": "stdout",
     "output_type": "stream",
     "text": [
      "Epoch 1/300\n",
      "34/34 [==============================] - 2s 7ms/step - loss: 8805.3818 - mae: 8805.3818\n",
      "Epoch 2/300\n",
      "34/34 [==============================] - 0s 7ms/step - loss: 3988.8303 - mae: 3988.8303\n",
      "Epoch 3/300\n",
      "34/34 [==============================] - 0s 7ms/step - loss: 3482.9143 - mae: 3482.9143\n",
      "Epoch 4/300\n",
      "34/34 [==============================] - 0s 7ms/step - loss: 3449.5200 - mae: 3449.5200\n",
      "Epoch 5/300\n",
      "34/34 [==============================] - 0s 7ms/step - loss: 3034.6873 - mae: 3034.6873\n",
      "Epoch 6/300\n",
      "34/34 [==============================] - 0s 6ms/step - loss: 2816.0742 - mae: 2816.0742\n",
      "Epoch 7/300\n",
      "34/34 [==============================] - 0s 7ms/step - loss: 2659.6057 - mae: 2659.6057\n",
      "Epoch 8/300\n",
      "34/34 [==============================] - 0s 7ms/step - loss: 2462.4314 - mae: 2462.4314\n",
      "Epoch 9/300\n",
      "34/34 [==============================] - 0s 7ms/step - loss: 2488.0413 - mae: 2488.0413\n",
      "Epoch 10/300\n",
      "34/34 [==============================] - 0s 6ms/step - loss: 2361.2437 - mae: 2361.2437\n",
      "Epoch 11/300\n",
      "34/34 [==============================] - 0s 7ms/step - loss: 2254.1311 - mae: 2254.1311\n",
      "Epoch 12/300\n",
      "34/34 [==============================] - 0s 6ms/step - loss: 2309.2043 - mae: 2309.2043\n",
      "Epoch 13/300\n",
      "34/34 [==============================] - 0s 6ms/step - loss: 2234.1545 - mae: 2234.1545\n",
      "Epoch 14/300\n",
      "34/34 [==============================] - 0s 6ms/step - loss: 2452.6550 - mae: 2452.6550\n",
      "Epoch 15/300\n",
      "34/34 [==============================] - 0s 8ms/step - loss: 2246.7178 - mae: 2246.7178\n",
      "Epoch 16/300\n",
      "34/34 [==============================] - 0s 8ms/step - loss: 2246.1484 - mae: 2246.1484\n",
      "Epoch 17/300\n",
      "34/34 [==============================] - 0s 7ms/step - loss: 2117.5471 - mae: 2117.5471\n",
      "Epoch 18/300\n",
      "34/34 [==============================] - 0s 6ms/step - loss: 2165.4927 - mae: 2165.4927\n",
      "Epoch 19/300\n",
      "34/34 [==============================] - 0s 3ms/step - loss: 2315.5701 - mae: 2315.5701\n",
      "Epoch 20/300\n",
      "34/34 [==============================] - 0s 3ms/step - loss: 2237.2852 - mae: 2237.2852\n",
      "Epoch 21/300\n",
      "34/34 [==============================] - 0s 3ms/step - loss: 2298.6660 - mae: 2298.6660\n",
      "Epoch 22/300\n",
      "34/34 [==============================] - 0s 3ms/step - loss: 2102.3396 - mae: 2102.3396\n",
      "Epoch 23/300\n",
      "34/34 [==============================] - 0s 3ms/step - loss: 2164.9167 - mae: 2164.9167\n",
      "Epoch 24/300\n",
      "34/34 [==============================] - 0s 3ms/step - loss: 2321.0889 - mae: 2321.0889\n",
      "Epoch 25/300\n",
      "34/34 [==============================] - 0s 3ms/step - loss: 2501.2048 - mae: 2501.2048\n",
      "Epoch 26/300\n",
      "34/34 [==============================] - 0s 3ms/step - loss: 2501.0862 - mae: 2501.0862\n",
      "Epoch 27/300\n",
      "34/34 [==============================] - 0s 3ms/step - loss: 2289.9241 - mae: 2289.9241\n",
      "Epoch 28/300\n",
      "34/34 [==============================] - 0s 3ms/step - loss: 2125.2742 - mae: 2125.2742\n",
      "Epoch 29/300\n",
      "34/34 [==============================] - 0s 3ms/step - loss: 2080.9478 - mae: 2080.9478\n",
      "Epoch 30/300\n",
      "34/34 [==============================] - 0s 3ms/step - loss: 2136.9214 - mae: 2136.9214\n",
      "Epoch 31/300\n",
      "34/34 [==============================] - 0s 3ms/step - loss: 2178.7085 - mae: 2178.7085\n",
      "Epoch 32/300\n",
      "34/34 [==============================] - 0s 3ms/step - loss: 2034.1729 - mae: 2034.1729\n",
      "Epoch 33/300\n",
      "34/34 [==============================] - 0s 3ms/step - loss: 2107.1667 - mae: 2107.1667\n",
      "Epoch 34/300\n",
      "34/34 [==============================] - 0s 3ms/step - loss: 2167.4929 - mae: 2167.4929\n",
      "Epoch 35/300\n",
      "34/34 [==============================] - 0s 3ms/step - loss: 2137.5613 - mae: 2137.5613\n",
      "Epoch 36/300\n",
      "34/34 [==============================] - 0s 3ms/step - loss: 2103.8926 - mae: 2103.8926\n",
      "Epoch 37/300\n",
      "34/34 [==============================] - 0s 3ms/step - loss: 2146.5156 - mae: 2146.5156\n",
      "Epoch 38/300\n",
      "34/34 [==============================] - 0s 3ms/step - loss: 2299.5576 - mae: 2299.5576\n",
      "Epoch 39/300\n",
      "34/34 [==============================] - 0s 3ms/step - loss: 2410.9346 - mae: 2410.9346\n",
      "Epoch 40/300\n",
      "34/34 [==============================] - 0s 3ms/step - loss: 2254.0876 - mae: 2254.0876\n",
      "Epoch 41/300\n",
      "34/34 [==============================] - 0s 3ms/step - loss: 2112.8118 - mae: 2112.8118\n",
      "Epoch 42/300\n",
      "34/34 [==============================] - 0s 3ms/step - loss: 2018.5547 - mae: 2018.5547\n",
      "Epoch 43/300\n",
      "34/34 [==============================] - 0s 3ms/step - loss: 2011.7040 - mae: 2011.7040\n",
      "Epoch 44/300\n",
      "34/34 [==============================] - 0s 3ms/step - loss: 2100.0195 - mae: 2100.0195\n",
      "Epoch 45/300\n",
      "34/34 [==============================] - 0s 3ms/step - loss: 2341.6282 - mae: 2341.6282\n",
      "Epoch 46/300\n",
      "34/34 [==============================] - 0s 3ms/step - loss: 2067.6917 - mae: 2067.6917\n",
      "Epoch 47/300\n",
      "34/34 [==============================] - 0s 6ms/step - loss: 2063.4937 - mae: 2063.4937\n",
      "Epoch 48/300\n",
      "34/34 [==============================] - 0s 3ms/step - loss: 2013.5992 - mae: 2013.5992\n",
      "Epoch 49/300\n",
      "34/34 [==============================] - 0s 3ms/step - loss: 2055.1226 - mae: 2055.1226\n",
      "Epoch 50/300\n",
      "34/34 [==============================] - 0s 3ms/step - loss: 2046.3612 - mae: 2046.3612\n",
      "Epoch 51/300\n",
      "34/34 [==============================] - 0s 3ms/step - loss: 2040.2731 - mae: 2040.2731\n",
      "Epoch 52/300\n",
      "34/34 [==============================] - 0s 3ms/step - loss: 2240.3901 - mae: 2240.3901\n",
      "Epoch 53/300\n",
      "34/34 [==============================] - 0s 3ms/step - loss: 2196.9614 - mae: 2196.9614\n",
      "Epoch 54/300\n",
      "34/34 [==============================] - 0s 3ms/step - loss: 2207.1838 - mae: 2207.1838\n",
      "Epoch 55/300\n",
      "34/34 [==============================] - 0s 3ms/step - loss: 2090.5823 - mae: 2090.5823\n",
      "Epoch 56/300\n",
      "34/34 [==============================] - 0s 3ms/step - loss: 2035.3297 - mae: 2035.3297\n",
      "Epoch 57/300\n",
      "34/34 [==============================] - 0s 3ms/step - loss: 1997.8640 - mae: 1997.8640\n",
      "Epoch 58/300\n",
      "34/34 [==============================] - 0s 3ms/step - loss: 2056.0000 - mae: 2056.0000\n",
      "Epoch 59/300\n",
      "34/34 [==============================] - 0s 3ms/step - loss: 2040.5560 - mae: 2040.5560\n",
      "Epoch 60/300\n",
      "34/34 [==============================] - 0s 3ms/step - loss: 2178.5601 - mae: 2178.5601\n",
      "Epoch 61/300\n",
      "34/34 [==============================] - 0s 3ms/step - loss: 2139.2666 - mae: 2139.2666\n",
      "Epoch 62/300\n",
      "34/34 [==============================] - 0s 3ms/step - loss: 2001.1262 - mae: 2001.1262\n",
      "Epoch 63/300\n",
      "34/34 [==============================] - 0s 3ms/step - loss: 1997.9788 - mae: 1997.9788\n",
      "Epoch 64/300\n",
      "34/34 [==============================] - 0s 3ms/step - loss: 2194.0576 - mae: 2194.0576\n",
      "Epoch 65/300\n",
      "34/34 [==============================] - 0s 3ms/step - loss: 1958.7777 - mae: 1958.7777\n",
      "Epoch 66/300\n",
      "34/34 [==============================] - 0s 3ms/step - loss: 1912.6490 - mae: 1912.6490\n",
      "Epoch 67/300\n",
      "34/34 [==============================] - 0s 3ms/step - loss: 1951.4130 - mae: 1951.4130\n",
      "Epoch 68/300\n",
      "34/34 [==============================] - 0s 3ms/step - loss: 1916.9479 - mae: 1916.9479\n",
      "Epoch 69/300\n",
      "34/34 [==============================] - 0s 3ms/step - loss: 2019.5573 - mae: 2019.5573\n",
      "Epoch 70/300\n",
      "34/34 [==============================] - 0s 3ms/step - loss: 1969.8607 - mae: 1969.8607\n",
      "Epoch 71/300\n",
      "34/34 [==============================] - 0s 3ms/step - loss: 2046.4113 - mae: 2046.4113\n",
      "Epoch 72/300\n",
      "34/34 [==============================] - 0s 3ms/step - loss: 1992.9874 - mae: 1992.9874\n",
      "Epoch 73/300\n",
      "34/34 [==============================] - 0s 4ms/step - loss: 1977.9762 - mae: 1977.9762\n",
      "Epoch 74/300\n",
      "34/34 [==============================] - 0s 3ms/step - loss: 2022.0673 - mae: 2022.0673\n",
      "Epoch 75/300\n",
      "34/34 [==============================] - 0s 3ms/step - loss: 2024.4519 - mae: 2024.4519\n",
      "Epoch 76/300\n",
      "34/34 [==============================] - 0s 3ms/step - loss: 2019.2316 - mae: 2019.2316\n",
      "Epoch 77/300\n",
      "34/34 [==============================] - 0s 3ms/step - loss: 2007.3850 - mae: 2007.3850\n",
      "Epoch 78/300\n",
      "34/34 [==============================] - 0s 3ms/step - loss: 2039.8535 - mae: 2039.8535\n",
      "Epoch 79/300\n",
      "34/34 [==============================] - 0s 3ms/step - loss: 2038.4126 - mae: 2038.4126\n",
      "Epoch 80/300\n",
      "34/34 [==============================] - 0s 3ms/step - loss: 1953.2334 - mae: 1953.2334\n",
      "Epoch 81/300\n",
      "34/34 [==============================] - 0s 3ms/step - loss: 1984.0640 - mae: 1984.0640\n",
      "Epoch 82/300\n",
      "34/34 [==============================] - 0s 3ms/step - loss: 2029.5248 - mae: 2029.5248\n",
      "Epoch 83/300\n",
      "34/34 [==============================] - 0s 3ms/step - loss: 2142.4614 - mae: 2142.4614\n",
      "Epoch 84/300\n",
      "34/34 [==============================] - 0s 3ms/step - loss: 2096.2593 - mae: 2096.2593\n",
      "Epoch 85/300\n",
      "34/34 [==============================] - 0s 3ms/step - loss: 2089.0503 - mae: 2089.0503\n",
      "Epoch 86/300\n",
      "34/34 [==============================] - 0s 3ms/step - loss: 1895.0859 - mae: 1895.0859\n",
      "Epoch 87/300\n",
      "34/34 [==============================] - 0s 3ms/step - loss: 2196.8994 - mae: 2196.8994\n",
      "Epoch 88/300\n",
      "34/34 [==============================] - 0s 3ms/step - loss: 1985.3234 - mae: 1985.3234\n",
      "Epoch 89/300\n",
      "34/34 [==============================] - 0s 3ms/step - loss: 2080.4458 - mae: 2080.4458\n",
      "Epoch 90/300\n",
      "34/34 [==============================] - 0s 3ms/step - loss: 2078.6743 - mae: 2078.6743\n",
      "Epoch 91/300\n",
      "34/34 [==============================] - 0s 3ms/step - loss: 1990.9031 - mae: 1990.9031\n",
      "Epoch 92/300\n",
      "34/34 [==============================] - 0s 3ms/step - loss: 2211.3931 - mae: 2211.3931\n",
      "Epoch 93/300\n",
      "34/34 [==============================] - 0s 3ms/step - loss: 1986.7129 - mae: 1986.7129\n",
      "Epoch 94/300\n",
      "34/34 [==============================] - 0s 3ms/step - loss: 1940.0261 - mae: 1940.0261\n",
      "Epoch 95/300\n",
      "34/34 [==============================] - 0s 4ms/step - loss: 2052.6206 - mae: 2052.6206\n",
      "Epoch 96/300\n",
      "34/34 [==============================] - 0s 3ms/step - loss: 2008.0774 - mae: 2008.0774\n",
      "Epoch 97/300\n",
      "34/34 [==============================] - 0s 3ms/step - loss: 1972.5028 - mae: 1972.5028\n",
      "Epoch 98/300\n",
      "34/34 [==============================] - 0s 3ms/step - loss: 1937.5687 - mae: 1937.5687\n",
      "Epoch 99/300\n",
      "34/34 [==============================] - 0s 3ms/step - loss: 1890.8416 - mae: 1890.8416\n",
      "Epoch 100/300\n",
      "34/34 [==============================] - 0s 3ms/step - loss: 1887.8580 - mae: 1887.8580\n",
      "Epoch 101/300\n",
      "34/34 [==============================] - 0s 3ms/step - loss: 1964.3173 - mae: 1964.3173\n",
      "Epoch 102/300\n",
      "34/34 [==============================] - 0s 3ms/step - loss: 2008.7007 - mae: 2008.7007\n",
      "Epoch 103/300\n",
      "34/34 [==============================] - 0s 3ms/step - loss: 1912.6783 - mae: 1912.6783\n",
      "Epoch 104/300\n",
      "34/34 [==============================] - 0s 3ms/step - loss: 1902.4661 - mae: 1902.4661\n",
      "Epoch 105/300\n",
      "34/34 [==============================] - 0s 3ms/step - loss: 2006.9895 - mae: 2006.9895\n",
      "Epoch 106/300\n",
      "34/34 [==============================] - 0s 3ms/step - loss: 1922.6138 - mae: 1922.6138\n",
      "Epoch 107/300\n",
      "34/34 [==============================] - 0s 3ms/step - loss: 1937.3687 - mae: 1937.3687\n",
      "Epoch 108/300\n",
      "34/34 [==============================] - 0s 3ms/step - loss: 1925.7323 - mae: 1925.7323\n",
      "Epoch 109/300\n",
      "34/34 [==============================] - 0s 3ms/step - loss: 1963.9231 - mae: 1963.9231\n",
      "Epoch 110/300\n",
      "34/34 [==============================] - 0s 3ms/step - loss: 2137.6846 - mae: 2137.6846\n",
      "Epoch 111/300\n",
      "34/34 [==============================] - 0s 3ms/step - loss: 2012.9958 - mae: 2012.9958\n",
      "Epoch 112/300\n",
      "34/34 [==============================] - 0s 4ms/step - loss: 1952.1436 - mae: 1952.1436\n",
      "Epoch 113/300\n",
      "34/34 [==============================] - 0s 4ms/step - loss: 1910.2076 - mae: 1910.2076\n",
      "Epoch 114/300\n",
      "34/34 [==============================] - 0s 4ms/step - loss: 1924.2273 - mae: 1924.2273\n",
      "Epoch 115/300\n",
      "34/34 [==============================] - 0s 3ms/step - loss: 1994.9241 - mae: 1994.9241\n",
      "Epoch 116/300\n",
      "34/34 [==============================] - 0s 3ms/step - loss: 1913.9467 - mae: 1913.9467\n",
      "Epoch 117/300\n",
      "34/34 [==============================] - 0s 3ms/step - loss: 1945.1991 - mae: 1945.1991\n",
      "Epoch 118/300\n",
      "34/34 [==============================] - 0s 3ms/step - loss: 2049.5479 - mae: 2049.5479\n",
      "Epoch 119/300\n",
      "34/34 [==============================] - 0s 3ms/step - loss: 2098.2305 - mae: 2098.2305\n",
      "Epoch 120/300\n",
      "34/34 [==============================] - 0s 3ms/step - loss: 2090.0979 - mae: 2090.0979\n",
      "Epoch 121/300\n",
      "34/34 [==============================] - 0s 3ms/step - loss: 1974.5245 - mae: 1974.5245\n",
      "Epoch 122/300\n",
      "34/34 [==============================] - 0s 3ms/step - loss: 2067.3918 - mae: 2067.3918\n",
      "Epoch 123/300\n",
      "34/34 [==============================] - 0s 3ms/step - loss: 1922.8779 - mae: 1922.8779\n",
      "Epoch 124/300\n",
      "34/34 [==============================] - 0s 3ms/step - loss: 1892.9812 - mae: 1892.9812\n",
      "Epoch 125/300\n",
      "34/34 [==============================] - 0s 3ms/step - loss: 1921.2306 - mae: 1921.2306\n",
      "Epoch 126/300\n",
      "34/34 [==============================] - 0s 3ms/step - loss: 1872.2662 - mae: 1872.2662\n",
      "Epoch 127/300\n",
      "34/34 [==============================] - 0s 3ms/step - loss: 2063.8215 - mae: 2063.8215\n",
      "Epoch 128/300\n",
      "34/34 [==============================] - 0s 3ms/step - loss: 1860.6844 - mae: 1860.6844\n",
      "Epoch 129/300\n",
      "34/34 [==============================] - 0s 3ms/step - loss: 1897.9050 - mae: 1897.9050\n",
      "Epoch 130/300\n",
      "34/34 [==============================] - 0s 3ms/step - loss: 1875.5161 - mae: 1875.5161\n",
      "Epoch 131/300\n",
      "34/34 [==============================] - 0s 3ms/step - loss: 1962.6547 - mae: 1962.6547\n",
      "Epoch 132/300\n",
      "34/34 [==============================] - 0s 3ms/step - loss: 1893.1150 - mae: 1893.1150\n",
      "Epoch 133/300\n",
      "34/34 [==============================] - 0s 3ms/step - loss: 1925.2754 - mae: 1925.2754\n",
      "Epoch 134/300\n",
      "34/34 [==============================] - 0s 3ms/step - loss: 1904.8464 - mae: 1904.8464\n",
      "Epoch 135/300\n",
      "34/34 [==============================] - 0s 3ms/step - loss: 1915.9921 - mae: 1915.9921\n",
      "Epoch 136/300\n",
      "34/34 [==============================] - 0s 3ms/step - loss: 1925.4419 - mae: 1925.4419\n",
      "Epoch 137/300\n",
      "34/34 [==============================] - 0s 3ms/step - loss: 1803.1528 - mae: 1803.1528\n",
      "Epoch 138/300\n",
      "34/34 [==============================] - 0s 3ms/step - loss: 1809.1604 - mae: 1809.1604\n",
      "Epoch 139/300\n",
      "34/34 [==============================] - 0s 3ms/step - loss: 1901.1541 - mae: 1901.1541\n",
      "Epoch 140/300\n",
      "34/34 [==============================] - 0s 3ms/step - loss: 1936.2319 - mae: 1936.2319\n",
      "Epoch 141/300\n",
      "34/34 [==============================] - 0s 4ms/step - loss: 2094.8115 - mae: 2094.8115\n",
      "Epoch 142/300\n",
      "34/34 [==============================] - 0s 3ms/step - loss: 1855.0219 - mae: 1855.0219\n",
      "Epoch 143/300\n",
      "34/34 [==============================] - 0s 3ms/step - loss: 1816.1843 - mae: 1816.1843\n",
      "Epoch 144/300\n",
      "34/34 [==============================] - 0s 3ms/step - loss: 1999.0923 - mae: 1999.0923\n",
      "Epoch 145/300\n",
      "34/34 [==============================] - 0s 3ms/step - loss: 1871.4764 - mae: 1871.4764\n",
      "Epoch 146/300\n",
      "34/34 [==============================] - 0s 3ms/step - loss: 1898.1971 - mae: 1898.1971\n",
      "Epoch 147/300\n",
      "34/34 [==============================] - 0s 3ms/step - loss: 1850.4915 - mae: 1850.4915\n",
      "Epoch 148/300\n",
      "34/34 [==============================] - 0s 3ms/step - loss: 1892.1471 - mae: 1892.1471\n",
      "Epoch 149/300\n",
      "34/34 [==============================] - 0s 3ms/step - loss: 1895.0646 - mae: 1895.0646\n",
      "Epoch 150/300\n",
      "34/34 [==============================] - 0s 3ms/step - loss: 1936.1625 - mae: 1936.1624\n",
      "Epoch 151/300\n",
      "34/34 [==============================] - 0s 3ms/step - loss: 1831.4379 - mae: 1831.4379\n",
      "Epoch 152/300\n",
      "34/34 [==============================] - 0s 3ms/step - loss: 1809.0000 - mae: 1809.0000\n",
      "Epoch 153/300\n",
      "34/34 [==============================] - 0s 3ms/step - loss: 1839.1354 - mae: 1839.1354\n",
      "Epoch 154/300\n",
      "34/34 [==============================] - 0s 3ms/step - loss: 1827.5638 - mae: 1827.5638\n",
      "Epoch 155/300\n",
      "34/34 [==============================] - 0s 3ms/step - loss: 1832.2450 - mae: 1832.2450\n",
      "Epoch 156/300\n",
      "34/34 [==============================] - 0s 3ms/step - loss: 1929.6143 - mae: 1929.6143\n",
      "Epoch 157/300\n",
      "34/34 [==============================] - 0s 3ms/step - loss: 2034.8271 - mae: 2034.8271\n",
      "Epoch 158/300\n",
      "34/34 [==============================] - 0s 3ms/step - loss: 2101.8970 - mae: 2101.8970\n",
      "Epoch 159/300\n",
      "34/34 [==============================] - 0s 3ms/step - loss: 1800.8138 - mae: 1800.8138\n",
      "Epoch 160/300\n",
      "34/34 [==============================] - 0s 3ms/step - loss: 1893.8312 - mae: 1893.8312\n",
      "Epoch 161/300\n",
      "34/34 [==============================] - 0s 3ms/step - loss: 1870.3378 - mae: 1870.3378\n",
      "Epoch 162/300\n",
      "34/34 [==============================] - 0s 3ms/step - loss: 1898.2052 - mae: 1898.2052\n",
      "Epoch 163/300\n",
      "34/34 [==============================] - 0s 3ms/step - loss: 1821.7310 - mae: 1821.7310\n",
      "Epoch 164/300\n",
      "34/34 [==============================] - 0s 3ms/step - loss: 1827.2538 - mae: 1827.2538\n",
      "Epoch 165/300\n",
      "34/34 [==============================] - 0s 3ms/step - loss: 1810.1045 - mae: 1810.1045\n",
      "Epoch 166/300\n",
      "34/34 [==============================] - 0s 3ms/step - loss: 1806.3243 - mae: 1806.3243\n",
      "Epoch 167/300\n",
      "34/34 [==============================] - 0s 3ms/step - loss: 1833.9958 - mae: 1833.9958\n",
      "Epoch 168/300\n",
      "34/34 [==============================] - 0s 3ms/step - loss: 1904.7208 - mae: 1904.7208\n",
      "Epoch 169/300\n",
      "34/34 [==============================] - 0s 3ms/step - loss: 1949.1082 - mae: 1949.1082\n",
      "Epoch 170/300\n",
      "34/34 [==============================] - 0s 3ms/step - loss: 1794.8275 - mae: 1794.8275\n",
      "Epoch 171/300\n",
      "34/34 [==============================] - 0s 3ms/step - loss: 1852.7003 - mae: 1852.7003\n",
      "Epoch 172/300\n",
      "34/34 [==============================] - 0s 3ms/step - loss: 2002.7346 - mae: 2002.7346\n",
      "Epoch 173/300\n",
      "34/34 [==============================] - 0s 3ms/step - loss: 1834.7335 - mae: 1834.7335\n",
      "Epoch 174/300\n",
      "34/34 [==============================] - 0s 3ms/step - loss: 1796.2759 - mae: 1796.2759\n",
      "Epoch 175/300\n",
      "34/34 [==============================] - 0s 3ms/step - loss: 1785.6836 - mae: 1785.6836\n",
      "Epoch 176/300\n",
      "34/34 [==============================] - 0s 3ms/step - loss: 1876.9435 - mae: 1876.9435\n",
      "Epoch 177/300\n",
      "34/34 [==============================] - 0s 3ms/step - loss: 1892.7474 - mae: 1892.7474\n",
      "Epoch 178/300\n",
      "34/34 [==============================] - 0s 3ms/step - loss: 1898.8737 - mae: 1898.8737\n",
      "Epoch 179/300\n",
      "34/34 [==============================] - 0s 3ms/step - loss: 1902.0674 - mae: 1902.0674\n",
      "Epoch 180/300\n",
      "34/34 [==============================] - 0s 3ms/step - loss: 1828.6793 - mae: 1828.6793\n",
      "Epoch 181/300\n",
      "34/34 [==============================] - 0s 3ms/step - loss: 1786.5729 - mae: 1786.5729\n",
      "Epoch 182/300\n",
      "34/34 [==============================] - 0s 3ms/step - loss: 1955.8929 - mae: 1955.8929\n",
      "Epoch 183/300\n",
      "34/34 [==============================] - 0s 3ms/step - loss: 2031.9159 - mae: 2031.9159\n",
      "Epoch 184/300\n",
      "34/34 [==============================] - 0s 3ms/step - loss: 1872.7335 - mae: 1872.7335\n",
      "Epoch 185/300\n",
      "34/34 [==============================] - 0s 3ms/step - loss: 1841.3724 - mae: 1841.3724\n",
      "Epoch 186/300\n",
      "34/34 [==============================] - 0s 3ms/step - loss: 2001.3405 - mae: 2001.3405\n",
      "Epoch 187/300\n",
      "34/34 [==============================] - 0s 3ms/step - loss: 1840.4780 - mae: 1840.4780\n",
      "Epoch 188/300\n",
      "34/34 [==============================] - 0s 3ms/step - loss: 1839.5469 - mae: 1839.5469\n",
      "Epoch 189/300\n",
      "34/34 [==============================] - 0s 3ms/step - loss: 1768.2729 - mae: 1768.2729\n",
      "Epoch 190/300\n",
      "34/34 [==============================] - 0s 3ms/step - loss: 1769.3389 - mae: 1769.3389\n",
      "Epoch 191/300\n",
      "34/34 [==============================] - 0s 3ms/step - loss: 1992.5734 - mae: 1992.5734\n",
      "Epoch 192/300\n",
      "34/34 [==============================] - 0s 3ms/step - loss: 1832.7782 - mae: 1832.7782\n",
      "Epoch 193/300\n",
      "34/34 [==============================] - 0s 3ms/step - loss: 1887.4824 - mae: 1887.4824\n",
      "Epoch 194/300\n",
      "34/34 [==============================] - 0s 4ms/step - loss: 1835.1390 - mae: 1835.1390\n",
      "Epoch 195/300\n",
      "34/34 [==============================] - 0s 3ms/step - loss: 1823.3485 - mae: 1823.3485\n",
      "Epoch 196/300\n",
      "34/34 [==============================] - 0s 3ms/step - loss: 1826.9865 - mae: 1826.9865\n",
      "Epoch 197/300\n",
      "34/34 [==============================] - 0s 3ms/step - loss: 1764.5457 - mae: 1764.5457\n",
      "Epoch 198/300\n",
      "34/34 [==============================] - 0s 3ms/step - loss: 1895.9534 - mae: 1895.9534\n",
      "Epoch 199/300\n",
      "34/34 [==============================] - 0s 3ms/step - loss: 1918.4283 - mae: 1918.4283\n",
      "Epoch 200/300\n",
      "34/34 [==============================] - 0s 3ms/step - loss: 1810.6013 - mae: 1810.6013\n",
      "Epoch 201/300\n",
      "34/34 [==============================] - 0s 3ms/step - loss: 1856.3817 - mae: 1856.3817\n",
      "Epoch 202/300\n",
      "34/34 [==============================] - 0s 3ms/step - loss: 1870.5042 - mae: 1870.5042\n",
      "Epoch 203/300\n",
      "34/34 [==============================] - 0s 3ms/step - loss: 1803.5884 - mae: 1803.5884\n",
      "Epoch 204/300\n",
      "34/34 [==============================] - 0s 3ms/step - loss: 1791.4220 - mae: 1791.4220\n",
      "Epoch 205/300\n",
      "34/34 [==============================] - 0s 3ms/step - loss: 1861.1593 - mae: 1861.1593\n",
      "Epoch 206/300\n",
      "34/34 [==============================] - 0s 3ms/step - loss: 1899.2706 - mae: 1899.2706\n",
      "Epoch 207/300\n",
      "34/34 [==============================] - 0s 3ms/step - loss: 1871.3912 - mae: 1871.3912\n",
      "Epoch 208/300\n",
      "34/34 [==============================] - 0s 3ms/step - loss: 1784.2410 - mae: 1784.2410\n",
      "Epoch 209/300\n",
      "34/34 [==============================] - 0s 3ms/step - loss: 1810.3545 - mae: 1810.3545\n",
      "Epoch 210/300\n",
      "34/34 [==============================] - 0s 3ms/step - loss: 1862.5496 - mae: 1862.5496\n",
      "Epoch 211/300\n",
      "34/34 [==============================] - 0s 3ms/step - loss: 1828.2838 - mae: 1828.2838\n",
      "Epoch 212/300\n",
      "34/34 [==============================] - 0s 4ms/step - loss: 1756.2919 - mae: 1756.2919\n",
      "Epoch 213/300\n",
      "34/34 [==============================] - 0s 4ms/step - loss: 1806.9841 - mae: 1806.9841\n",
      "Epoch 214/300\n",
      "34/34 [==============================] - 0s 4ms/step - loss: 1863.5392 - mae: 1863.5392\n",
      "Epoch 215/300\n",
      "34/34 [==============================] - 0s 3ms/step - loss: 1844.5122 - mae: 1844.5122\n",
      "Epoch 216/300\n",
      "34/34 [==============================] - 0s 3ms/step - loss: 1764.6427 - mae: 1764.6427\n",
      "Epoch 217/300\n",
      "34/34 [==============================] - 0s 3ms/step - loss: 1748.9386 - mae: 1748.9386\n",
      "Epoch 218/300\n",
      "34/34 [==============================] - 0s 4ms/step - loss: 1741.5079 - mae: 1741.5079\n",
      "Epoch 219/300\n",
      "34/34 [==============================] - 0s 3ms/step - loss: 1758.5691 - mae: 1758.5691\n",
      "Epoch 220/300\n",
      "34/34 [==============================] - 0s 3ms/step - loss: 1748.3702 - mae: 1748.3702\n",
      "Epoch 221/300\n",
      "34/34 [==============================] - 0s 3ms/step - loss: 1758.9990 - mae: 1758.9990\n",
      "Epoch 222/300\n",
      "34/34 [==============================] - 0s 3ms/step - loss: 1826.1331 - mae: 1826.1331\n",
      "Epoch 223/300\n",
      "34/34 [==============================] - 0s 3ms/step - loss: 1771.6140 - mae: 1771.6140\n",
      "Epoch 224/300\n",
      "34/34 [==============================] - 0s 3ms/step - loss: 1789.0229 - mae: 1789.0229\n",
      "Epoch 225/300\n",
      "34/34 [==============================] - 0s 3ms/step - loss: 1778.6681 - mae: 1778.6681\n",
      "Epoch 226/300\n",
      "34/34 [==============================] - 0s 3ms/step - loss: 1861.8600 - mae: 1861.8600\n",
      "Epoch 227/300\n",
      "34/34 [==============================] - 0s 3ms/step - loss: 1909.7794 - mae: 1909.7794\n",
      "Epoch 228/300\n",
      "34/34 [==============================] - 0s 3ms/step - loss: 1808.8616 - mae: 1808.8616\n",
      "Epoch 229/300\n",
      "34/34 [==============================] - 0s 3ms/step - loss: 1812.3619 - mae: 1812.3619\n",
      "Epoch 230/300\n",
      "34/34 [==============================] - 0s 3ms/step - loss: 1759.6395 - mae: 1759.6395\n",
      "Epoch 231/300\n",
      "34/34 [==============================] - 0s 3ms/step - loss: 1897.3367 - mae: 1897.3367\n",
      "Epoch 232/300\n",
      "34/34 [==============================] - 0s 3ms/step - loss: 1768.7041 - mae: 1768.7041\n",
      "Epoch 233/300\n",
      "34/34 [==============================] - 0s 3ms/step - loss: 1746.2296 - mae: 1746.2296\n",
      "Epoch 234/300\n",
      "34/34 [==============================] - 0s 3ms/step - loss: 1786.3801 - mae: 1786.3801\n",
      "Epoch 235/300\n",
      "34/34 [==============================] - 0s 3ms/step - loss: 1797.5659 - mae: 1797.5659\n",
      "Epoch 236/300\n",
      "34/34 [==============================] - 0s 3ms/step - loss: 1798.6273 - mae: 1798.6273\n",
      "Epoch 237/300\n",
      "34/34 [==============================] - 0s 3ms/step - loss: 1798.1862 - mae: 1798.1862\n",
      "Epoch 238/300\n",
      "34/34 [==============================] - 0s 3ms/step - loss: 1725.6643 - mae: 1725.6643\n",
      "Epoch 239/300\n",
      "34/34 [==============================] - 0s 3ms/step - loss: 1729.5118 - mae: 1729.5118\n",
      "Epoch 240/300\n",
      "34/34 [==============================] - 0s 3ms/step - loss: 1732.5164 - mae: 1732.5164\n",
      "Epoch 241/300\n",
      "34/34 [==============================] - 0s 3ms/step - loss: 1824.8143 - mae: 1824.8143\n",
      "Epoch 242/300\n",
      "34/34 [==============================] - 0s 4ms/step - loss: 1780.2952 - mae: 1780.2952\n",
      "Epoch 243/300\n",
      "34/34 [==============================] - 0s 4ms/step - loss: 1835.7163 - mae: 1835.7163\n",
      "Epoch 244/300\n",
      "34/34 [==============================] - 0s 4ms/step - loss: 1734.5585 - mae: 1734.5585\n",
      "Epoch 245/300\n",
      "34/34 [==============================] - 0s 3ms/step - loss: 1729.0321 - mae: 1729.0321\n",
      "Epoch 246/300\n",
      "34/34 [==============================] - 0s 3ms/step - loss: 1770.0192 - mae: 1770.0192\n",
      "Epoch 247/300\n",
      "34/34 [==============================] - 0s 3ms/step - loss: 1823.1173 - mae: 1823.1173\n",
      "Epoch 248/300\n",
      "34/34 [==============================] - 0s 3ms/step - loss: 1712.9663 - mae: 1712.9663\n",
      "Epoch 249/300\n",
      "34/34 [==============================] - 0s 3ms/step - loss: 1759.1726 - mae: 1759.1726\n",
      "Epoch 250/300\n",
      "34/34 [==============================] - 0s 3ms/step - loss: 1715.1729 - mae: 1715.1729\n",
      "Epoch 251/300\n",
      "34/34 [==============================] - 0s 3ms/step - loss: 1737.0996 - mae: 1737.0996\n",
      "Epoch 252/300\n",
      "34/34 [==============================] - 0s 3ms/step - loss: 1845.8357 - mae: 1845.8357\n",
      "Epoch 253/300\n",
      "34/34 [==============================] - 0s 3ms/step - loss: 1738.3688 - mae: 1738.3688\n",
      "Epoch 254/300\n",
      "34/34 [==============================] - 0s 3ms/step - loss: 1722.3256 - mae: 1722.3256\n",
      "Epoch 255/300\n",
      "34/34 [==============================] - 0s 3ms/step - loss: 1796.9774 - mae: 1796.9774\n",
      "Epoch 256/300\n",
      "34/34 [==============================] - 0s 3ms/step - loss: 1717.7446 - mae: 1717.7446\n",
      "Epoch 257/300\n",
      "34/34 [==============================] - 0s 3ms/step - loss: 1850.4243 - mae: 1850.4243\n",
      "Epoch 258/300\n",
      "34/34 [==============================] - 0s 3ms/step - loss: 1731.3655 - mae: 1731.3655\n",
      "Epoch 259/300\n",
      "34/34 [==============================] - 0s 3ms/step - loss: 1777.9097 - mae: 1777.9097\n",
      "Epoch 260/300\n",
      "34/34 [==============================] - 0s 3ms/step - loss: 1768.2561 - mae: 1768.2561\n",
      "Epoch 261/300\n",
      "34/34 [==============================] - 0s 3ms/step - loss: 1780.6864 - mae: 1780.6864\n",
      "Epoch 262/300\n",
      "34/34 [==============================] - 0s 3ms/step - loss: 1703.2233 - mae: 1703.2233\n",
      "Epoch 263/300\n",
      "34/34 [==============================] - 0s 3ms/step - loss: 1796.6661 - mae: 1796.6661\n",
      "Epoch 264/300\n",
      "34/34 [==============================] - 0s 3ms/step - loss: 1831.2794 - mae: 1831.2794\n",
      "Epoch 265/300\n",
      "34/34 [==============================] - 0s 3ms/step - loss: 1756.3016 - mae: 1756.3016\n",
      "Epoch 266/300\n",
      "34/34 [==============================] - 0s 3ms/step - loss: 1749.2671 - mae: 1749.2671\n",
      "Epoch 267/300\n",
      "34/34 [==============================] - 0s 3ms/step - loss: 1701.9321 - mae: 1701.9321\n",
      "Epoch 268/300\n",
      "34/34 [==============================] - 0s 3ms/step - loss: 1728.2729 - mae: 1728.2729\n",
      "Epoch 269/300\n",
      "34/34 [==============================] - 0s 3ms/step - loss: 1684.4940 - mae: 1684.4940\n",
      "Epoch 270/300\n",
      "34/34 [==============================] - 0s 3ms/step - loss: 1770.6564 - mae: 1770.6564\n",
      "Epoch 271/300\n",
      "34/34 [==============================] - 0s 3ms/step - loss: 1743.6392 - mae: 1743.6392\n",
      "Epoch 272/300\n",
      "34/34 [==============================] - 0s 3ms/step - loss: 1712.8997 - mae: 1712.8997\n",
      "Epoch 273/300\n",
      "34/34 [==============================] - 0s 3ms/step - loss: 1744.9199 - mae: 1744.9199\n",
      "Epoch 274/300\n",
      "34/34 [==============================] - 0s 3ms/step - loss: 1752.5630 - mae: 1752.5630\n",
      "Epoch 275/300\n",
      "34/34 [==============================] - 0s 3ms/step - loss: 1812.9387 - mae: 1812.9387\n",
      "Epoch 276/300\n",
      "34/34 [==============================] - 0s 3ms/step - loss: 1964.9292 - mae: 1964.9292\n",
      "Epoch 277/300\n",
      "34/34 [==============================] - 0s 3ms/step - loss: 1739.3202 - mae: 1739.3202\n",
      "Epoch 278/300\n",
      "34/34 [==============================] - 0s 3ms/step - loss: 1881.3488 - mae: 1881.3488\n",
      "Epoch 279/300\n",
      "34/34 [==============================] - 0s 3ms/step - loss: 1784.1328 - mae: 1784.1328\n",
      "Epoch 280/300\n",
      "34/34 [==============================] - 0s 3ms/step - loss: 1765.4097 - mae: 1765.4097\n",
      "Epoch 281/300\n",
      "34/34 [==============================] - 0s 3ms/step - loss: 1729.4681 - mae: 1729.4681\n",
      "Epoch 282/300\n",
      "34/34 [==============================] - 0s 3ms/step - loss: 1705.7833 - mae: 1705.7833\n",
      "Epoch 283/300\n",
      "34/34 [==============================] - 0s 3ms/step - loss: 1759.2343 - mae: 1759.2343\n",
      "Epoch 284/300\n",
      "34/34 [==============================] - 0s 3ms/step - loss: 1765.2184 - mae: 1765.2184\n",
      "Epoch 285/300\n",
      "34/34 [==============================] - 0s 3ms/step - loss: 1799.5487 - mae: 1799.5487\n",
      "Epoch 286/300\n",
      "34/34 [==============================] - 0s 3ms/step - loss: 1679.2638 - mae: 1679.2638\n",
      "Epoch 287/300\n",
      "34/34 [==============================] - 0s 3ms/step - loss: 1704.0562 - mae: 1704.0562\n",
      "Epoch 288/300\n",
      "34/34 [==============================] - 0s 4ms/step - loss: 1679.9733 - mae: 1679.9733\n",
      "Epoch 289/300\n",
      "34/34 [==============================] - 0s 3ms/step - loss: 1758.6744 - mae: 1758.6744\n",
      "Epoch 290/300\n",
      "34/34 [==============================] - 0s 3ms/step - loss: 1765.2885 - mae: 1765.2885\n",
      "Epoch 291/300\n",
      "34/34 [==============================] - 0s 3ms/step - loss: 1797.3824 - mae: 1797.3824\n",
      "Epoch 292/300\n",
      "34/34 [==============================] - 0s 3ms/step - loss: 1740.2615 - mae: 1740.2615\n",
      "Epoch 293/300\n",
      "34/34 [==============================] - 0s 3ms/step - loss: 1771.7687 - mae: 1771.7687\n",
      "Epoch 294/300\n",
      "34/34 [==============================] - 0s 3ms/step - loss: 1822.0149 - mae: 1822.0149\n",
      "Epoch 295/300\n",
      "34/34 [==============================] - 0s 3ms/step - loss: 1774.4515 - mae: 1774.4515\n",
      "Epoch 296/300\n",
      "34/34 [==============================] - 0s 3ms/step - loss: 1738.0890 - mae: 1738.0890\n",
      "Epoch 297/300\n",
      "34/34 [==============================] - 0s 3ms/step - loss: 1714.8615 - mae: 1714.8615\n",
      "Epoch 298/300\n",
      "34/34 [==============================] - 0s 3ms/step - loss: 1640.7800 - mae: 1640.7800\n",
      "Epoch 299/300\n",
      "34/34 [==============================] - 0s 3ms/step - loss: 1706.4464 - mae: 1706.4464\n",
      "Epoch 300/300\n",
      "34/34 [==============================] - 0s 3ms/step - loss: 1772.0717 - mae: 1772.0717\n"
     ]
    }
   ],
   "source": [
    "insurance_m4 = tf.keras.Sequential(name = \"Insurance_Prediction_Model\")\n",
    "insurance_m4.add(tf.keras.layers.Dense(\n",
    "  units = 500,\n",
    "  name = \"hidden_layer_1\",\n",
    "  activation = 'relu'\n",
    "))\n",
    "insurance_m4.add(tf.keras.layers.Dense(\n",
    "  units = 250,\n",
    "  name = \"hidden_layer_2\",\n",
    "))\n",
    "insurance_m4.add(tf.keras.layers.Dense(\n",
    "  units = 150,\n",
    "  name = \"hidden_layer_3\"\n",
    "))\n",
    "insurance_m4.add(tf.keras.layers.Dense(\n",
    "  units = 1,\n",
    "  name = \"ouput_layer\",\n",
    "  activation = \"relu\"\n",
    "))\n",
    "\n",
    "insurance_m4.compile(\n",
    "  loss = 'mae',\n",
    "  optimizer = tf.keras.optimizers.Adam(learning_rate = 0.01),\n",
    "  metrics = 'mae'\n",
    ")\n",
    "\n",
    "insurance_m4_h = insurance_m4.fit(x_train_n, y_train, epochs = 300)"
   ]
  },
  {
   "cell_type": "code",
   "execution_count": 157,
   "metadata": {},
   "outputs": [
    {
     "name": "stdout",
     "output_type": "stream",
     "text": [
      "9/9 [==============================] - 0s 5ms/step - loss: 1569.0396 - mae: 1569.0396\n"
     ]
    }
   ],
   "source": [
    "eval_insurance_m4 = insurance_m4.evaluate(x_test_n, y_test)"
   ]
  },
  {
   "cell_type": "code",
   "execution_count": 158,
   "metadata": {},
   "outputs": [
    {
     "name": "stdout",
     "output_type": "stream",
     "text": [
      "9/9 [==============================] - 0s 4ms/step\n"
     ]
    }
   ],
   "source": [
    "y_pred = insurance_m4.predict(x_test_n)"
   ]
  },
  {
   "cell_type": "code",
   "execution_count": 159,
   "metadata": {},
   "outputs": [
    {
     "name": "stdout",
     "output_type": "stream",
     "text": [
      "Predicted:  [8992.197] \n",
      " Test:  9095.06825 \n",
      " Difference:  [102.87109]\n"
     ]
    }
   ],
   "source": [
    "index = 0\n",
    "\n",
    "print(\"Predicted: \", y_pred[index], \"\\n\",\n",
    "      \"Test: \", y_test[index].numpy(), \"\\n\",\n",
    "      \"Difference: \", y_test[index].numpy() - y_pred[index])"
   ]
  },
  {
   "cell_type": "code",
   "execution_count": 160,
   "metadata": {},
   "outputs": [
    {
     "data": {
      "image/png": "[encoded data removed]",
      "text/plain": [
       "<Figure size 432x288 with 1 Axes>"
      ]
     },
     "metadata": {
      "needs_background": "light"
     },
     "output_type": "display_data"
    }
   ],
   "source": [
    "nnr.pred_test_sPlt(y_test.numpy(), y_pred)"
   ]
  },
  {
   "cell_type": "code",
   "execution_count": 161,
   "metadata": {},
   "outputs": [
    {
     "data": {
      "image/png": "[encoded data removed]",
      "text/plain": [
       "<Figure size 432x288 with 1 Axes>"
      ]
     },
     "metadata": {
      "needs_background": "light"
     },
     "output_type": "display_data"
    }
   ],
   "source": [
    "nnr.dataFrame(insurance_m4_h)"
   ]
  },
  {
   "cell_type": "code",
   "execution_count": 162,
   "metadata": {},
   "outputs": [
    {
     "name": "stdout",
     "output_type": "stream",
     "text": [
      "Training Loss:  1772.072 \n",
      "Evaluation Loss:  1569.04 \n",
      "Difference:  203.032\n"
     ]
    }
   ],
   "source": [
    "nnr.train_eval_comparison_native(insurance_m4_h, eval_insurance_m4)"
   ]
  },
  {
   "cell_type": "code",
   "execution_count": 163,
   "metadata": {},
   "outputs": [
    {
     "data": {
      "text/html": [
       "<div>\n",
       "<style scoped>\n",
       "    .dataframe tbody tr th:only-of-type {\n",
       "        vertical-align: middle;\n",
       "    }\n",
       "\n",
       "    .dataframe tbody tr th {\n",
       "        vertical-align: top;\n",
       "    }\n",
       "\n",
       "    .dataframe thead th {\n",
       "        text-align: right;\n",
       "    }\n",
       "</style>\n",
       "<table border=\"1\" class=\"dataframe\">\n",
       "  <thead>\n",
       "    <tr style=\"text-align: right;\">\n",
       "      <th></th>\n",
       "      <th>Data</th>\n",
       "      <th>Loss</th>\n",
       "      <th>MAE</th>\n",
       "    </tr>\n",
       "  </thead>\n",
       "  <tbody>\n",
       "    <tr>\n",
       "      <th>0</th>\n",
       "      <td>Training Data</td>\n",
       "      <td>1772.072</td>\n",
       "      <td>1772.072</td>\n",
       "    </tr>\n",
       "    <tr>\n",
       "      <th>1</th>\n",
       "      <td>Evaluation Data</td>\n",
       "      <td>1569.040</td>\n",
       "      <td>1569.040</td>\n",
       "    </tr>\n",
       "    <tr>\n",
       "      <th>2</th>\n",
       "      <td>Difference</td>\n",
       "      <td>203.032</td>\n",
       "      <td>203.032</td>\n",
       "    </tr>\n",
       "  </tbody>\n",
       "</table>\n",
       "</div>"
      ],
      "text/plain": [
       "              Data      Loss       MAE\n",
       "0    Training Data  1772.072  1772.072\n",
       "1  Evaluation Data  1569.040  1569.040\n",
       "2       Difference   203.032   203.032"
      ]
     },
     "execution_count": 163,
     "metadata": {},
     "output_type": "execute_result"
    }
   ],
   "source": [
    "nnr.train_eval_comparison_panda_table(insurance_m4_h, eval_insurance_m4)"
   ]
  },
  {
   "cell_type": "markdown",
   "metadata": {},
   "source": [
    "#### Saving/Loading of Models and History and Evaluation of Saved Models and History"
   ]
  },
  {
   "cell_type": "markdown",
   "metadata": {},
   "source": [
    "##### Saving Model and History"
   ]
  },
  {
   "cell_type": "code",
   "execution_count": 164,
   "metadata": {},
   "outputs": [
    {
     "data": {
      "image/png": "[encoded data removed]",
      "text/plain": [
       "<IPython.core.display.Image object>"
      ]
     },
     "execution_count": 164,
     "metadata": {},
     "output_type": "execute_result"
    }
   ],
   "source": [
    "nnr.save(\"./saved_files/NNRSC/Insurance_Model/m_4/\", \"insurance_m4\", insurance_m4_h, insurance_m4)"
   ]
  },
  {
   "cell_type": "markdown",
   "metadata": {},
   "source": [
    "##### Loading Model and History"
   ]
  },
  {
   "cell_type": "code",
   "execution_count": 165,
   "metadata": {},
   "outputs": [],
   "source": [
    "insurance_m4_h5 = tf.keras.models.load_model(\"./saved_files/NNRSC/Insurance_Model/m_4/insurance_m4.h5\")\n",
    "insurance_m4_h_json = nnr.loadHist(\"./saved_files/NNRSC/Insurance_Model/m_4/insurance_m4_h.json\")"
   ]
  },
  {
   "cell_type": "markdown",
   "metadata": {},
   "source": [
    "##### Evaluation of Saved Data"
   ]
  },
  {
   "cell_type": "code",
   "execution_count": 166,
   "metadata": {},
   "outputs": [
    {
     "name": "stdout",
     "output_type": "stream",
     "text": [
      "9/9 [==============================] - 0s 2ms/step - loss: 1569.0396 - mae: 1569.0396\n"
     ]
    }
   ],
   "source": [
    "eval_insurance_m4 = insurance_m4_h5.evaluate(x_test_n, y_test)"
   ]
  },
  {
   "cell_type": "code",
   "execution_count": 167,
   "metadata": {},
   "outputs": [
    {
     "name": "stdout",
     "output_type": "stream",
     "text": [
      "9/9 [==============================] - 0s 2ms/step\n"
     ]
    }
   ],
   "source": [
    "y_pred = insurance_m4_h5.predict(x_test_n)"
   ]
  },
  {
   "cell_type": "code",
   "execution_count": 168,
   "metadata": {},
   "outputs": [
    {
     "name": "stdout",
     "output_type": "stream",
     "text": [
      "Predicted:  [8992.197] \n",
      " Test:  9095.06825 \n",
      " Difference:  [102.87109]\n"
     ]
    }
   ],
   "source": [
    "index = 0\n",
    "\n",
    "print(\"Predicted: \", y_pred[index], \"\\n\",\n",
    "      \"Test: \", y_test[index].numpy(), \"\\n\",\n",
    "      \"Difference: \", y_test[index].numpy() - y_pred[index])"
   ]
  },
  {
   "cell_type": "code",
   "execution_count": 169,
   "metadata": {},
   "outputs": [
    {
     "data": {
      "image/png": "[encoded data removed]",
      "text/plain": [
       "<Figure size 432x288 with 1 Axes>"
      ]
     },
     "metadata": {
      "needs_background": "light"
     },
     "output_type": "display_data"
    }
   ],
   "source": [
    "nnr.pred_test_sPlt(y_test.numpy(), y_pred)"
   ]
  },
  {
   "cell_type": "code",
   "execution_count": 170,
   "metadata": {},
   "outputs": [
    {
     "data": {
      "image/png": "[encoded data removed]",
      "text/plain": [
       "<Figure size 432x288 with 1 Axes>"
      ]
     },
     "metadata": {
      "needs_background": "light"
     },
     "output_type": "display_data"
    }
   ],
   "source": [
    "nnr.dataFrame(insurance_m4_h)"
   ]
  },
  {
   "cell_type": "code",
   "execution_count": 171,
   "metadata": {},
   "outputs": [
    {
     "name": "stdout",
     "output_type": "stream",
     "text": [
      "Training Loss:  1772.072 \n",
      "Evaluation Loss:  1569.04 \n",
      "Difference:  203.032\n"
     ]
    }
   ],
   "source": [
    "nnr.train_eval_comparison_native(insurance_m4_h, eval_insurance_m4)"
   ]
  },
  {
   "cell_type": "code",
   "execution_count": 172,
   "metadata": {},
   "outputs": [
    {
     "data": {
      "text/html": [
       "<div>\n",
       "<style scoped>\n",
       "    .dataframe tbody tr th:only-of-type {\n",
       "        vertical-align: middle;\n",
       "    }\n",
       "\n",
       "    .dataframe tbody tr th {\n",
       "        vertical-align: top;\n",
       "    }\n",
       "\n",
       "    .dataframe thead th {\n",
       "        text-align: right;\n",
       "    }\n",
       "</style>\n",
       "<table border=\"1\" class=\"dataframe\">\n",
       "  <thead>\n",
       "    <tr style=\"text-align: right;\">\n",
       "      <th></th>\n",
       "      <th>Data</th>\n",
       "      <th>Loss</th>\n",
       "      <th>MAE</th>\n",
       "    </tr>\n",
       "  </thead>\n",
       "  <tbody>\n",
       "    <tr>\n",
       "      <th>0</th>\n",
       "      <td>Training Data</td>\n",
       "      <td>1772.072</td>\n",
       "      <td>1772.072</td>\n",
       "    </tr>\n",
       "    <tr>\n",
       "      <th>1</th>\n",
       "      <td>Evaluation Data</td>\n",
       "      <td>1569.040</td>\n",
       "      <td>1569.040</td>\n",
       "    </tr>\n",
       "    <tr>\n",
       "      <th>2</th>\n",
       "      <td>Difference</td>\n",
       "      <td>203.032</td>\n",
       "      <td>203.032</td>\n",
       "    </tr>\n",
       "  </tbody>\n",
       "</table>\n",
       "</div>"
      ],
      "text/plain": [
       "              Data      Loss       MAE\n",
       "0    Training Data  1772.072  1772.072\n",
       "1  Evaluation Data  1569.040  1569.040\n",
       "2       Difference   203.032   203.032"
      ]
     },
     "execution_count": 172,
     "metadata": {},
     "output_type": "execute_result"
    }
   ],
   "source": [
    "nnr.train_eval_comparison_panda_table(insurance_m4_h, eval_insurance_m4)\n"
   ]
  },
  {
   "cell_type": "markdown",
   "metadata": {},
   "source": [
    "### Model Summary"
   ]
  },
  {
   "cell_type": "code",
   "execution_count": 175,
   "metadata": {},
   "outputs": [
    {
     "data": {
      "image/png": "[encoded data removed]",
      "text/plain": [
       "<Figure size 432x288 with 1 Axes>"
      ]
     },
     "metadata": {
      "needs_background": "light"
     },
     "output_type": "display_data"
    }
   ],
   "source": [
    "ax = pd.DataFrame(insurance_m0_h_json[\"loss\"]).plot(title = \"Model Summary\")\n",
    "plt.ylabel(\"loss\")\n",
    "plt.xlabel(\"epochs\")\n",
    "pd.DataFrame(insurance_m1_h_json[\"loss\"]).plot(ax = ax)\n",
    "pd.DataFrame(insurance_m2_h_json[\"loss\"]).plot(ax = ax)\n",
    "pd.DataFrame(insurance_m3_h_json[\"loss\"]).plot(ax = ax)\n",
    "pd.DataFrame(insurance_m4_h_json[\"loss\"]).plot(ax = ax)\n",
    "\n",
    "plt.savefig(\"./saved_files/NNRSC/Insurance_Model/Summary_plot.png\")\n",
    "plt.show()"
   ]
  }
 ],
 "metadata": {
  "kernelspec": {
   "display_name": "Python 3.9.13 ('z2m': venv)",
   "language": "python",
   "name": "python3"
  },
  "language_info": {
   "codemirror_mode": {
    "name": "ipython",
    "version": 3
   },
   "file_extension": ".py",
   "mimetype": "text/x-python",
   "name": "python",
   "nbconvert_exporter": "python",
   "pygments_lexer": "ipython3",
   "version": "3.9.13"
  },
  "orig_nbformat": 4,
  "vscode": {
   "interpreter": {
    "hash": "31750ccabe39649fb23c7185758a39970c614753f5a2671b4751a955d70c1323"
   }
  }
 },
 "nbformat": 4,
 "nbformat_minor": 2
}
