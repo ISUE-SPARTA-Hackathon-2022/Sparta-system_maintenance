{
 "cells": [
  {
   "cell_type": "code",
   "execution_count": 1,
   "metadata": {},
   "outputs": [],
   "source": [
    "import tensorflow as tf\n",
    "import helper as helper\n",
    "\n",
    "_helper = helper.helper()"
   ]
  },
  {
   "cell_type": "code",
   "execution_count": 9,
   "metadata": {},
   "outputs": [],
   "source": [
    "from keras import Sequential, Model\n",
    "from keras.utils import plot_model as pltmdl\n",
    "from keras.layers import Dense, Flatten, Conv2D, MaxPool2D, Input\n",
    "from keras.layers import GlobalAveragePooling2D, RandomFlip, RandomCrop\n",
    "from keras.layers import RandomRotation, RandomZoom, RandomHeight, RandomWidth\n",
    "from keras.layers import Rescaling\n",
    "from keras.optimizers import Adam\n",
    "from keras.preprocessing.image import ImageDataGenerator as IDG\n",
    "from keras.utils import image_dataset_from_directory"
   ]
  },
  {
   "cell_type": "code",
   "execution_count": 2,
   "metadata": {},
   "outputs": [
    {
     "data": {
      "text/plain": [
       "<module 'helper' from 'd:\\\\Documents\\\\GitHub\\\\Sparta-system_maintenance\\\\Machine Learning\\\\helper.py'>"
      ]
     },
     "execution_count": 2,
     "metadata": {},
     "output_type": "execute_result"
    }
   ],
   "source": [
    "from importlib import reload\n",
    "reload(sys.modules[\"helper\"])"
   ]
  },
  {
   "cell_type": "code",
   "execution_count": 11,
   "metadata": {},
   "outputs": [
    {
     "name": "stdout",
     "output_type": "stream",
     "text": [
      "Downloaded, Extracted and Saved. Directory: ./resources/10_food_classes_10_percent_a.zip\n"
     ]
    }
   ],
   "source": [
    "try:\n",
    "  _helper.data_preparations.zip_processing('https://storage.googleapis.com/ztm_tf_course/food_vision/10_food_classes_10_percent.zip',\n",
    "                                            '10_food_classes_10_percent_a')\n",
    "except Exception as e:\n",
    "  print(f\"Error: {e}\")\n",
    "  _helper.notifications.error()"
   ]
  },
  {
   "cell_type": "code",
   "execution_count": 13,
   "metadata": {},
   "outputs": [
    {
     "name": "stdout",
     "output_type": "stream",
     "text": [
      "Test Data: \n",
      "Found 2500 files belonging to 10 classes.\n",
      "Train Data: \n",
      "Found 750 files belonging to 10 classes.\n",
      "Class Names: ['chicken_curry', 'chicken_wings', 'fried_rice', 'grilled_salmon', 'hamburger', 'ice_cream', 'pizza', 'ramen', 'steak', 'sushi']\n"
     ]
    }
   ],
   "source": [
    "try:\n",
    "  test_data, train_data, CLASS_NAMES = _helper.data_preparations.train_test_dir_setter(\"./resources/10_food_classes_10_percent\",CLASS_MODE = \"categorical\")\n",
    "except Exception as e:\n",
    "  print(f\"Error: {e}\")\n",
    "  _helper.notifications.error()"
   ]
  },
  {
   "cell_type": "code",
   "execution_count": 1,
   "metadata": {},
   "outputs": [
    {
     "name": "stdout",
     "output_type": "stream",
     "text": [
      "Error: name 'tf' is not defined\n"
     ]
    },
    {
     "ename": "NameError",
     "evalue": "name '_helper' is not defined",
     "output_type": "error",
     "traceback": [
      "\u001b[1;31m---------------------------------------------------------------------------\u001b[0m",
      "\u001b[1;31mNameError\u001b[0m                                 Traceback (most recent call last)",
      "Cell \u001b[1;32mIn [1], line 2\u001b[0m\n\u001b[0;32m      1\u001b[0m \u001b[39mtry\u001b[39;00m:\n\u001b[1;32m----> 2\u001b[0m   model_parts \u001b[39m=\u001b[39m tf\u001b[39m.\u001b[39mkeras\u001b[39m.\u001b[39mapplications\u001b[39m.\u001b[39mEfficientNetB0(include_top \u001b[39m=\u001b[39m \u001b[39mFalse\u001b[39;00m)\n\u001b[0;32m      4\u001b[0m   model_parts\u001b[39m.\u001b[39mtrainable \u001b[39m=\u001b[39m \u001b[39mFalse\u001b[39;00m\n",
      "\u001b[1;31mNameError\u001b[0m: name 'tf' is not defined",
      "\nDuring handling of the above exception, another exception occurred:\n",
      "\u001b[1;31mNameError\u001b[0m                                 Traceback (most recent call last)",
      "Cell \u001b[1;32mIn [1], line 30\u001b[0m\n\u001b[0;32m     28\u001b[0m \u001b[39mexcept\u001b[39;00m \u001b[39mException\u001b[39;00m \u001b[39mas\u001b[39;00m e:\n\u001b[0;32m     29\u001b[0m   \u001b[39mprint\u001b[39m(\u001b[39mf\u001b[39m\u001b[39m\"\u001b[39m\u001b[39mError: \u001b[39m\u001b[39m{\u001b[39;00me\u001b[39m}\u001b[39;00m\u001b[39m\"\u001b[39m)\n\u001b[1;32m---> 30\u001b[0m   _helper\u001b[39m.\u001b[39mnotifications\u001b[39m.\u001b[39merror()\n",
      "\u001b[1;31mNameError\u001b[0m: name '_helper' is not defined"
     ]
    }
   ],
   "source": [
    "try:\n",
    "  model_parts = tf.keras.applications.EfficientNetB0(include_top = False)\n",
    "\n",
    "  model_parts.trainable = False\n",
    "\n",
    "  input = Input(shape = (224, 224, 3), name = \"input_layer\")\n",
    "\n",
    "  x = model_parts(input)\n",
    "  x = GlobalAveragePooling2D(name = \"GAP2D_layer\")(x)\n",
    "  output = Dense(10, activation = \"softmax\", name = \"output_layer\")(x)\n",
    "\n",
    "  model_test = Model(input, output, name = \"ENB0_Model_1\")\n",
    "\n",
    "  model_test.compile(\n",
    "    loss = \"categorical_crossentropy\",\n",
    "    optimizer = Adam(),\n",
    "    metrics = [\"CategoricalAccuracy\", \"Precision\"]\n",
    "  )\n",
    "\n",
    "  model_test_h = model_test.fit(train_data,\n",
    "                          epochs = 15,\n",
    "                          steps_per_epoch = len(train_data),\n",
    "                          validation_data = test_data,\n",
    "                          validation_steps = int(0.25 * len(test_data)),\n",
    "                          callbacks = [_helper.callbacks.tensorboard_callback(\"./log/test\",\n",
    "                                                                              \"A\")])\n",
    "  _helper.notifications.model_callback_notification()\n",
    "except Exception as e:\n",
    "  print(f\"Error: {e}\")\n",
    "  _helper.notifications.error()"
   ]
  },
  {
   "cell_type": "code",
   "execution_count": null,
   "metadata": {},
   "outputs": [],
   "source": []
  }
 ],
 "metadata": {
  "kernelspec": {
   "display_name": "Python 3.10.8 ('Sparta': venv)",
   "language": "python",
   "name": "python3"
  },
  "language_info": {
   "codemirror_mode": {
    "name": "ipython",
    "version": 3
   },
   "file_extension": ".py",
   "mimetype": "text/x-python",
   "name": "python",
   "nbconvert_exporter": "python",
   "pygments_lexer": "ipython3",
   "version": "3.10.8"
  },
  "orig_nbformat": 4,
  "vscode": {
   "interpreter": {
    "hash": "a325f8354c59d5b8e3e6c378b83e7027e07cdd2e48658b2bcc43f133e70682cd"
   }
  }
 },
 "nbformat": 4,
 "nbformat_minor": 2
}
