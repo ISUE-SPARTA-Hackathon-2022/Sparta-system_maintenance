{
 "cells": [
  {
   "cell_type": "code",
   "execution_count": 1,
   "metadata": {},
   "outputs": [
    {
     "name": "stdout",
     "output_type": "stream",
     "text": [
      "2.9.0\n",
      "1/1 [==============================] - 0s 132ms/step\n",
      "[[1194278.6]]\n",
      "INFO:tensorflow:Assets written to: ./assets\n"
     ]
    }
   ],
   "source": [
    "import tensorflow as tf\n",
    "print(tf.__version__)\n",
    "\n",
    "# Import NumPy - package for working with arrays in Python.\n",
    "import numpy as np\n",
    "\n",
    "# Import useful keras functions - this is similar to the\n",
    "# TensorFlow.js Layers API functionality.\n",
    "from keras import Sequential\n",
    "from keras.layers import Dense\n",
    "\n",
    "# Create a new dense layer with 1 unit, and input shape of [1].\n",
    "layer0 = Dense(units=1, input_shape=[1])\n",
    "model = Sequential([layer0])\n",
    "\n",
    "# Compile the model using stochastic gradient descent as optimiser\n",
    "# and the mean squared error loss function.\n",
    "model.compile(optimizer='sgd', loss='mean_absolute_error')\n",
    "\n",
    "# Provide some training data! Here we are using some fictional data \n",
    "# for house square footage and house price (which is simply 1000x the \n",
    "# square footage) which our model must learn for itself.\n",
    "xs = np.array([800.0, 850.0, 900.0, 950.0, 980.0, 1000.0, 1050.0, 1075.0, 1100.0, 1150.0, 1200.0, 1250.0, 1300.0, 1400.0, 1500.0, 1600.0, 1700.0, 1800.0, 1900.0, 2000.0], dtype=float)\n",
    "\n",
    "ys = np.array([800000.0, 850000.0, 900000.0, 950000.0, 980000.0, 1000000.0, 1050000.0, 1075000.0, 1100000.0, 1150000.0, 1200000.0,  1250000.0, 1300000.0, 1400000.0, 1500000.0, 1600000.0, 1700000.0, 1800000.0, 1900000.0, 2000000.0], dtype=float)\n",
    "\n",
    "# Train the model for 500 epochs.\n",
    "\n",
    "model.fit(xs, ys, epochs=500, verbose=0)\n",
    "\n",
    "# Test the trained model on a test input value\n",
    "print(model.predict([1200.0]))\n",
    "\n",
    "# Save the model we just trained to the \"SavedModel\" format to the\n",
    "# same directory our test.py file is located.\n",
    "tf.saved_model.save(model, './')"
   ]
  },
  {
   "cell_type": "code",
   "execution_count": 3,
   "metadata": {},
   "outputs": [],
   "source": [
    "import tensorflowjs as tfjs\n",
    "\n",
    "tfjs.converters.save_keras_model(model, \"./JS\")"
   ]
  },
  {
   "cell_type": "code",
   "execution_count": null,
   "metadata": {},
   "outputs": [],
   "source": []
  },
  {
   "cell_type": "markdown",
   "metadata": {},
   "source": []
  }
 ],
 "metadata": {
  "kernelspec": {
   "display_name": "Python 3.10.8 ('Sparta': venv)",
   "language": "python",
   "name": "python3"
  },
  "language_info": {
   "codemirror_mode": {
    "name": "ipython",
    "version": 3
   },
   "file_extension": ".py",
   "mimetype": "text/x-python",
   "name": "python",
   "nbconvert_exporter": "python",
   "pygments_lexer": "ipython3",
   "version": "3.10.8"
  },
  "orig_nbformat": 4,
  "vscode": {
   "interpreter": {
    "hash": "a325f8354c59d5b8e3e6c378b83e7027e07cdd2e48658b2bcc43f133e70682cd"
   }
  }
 },
 "nbformat": 4,
 "nbformat_minor": 2
}
